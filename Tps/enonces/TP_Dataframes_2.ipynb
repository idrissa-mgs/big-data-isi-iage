{
 "cells": [
  {
   "cell_type": "code",
   "execution_count": 0,
   "metadata": {
    "application/vnd.databricks.v1+cell": {
     "cellMetadata": {
      "byteLimit": 2048000,
      "rowLimit": 10000
     },
     "inputWidgets": {},
     "nuid": "119729ac-580b-49dd-84c4-df3c1f65c912",
     "showTitle": false,
     "title": ""
    }
   },
   "outputs": [],
   "source": [
    "import pyspark.sql.functions as F"
   ]
  },
  {
   "cell_type": "markdown",
   "metadata": {
    "application/vnd.databricks.v1+cell": {
     "cellMetadata": {},
     "inputWidgets": {},
     "nuid": "7af90009-08e3-4c9a-b65d-312bc0592a79",
     "showTitle": false,
     "title": ""
    }
   },
   "source": [
    "Lire le premier dataframe"
   ]
  },
  {
   "cell_type": "code",
   "execution_count": 0,
   "metadata": {
    "application/vnd.databricks.v1+cell": {
     "cellMetadata": {
      "byteLimit": 2048000,
      "rowLimit": 10000
     },
     "inputWidgets": {},
     "nuid": "35f6bc1a-295c-4df1-8963-3fcacd8d2a2f",
     "showTitle": false,
     "title": ""
    }
   },
   "outputs": [],
   "source": [
    "e_commerce_oct_df = spark.read.options(header=True,sep=\",\",inferSchema=True).csv('s3://big-data-module-isi-data/ecommerce-data/2019-Oct.csv')"
   ]
  },
  {
   "cell_type": "markdown",
   "metadata": {
    "application/vnd.databricks.v1+cell": {
     "cellMetadata": {},
     "inputWidgets": {},
     "nuid": "61a1cbba-987b-4ddf-88c8-9e0d011007a2",
     "showTitle": false,
     "title": ""
    }
   },
   "source": [
    "Combien d'éléments compte ce premier dataframe"
   ]
  },
  {
   "cell_type": "code",
   "execution_count": 0,
   "metadata": {
    "application/vnd.databricks.v1+cell": {
     "cellMetadata": {},
     "inputWidgets": {},
     "nuid": "91ddf240-3d66-49e1-a524-a06d8080d08a",
     "showTitle": false,
     "title": ""
    }
   },
   "outputs": [],
   "source": [
    "<TO DO>"
   ]
  },
  {
   "cell_type": "markdown",
   "metadata": {
    "application/vnd.databricks.v1+cell": {
     "cellMetadata": {},
     "inputWidgets": {},
     "nuid": "61da533b-af11-4b6b-9496-1bf29fd11882",
     "showTitle": false,
     "title": ""
    }
   },
   "source": [
    "Afficher le schéma du dataframe, si ce dernier vous semble adapté aux données garder le ainsi sinon modifier le"
   ]
  },
  {
   "cell_type": "code",
   "execution_count": 0,
   "metadata": {
    "application/vnd.databricks.v1+cell": {
     "cellMetadata": {},
     "inputWidgets": {},
     "nuid": "6c39cc97-ed71-4948-86de-c898c9b72cf5",
     "showTitle": false,
     "title": ""
    }
   },
   "outputs": [],
   "source": [
    "<TO DO>"
   ]
  },
  {
   "cell_type": "markdown",
   "metadata": {
    "application/vnd.databricks.v1+cell": {
     "cellMetadata": {},
     "inputWidgets": {},
     "nuid": "8768ca76-d5b3-477c-8d4a-92dd28da3725",
     "showTitle": false,
     "title": ""
    }
   },
   "source": [
    "Afficher les premieres lignes du dataframes"
   ]
  },
  {
   "cell_type": "code",
   "execution_count": 0,
   "metadata": {
    "application/vnd.databricks.v1+cell": {
     "cellMetadata": {},
     "inputWidgets": {},
     "nuid": "d74bf69f-1598-4c9a-b3db-79b2662f6797",
     "showTitle": false,
     "title": ""
    }
   },
   "outputs": [],
   "source": [
    "<TO DO>"
   ]
  },
  {
   "cell_type": "markdown",
   "metadata": {
    "application/vnd.databricks.v1+cell": {
     "cellMetadata": {},
     "inputWidgets": {},
     "nuid": "39b7d6be-58e5-4c60-baf5-45bef238bdce",
     "showTitle": false,
     "title": ""
    }
   },
   "source": [
    "Lire le second dataframe"
   ]
  },
  {
   "cell_type": "code",
   "execution_count": 0,
   "metadata": {
    "application/vnd.databricks.v1+cell": {
     "cellMetadata": {
      "byteLimit": 2048000,
      "rowLimit": 10000
     },
     "inputWidgets": {},
     "nuid": "0a9c1da3-3528-4c0e-a701-24f9791d2c30",
     "showTitle": false,
     "title": ""
    }
   },
   "outputs": [],
   "source": [
    "e_commerce_nov_df = spark.read.options(header=True,sep=\",\",inferSchema=True).csv('s3://big-data-module-isi-data/ecommerce-data//2019-Nov.csv')"
   ]
  },
  {
   "cell_type": "markdown",
   "metadata": {
    "application/vnd.databricks.v1+cell": {
     "cellMetadata": {},
     "inputWidgets": {},
     "nuid": "bae05905-e638-45e4-98ae-8bace99b8e4e",
     "showTitle": false,
     "title": ""
    }
   },
   "source": [
    "Combien d'éléments compte ce second dataframe"
   ]
  },
  {
   "cell_type": "code",
   "execution_count": 0,
   "metadata": {
    "application/vnd.databricks.v1+cell": {
     "cellMetadata": {},
     "inputWidgets": {},
     "nuid": "d14d76f5-5575-486e-833a-710f0efd8141",
     "showTitle": false,
     "title": ""
    }
   },
   "outputs": [],
   "source": [
    "<TO DO>"
   ]
  },
  {
   "cell_type": "markdown",
   "metadata": {
    "application/vnd.databricks.v1+cell": {
     "cellMetadata": {},
     "inputWidgets": {},
     "nuid": "6d44b57c-4d53-447c-beb1-0f3ba26f509d",
     "showTitle": false,
     "title": ""
    }
   },
   "source": [
    "Concaténer les deux dataframes - union"
   ]
  },
  {
   "cell_type": "code",
   "execution_count": 0,
   "metadata": {
    "application/vnd.databricks.v1+cell": {
     "cellMetadata": {},
     "inputWidgets": {},
     "nuid": "d1b3d01f-7dd2-4ee5-9ec9-74ca309aa067",
     "showTitle": false,
     "title": ""
    }
   },
   "outputs": [],
   "source": [
    "<TO DO>"
   ]
  },
  {
   "cell_type": "markdown",
   "metadata": {
    "application/vnd.databricks.v1+cell": {
     "cellMetadata": {},
     "inputWidgets": {},
     "nuid": "65a4d3ec-eec0-41af-998e-c5c69fdc099f",
     "showTitle": false,
     "title": ""
    }
   },
   "source": [
    "Mettre ce nouveau dataframe en cache - Pourquoi ?"
   ]
  },
  {
   "cell_type": "code",
   "execution_count": 0,
   "metadata": {
    "application/vnd.databricks.v1+cell": {
     "cellMetadata": {},
     "inputWidgets": {},
     "nuid": "31031291-c25e-42e2-ab0d-e70c2c7e1b64",
     "showTitle": false,
     "title": ""
    }
   },
   "outputs": [],
   "source": [
    "<TO DO>"
   ]
  },
  {
   "cell_type": "markdown",
   "metadata": {
    "application/vnd.databricks.v1+cell": {
     "cellMetadata": {},
     "inputWidgets": {},
     "nuid": "21b6e044-84a2-4a51-96f9-950867765f14",
     "showTitle": false,
     "title": ""
    }
   },
   "source": [
    "Vérifier la taille du nouveau dataframe"
   ]
  },
  {
   "cell_type": "code",
   "execution_count": 0,
   "metadata": {
    "application/vnd.databricks.v1+cell": {
     "cellMetadata": {},
     "inputWidgets": {},
     "nuid": "db007d27-41cf-4cb7-b215-7000864b6698",
     "showTitle": false,
     "title": ""
    }
   },
   "outputs": [],
   "source": [
    "<TO DO>"
   ]
  },
  {
   "cell_type": "markdown",
   "metadata": {
    "application/vnd.databricks.v1+cell": {
     "cellMetadata": {},
     "inputWidgets": {},
     "nuid": "998ed0b8-43d6-4982-8c2c-45aa864a088c",
     "showTitle": false,
     "title": ""
    }
   },
   "source": [
    "Combien d'utilisateurs uniques retrouve t-on dans le dataframe"
   ]
  },
  {
   "cell_type": "code",
   "execution_count": 0,
   "metadata": {
    "application/vnd.databricks.v1+cell": {
     "cellMetadata": {},
     "inputWidgets": {},
     "nuid": "e0999d18-4aa6-499c-a750-1931960898a6",
     "showTitle": false,
     "title": ""
    }
   },
   "outputs": [],
   "source": [
    "<TO DO>"
   ]
  },
  {
   "cell_type": "markdown",
   "metadata": {
    "application/vnd.databricks.v1+cell": {
     "cellMetadata": {},
     "inputWidgets": {},
     "nuid": "e53ec330-4251-4ece-827d-40866b5fb5d5",
     "showTitle": false,
     "title": ""
    }
   },
   "source": [
    "Le nombre de produits uniques ?"
   ]
  },
  {
   "cell_type": "code",
   "execution_count": 0,
   "metadata": {
    "application/vnd.databricks.v1+cell": {
     "cellMetadata": {},
     "inputWidgets": {},
     "nuid": "78988adc-643c-41c7-b8d3-d526b48a3ebc",
     "showTitle": false,
     "title": ""
    }
   },
   "outputs": [],
   "source": [
    "<TO DO>"
   ]
  },
  {
   "cell_type": "markdown",
   "metadata": {
    "application/vnd.databricks.v1+cell": {
     "cellMetadata": {},
     "inputWidgets": {},
     "nuid": "37d406d3-680b-4862-aedd-e13344fc856e",
     "showTitle": false,
     "title": ""
    }
   },
   "source": [
    "Nombre de catégories uniques"
   ]
  },
  {
   "cell_type": "code",
   "execution_count": 0,
   "metadata": {
    "application/vnd.databricks.v1+cell": {
     "cellMetadata": {},
     "inputWidgets": {},
     "nuid": "e930f688-981d-4f40-ab64-fd047469ca35",
     "showTitle": false,
     "title": ""
    }
   },
   "outputs": [],
   "source": [
    "<TO DO>"
   ]
  },
  {
   "cell_type": "markdown",
   "metadata": {
    "application/vnd.databricks.v1+cell": {
     "cellMetadata": {},
     "inputWidgets": {},
     "nuid": "dd95c539-d61e-47cd-9f66-e959e7b7e8ba",
     "showTitle": false,
     "title": ""
    }
   },
   "source": [
    "Quelles sont les catégories les plus fréquentes, les marques les plus fréquentes et les utilisateurs les plus fidèles"
   ]
  },
  {
   "cell_type": "code",
   "execution_count": 0,
   "metadata": {
    "application/vnd.databricks.v1+cell": {
     "cellMetadata": {},
     "inputWidgets": {},
     "nuid": "167b72fa-0dfb-4f4d-9fda-1f00c1c839f4",
     "showTitle": false,
     "title": ""
    }
   },
   "outputs": [],
   "source": [
    "<TO DO>"
   ]
  },
  {
   "cell_type": "code",
   "execution_count": 0,
   "metadata": {
    "application/vnd.databricks.v1+cell": {
     "cellMetadata": {},
     "inputWidgets": {},
     "nuid": "2387b27e-397a-42df-a37f-932c6ec7ab19",
     "showTitle": false,
     "title": ""
    }
   },
   "outputs": [],
   "source": [
    "<TO DO>"
   ]
  },
  {
   "cell_type": "code",
   "execution_count": 0,
   "metadata": {
    "application/vnd.databricks.v1+cell": {
     "cellMetadata": {},
     "inputWidgets": {},
     "nuid": "5175f0c1-f2f8-4608-adcf-78b996fe5ffe",
     "showTitle": false,
     "title": ""
    }
   },
   "outputs": [],
   "source": [
    "<TO DO>"
   ]
  },
  {
   "cell_type": "markdown",
   "metadata": {
    "application/vnd.databricks.v1+cell": {
     "cellMetadata": {},
     "inputWidgets": {},
     "nuid": "4b3a83dc-2dae-4e5a-88d0-7d67a23a0ce3",
     "showTitle": false,
     "title": ""
    }
   },
   "source": [
    "Le prix moyen de chaque marque"
   ]
  },
  {
   "cell_type": "code",
   "execution_count": 0,
   "metadata": {
    "application/vnd.databricks.v1+cell": {
     "cellMetadata": {
      "byteLimit": 2048000,
      "rowLimit": 10000
     },
     "inputWidgets": {},
     "nuid": "2e749f10-f160-4609-9a8c-c47ccd47ddb0",
     "showTitle": false,
     "title": ""
    }
   },
   "outputs": [],
   "source": [
    "<TO DO>"
   ]
  },
  {
   "cell_type": "markdown",
   "metadata": {
    "application/vnd.databricks.v1+cell": {
     "cellMetadata": {},
     "inputWidgets": {},
     "nuid": "fe1b94c0-560f-4006-8b20-54fd4f8dca23",
     "showTitle": false,
     "title": ""
    }
   },
   "source": [
    "Le montant moyen dépensé par chaque client - vérifier bien les events"
   ]
  },
  {
   "cell_type": "code",
   "execution_count": 0,
   "metadata": {
    "application/vnd.databricks.v1+cell": {
     "cellMetadata": {},
     "inputWidgets": {},
     "nuid": "316d3ffe-8955-415e-9f69-539c12cdb04f",
     "showTitle": false,
     "title": ""
    }
   },
   "outputs": [],
   "source": [
    "<TO DO>"
   ]
  },
  {
   "cell_type": "markdown",
   "metadata": {
    "application/vnd.databricks.v1+cell": {
     "cellMetadata": {},
     "inputWidgets": {},
     "nuid": "216e6fa9-0ddf-4dfe-9e4a-2486940ae2e8",
     "showTitle": false,
     "title": ""
    }
   },
   "source": [
    "Nettoyer le dataframe - Identifier les colonnes essentielles et  supprimer les valeurs manquant sur ces colonnes"
   ]
  },
  {
   "cell_type": "code",
   "execution_count": 0,
   "metadata": {
    "application/vnd.databricks.v1+cell": {
     "cellMetadata": {
      "byteLimit": 2048000,
      "rowLimit": 10000
     },
     "inputWidgets": {},
     "nuid": "f56a7205-35df-43f3-ae86-c603b69aaf41",
     "showTitle": false,
     "title": ""
    }
   },
   "outputs": [],
   "source": [
    "<TO DO>"
   ]
  },
  {
   "cell_type": "markdown",
   "metadata": {
    "application/vnd.databricks.v1+cell": {
     "cellMetadata": {},
     "inputWidgets": {},
     "nuid": "ecc1422a-9fa6-48d5-8d94-2bd7d3432087",
     "showTitle": false,
     "title": ""
    }
   },
   "source": [
    "Créer une nouvelle colonnes categories qui contient la liste des catégories en se basant sur la colonne category_code: passer de cat.sous_cat à [cat, sous_cat]"
   ]
  },
  {
   "cell_type": "code",
   "execution_count": 0,
   "metadata": {
    "application/vnd.databricks.v1+cell": {
     "cellMetadata": {},
     "inputWidgets": {},
     "nuid": "0ccd777c-358a-408d-820e-f422ee038601",
     "showTitle": false,
     "title": ""
    }
   },
   "outputs": [],
   "source": [
    "<TO DO>"
   ]
  },
  {
   "cell_type": "markdown",
   "metadata": {
    "application/vnd.databricks.v1+cell": {
     "cellMetadata": {},
     "inputWidgets": {},
     "nuid": "53be2de8-a6f9-48bb-a0e2-1b0d7336866f",
     "showTitle": false,
     "title": ""
    }
   },
   "source": [
    "Créer une nouvelle colonne event_date qui correspond à la date de chaque évenement"
   ]
  },
  {
   "cell_type": "code",
   "execution_count": 0,
   "metadata": {
    "application/vnd.databricks.v1+cell": {
     "cellMetadata": {},
     "inputWidgets": {},
     "nuid": "8e01c7a7-e6ad-4678-bff5-49ed27f97c65",
     "showTitle": false,
     "title": ""
    }
   },
   "outputs": [],
   "source": [
    "<TO DO>"
   ]
  },
  {
   "cell_type": "markdown",
   "metadata": {
    "application/vnd.databricks.v1+cell": {
     "cellMetadata": {},
     "inputWidgets": {},
     "nuid": "43bc3d4e-e558-4195-982f-6f7571017f20",
     "showTitle": false,
     "title": ""
    }
   },
   "source": [
    "Le jour où on a eu le plus de vente - utiliser event_date"
   ]
  },
  {
   "cell_type": "code",
   "execution_count": 0,
   "metadata": {
    "application/vnd.databricks.v1+cell": {
     "cellMetadata": {},
     "inputWidgets": {},
     "nuid": "bf725e67-081c-4603-966e-12c34c94f65d",
     "showTitle": false,
     "title": ""
    }
   },
   "outputs": [],
   "source": [
    "<TO DO>"
   ]
  },
  {
   "cell_type": "markdown",
   "metadata": {
    "application/vnd.databricks.v1+cell": {
     "cellMetadata": {},
     "inputWidgets": {},
     "nuid": "168c1213-087d-4a81-8c65-d8a88ac607ba",
     "showTitle": false,
     "title": ""
    }
   },
   "source": [
    "Créer un nouveau dataframe qui contient pour chauque utilisateur le list des produits qu'il a acheté ainsi que somme dépenser- user_id,products: [product1, product2], amount - groupBy agg & collect_list (from F.collect_list)"
   ]
  },
  {
   "cell_type": "code",
   "execution_count": 0,
   "metadata": {
    "application/vnd.databricks.v1+cell": {
     "cellMetadata": {},
     "inputWidgets": {},
     "nuid": "aa25df31-329f-4e58-9034-9a3a2c139f96",
     "showTitle": false,
     "title": ""
    }
   },
   "outputs": [],
   "source": [
    "<TO DO>"
   ]
  },
  {
   "cell_type": "code",
   "execution_count": 0,
   "metadata": {
    "application/vnd.databricks.v1+cell": {
     "cellMetadata": {},
     "inputWidgets": {},
     "nuid": "b9c03622-f50d-41ee-9028-04762c75fd71",
     "showTitle": false,
     "title": ""
    }
   },
   "outputs": [],
   "source": [
    "base_path = \"s3://big-data-module-isi-data/new_data/\"\n",
    "name = \"votre_nom\"\n",
    "write_path = base_path+name"
   ]
  },
  {
   "cell_type": "markdown",
   "metadata": {
    "application/vnd.databricks.v1+cell": {
     "cellMetadata": {},
     "inputWidgets": {},
     "nuid": "dc6cf6e0-2457-4e30-8172-e810f6f6d184",
     "showTitle": false,
     "title": ""
    }
   },
   "source": [
    "On va écrire à présent un sous ensemble des données sous format parquet partitionner par event_date\n",
    "\n",
    "Eviter de réécrire tout le df  utiliser limit: Exemple df.limit(1000000)"
   ]
  },
  {
   "cell_type": "code",
   "execution_count": 0,
   "metadata": {
    "application/vnd.databricks.v1+cell": {
     "cellMetadata": {},
     "inputWidgets": {},
     "nuid": "d2e145da-5fa9-4c99-964b-7664c293ad6a",
     "showTitle": false,
     "title": ""
    }
   },
   "outputs": [],
   "source": []
  },
  {
   "cell_type": "markdown",
   "metadata": {
    "application/vnd.databricks.v1+cell": {
     "cellMetadata": {},
     "inputWidgets": {},
     "nuid": "a23069b1-b9b3-4b10-9096-937b25f76ab9",
     "showTitle": false,
     "title": ""
    }
   },
   "source": [
    "Créer une vue temporaire à partir du dataframe de base puis reprenez certaines questions sous forme sql"
   ]
  },
  {
   "cell_type": "code",
   "execution_count": 0,
   "metadata": {
    "application/vnd.databricks.v1+cell": {
     "cellMetadata": {},
     "inputWidgets": {},
     "nuid": "c64cfca1-671e-46a8-a476-7e38c41d44cb",
     "showTitle": false,
     "title": ""
    }
   },
   "outputs": [],
   "source": [
    "<TO DO>"
   ]
  },
  {
   "cell_type": "code",
   "execution_count": 0,
   "metadata": {
    "application/vnd.databricks.v1+cell": {
     "cellMetadata": {},
     "inputWidgets": {},
     "nuid": "f62237a0-be1d-4cac-85f8-e3c351d57acc",
     "showTitle": false,
     "title": ""
    }
   },
   "outputs": [],
   "source": [
    "<TO DO>"
   ]
  },
  {
   "cell_type": "code",
   "execution_count": 0,
   "metadata": {
    "application/vnd.databricks.v1+cell": {
     "cellMetadata": {},
     "inputWidgets": {},
     "nuid": "cde2cfa4-be6f-4b0f-bf3f-30d249a98abd",
     "showTitle": false,
     "title": ""
    }
   },
   "outputs": [],
   "source": [
    "<TO DO>"
   ]
  },
  {
   "cell_type": "code",
   "execution_count": 0,
   "metadata": {
    "application/vnd.databricks.v1+cell": {
     "cellMetadata": {},
     "inputWidgets": {},
     "nuid": "8aa04d7f-e13a-44dc-988b-7ba7adf76e3a",
     "showTitle": false,
     "title": ""
    }
   },
   "outputs": [],
   "source": [
    "<TO DO>"
   ]
  },
  {
   "cell_type": "code",
   "execution_count": 0,
   "metadata": {
    "application/vnd.databricks.v1+cell": {
     "cellMetadata": {},
     "inputWidgets": {},
     "nuid": "3541523c-4121-41f3-81da-f46701223007",
     "showTitle": false,
     "title": ""
    }
   },
   "outputs": [],
   "source": []
  }
 ],
 "metadata": {
  "application/vnd.databricks.v1+notebook": {
   "dashboards": [],
   "language": "python",
   "notebookMetadata": {
    "pythonIndentUnit": 2
   },
   "notebookName": "TP_Dataframes_2",
   "widgets": {}
  }
 },
 "nbformat": 4,
 "nbformat_minor": 0
}
