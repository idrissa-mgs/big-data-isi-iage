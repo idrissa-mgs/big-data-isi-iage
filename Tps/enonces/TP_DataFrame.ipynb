{
 "cells": [
  {
   "cell_type": "code",
   "execution_count": 0,
   "metadata": {
    "application/vnd.databricks.v1+cell": {
     "cellMetadata": {},
     "inputWidgets": {},
     "nuid": "f00b755f-be5e-480c-a44a-d05b4b285618",
     "showTitle": false,
     "title": ""
    }
   },
   "outputs": [],
   "source": []
  },
  {
   "cell_type": "markdown",
   "metadata": {
    "application/vnd.databricks.v1+cell": {
     "cellMetadata": {},
     "inputWidgets": {},
     "nuid": "2e5704df-f59f-42d8-a25c-e31502d9d984",
     "showTitle": false,
     "title": ""
    }
   },
   "source": [
    "# TP DataFrames: \n",
    "\n",
    "Lien vers la documentation: https://spark.apache.org/docs/latest/api/python/reference/pyspark.sql/index.html"
   ]
  },
  {
   "cell_type": "code",
   "execution_count": 0,
   "metadata": {
    "application/vnd.databricks.v1+cell": {
     "cellMetadata": {
      "byteLimit": 2048000,
      "rowLimit": 10000
     },
     "inputWidgets": {},
     "nuid": "4628f5ae-aace-4e34-8fdd-28d34e1cc577",
     "showTitle": false,
     "title": ""
    }
   },
   "outputs": [],
   "source": [
    "import pyspark.sql.functions as F\n",
    "from pyspark.sql.types import StringType, IntegerType, LongType, FloatType, StructField,StructType"
   ]
  },
  {
   "cell_type": "markdown",
   "metadata": {
    "application/vnd.databricks.v1+cell": {
     "cellMetadata": {},
     "inputWidgets": {},
     "nuid": "71d00c35-4489-48c9-8015-0163239d08a8",
     "showTitle": false,
     "title": ""
    }
   },
   "source": [
    "Importer et Lire les données"
   ]
  },
  {
   "cell_type": "code",
   "execution_count": 0,
   "metadata": {
    "application/vnd.databricks.v1+cell": {
     "cellMetadata": {
      "byteLimit": 2048000,
      "rowLimit": 10000
     },
     "inputWidgets": {},
     "nuid": "48c399b1-db53-4994-8079-f76d6182dca4",
     "showTitle": false,
     "title": ""
    }
   },
   "outputs": [],
   "source": [
    "#path /FileStore/tables/OnlineRetail.csv\n",
    "orders = spark.read.options(header = True, encoding =  \"UTF-8\", sep=\",\").csv(\"/FileStore/tables/OnlineRetail.csv\")\n",
    "#orders = spark.read.option(\"header\" , \"True\").option(\"encoding\", \"UTF-8\").csv(\"/FileStore/tables/OnlineRetail.csv\")"
   ]
  },
  {
   "cell_type": "markdown",
   "metadata": {
    "application/vnd.databricks.v1+cell": {
     "cellMetadata": {
      "byteLimit": 2048000,
      "rowLimit": 10000
     },
     "inputWidgets": {},
     "nuid": "6d97e368-d63a-4a2d-b17c-540cf0e712c0",
     "showTitle": false,
     "title": ""
    }
   },
   "source": [
    "Afficher le dataset\n"
   ]
  },
  {
   "cell_type": "code",
   "execution_count": 0,
   "metadata": {
    "application/vnd.databricks.v1+cell": {
     "cellMetadata": {
      "byteLimit": 2048000,
      "rowLimit": 10000
     },
     "inputWidgets": {},
     "nuid": "be65f91a-0a3d-4199-beb7-85ff639c7cb2",
     "showTitle": false,
     "title": ""
    }
   },
   "outputs": [],
   "source": [
    "#TO DO"
   ]
  },
  {
   "cell_type": "code",
   "execution_count": 0,
   "metadata": {
    "application/vnd.databricks.v1+cell": {
     "cellMetadata": {
      "byteLimit": 2048000,
      "rowLimit": 10000
     },
     "inputWidgets": {},
     "nuid": "beb9fcb9-9cfb-4f75-8fbf-1210e5312572",
     "showTitle": false,
     "title": ""
    }
   },
   "outputs": [],
   "source": []
  },
  {
   "cell_type": "markdown",
   "metadata": {
    "application/vnd.databricks.v1+cell": {
     "cellMetadata": {},
     "inputWidgets": {},
     "nuid": "df83834f-4fc8-474d-bcd8-a9f0e0f7d2a6",
     "showTitle": false,
     "title": ""
    }
   },
   "source": [
    "Afficher le schéma du dataframe"
   ]
  },
  {
   "cell_type": "code",
   "execution_count": 0,
   "metadata": {
    "application/vnd.databricks.v1+cell": {
     "cellMetadata": {
      "byteLimit": 2048000,
      "rowLimit": 10000
     },
     "inputWidgets": {},
     "nuid": "3a7ca34a-d2b6-4c82-b8ae-89dbc99b1a86",
     "showTitle": false,
     "title": ""
    }
   },
   "outputs": [],
   "source": [
    "#TO DO"
   ]
  },
  {
   "cell_type": "markdown",
   "metadata": {
    "application/vnd.databricks.v1+cell": {
     "cellMetadata": {},
     "inputWidgets": {},
     "nuid": "13e4bbd6-82b6-4ade-9675-6522d2fa28d0",
     "showTitle": false,
     "title": ""
    }
   },
   "source": [
    "On peut remarquer que certaines colonnes n'ont pas les types adéquats. \n",
    "\n",
    "On va à présent forcer le schéma en crééant un nouveau plus adapté aux données\n",
    "\n",
    "*StructType - StructField*"
   ]
  },
  {
   "cell_type": "code",
   "execution_count": 0,
   "metadata": {
    "application/vnd.databricks.v1+cell": {
     "cellMetadata": {
      "byteLimit": 2048000,
      "rowLimit": 10000
     },
     "inputWidgets": {},
     "nuid": "1dd02cd1-8b6a-40d6-b831-0dc31cb041d8",
     "showTitle": false,
     "title": ""
    }
   },
   "outputs": [],
   "source": [
    "#orders_schema = TODO"
   ]
  },
  {
   "cell_type": "markdown",
   "metadata": {
    "application/vnd.databricks.v1+cell": {
     "cellMetadata": {},
     "inputWidgets": {},
     "nuid": "03468721-013b-4d8c-8bfe-e436690e3c17",
     "showTitle": false,
     "title": ""
    }
   },
   "source": [
    "Recréer le dataset avec ce nouveau schéma"
   ]
  },
  {
   "cell_type": "code",
   "execution_count": 0,
   "metadata": {
    "application/vnd.databricks.v1+cell": {
     "cellMetadata": {
      "byteLimit": 2048000,
      "rowLimit": 10000
     },
     "inputWidgets": {},
     "nuid": "8380c7a1-f82a-4894-a7ee-d0e4410e165f",
     "showTitle": false,
     "title": ""
    }
   },
   "outputs": [],
   "source": [
    "#orders = TO DO"
   ]
  },
  {
   "cell_type": "markdown",
   "metadata": {
    "application/vnd.databricks.v1+cell": {
     "cellMetadata": {},
     "inputWidgets": {},
     "nuid": "2b42c229-71f2-4257-b418-a3c0141bddf0",
     "showTitle": false,
     "title": ""
    }
   },
   "source": [
    "Afficher le nouveau schéma"
   ]
  },
  {
   "cell_type": "code",
   "execution_count": 0,
   "metadata": {
    "application/vnd.databricks.v1+cell": {
     "cellMetadata": {
      "byteLimit": 2048000,
      "rowLimit": 10000
     },
     "inputWidgets": {},
     "nuid": "b24eaf7f-6618-4ea9-9e00-2e89cdf37704",
     "showTitle": false,
     "title": ""
    }
   },
   "outputs": [],
   "source": [
    "#TO DO"
   ]
  },
  {
   "cell_type": "markdown",
   "metadata": {
    "application/vnd.databricks.v1+cell": {
     "cellMetadata": {},
     "inputWidgets": {},
     "nuid": "14dd5ed0-7a5a-4352-88ff-72dfcc25e9bb",
     "showTitle": false,
     "title": ""
    }
   },
   "source": [
    "La colonne InvoiceDate est visiblement une colonne Date qui apparait en string on va le convertir\n",
    "\n",
    "- F.to_date()"
   ]
  },
  {
   "cell_type": "code",
   "execution_count": 0,
   "metadata": {
    "application/vnd.databricks.v1+cell": {
     "cellMetadata": {
      "byteLimit": 2048000,
      "rowLimit": 10000
     },
     "inputWidgets": {},
     "nuid": "144fdfde-cd37-4309-b60a-8fc9aeeffd36",
     "showTitle": false,
     "title": ""
    }
   },
   "outputs": [],
   "source": [
    "# Syntaxe 12/1/2010 9:37\n",
    "#orders = "
   ]
  },
  {
   "cell_type": "markdown",
   "metadata": {
    "application/vnd.databricks.v1+cell": {
     "cellMetadata": {},
     "inputWidgets": {},
     "nuid": "15183cc3-d397-4680-8369-08acbf481657",
     "showTitle": false,
     "title": ""
    }
   },
   "source": [
    "Verifier le résultat"
   ]
  },
  {
   "cell_type": "code",
   "execution_count": 0,
   "metadata": {
    "application/vnd.databricks.v1+cell": {
     "cellMetadata": {
      "byteLimit": 2048000,
      "rowLimit": 10000
     },
     "inputWidgets": {},
     "nuid": "255211df-7d05-4aa3-8961-63e1070acf78",
     "showTitle": false,
     "title": ""
    }
   },
   "outputs": [],
   "source": [
    "# TO DO"
   ]
  },
  {
   "cell_type": "markdown",
   "metadata": {
    "application/vnd.databricks.v1+cell": {
     "cellMetadata": {},
     "inputWidgets": {},
     "nuid": "da2ca418-eaee-48ed-893e-0ff8447e1170",
     "showTitle": false,
     "title": ""
    }
   },
   "source": [
    "On peut avoir des statistiques sur les colonnes numériques avec la méthode \n",
    "*describe*"
   ]
  },
  {
   "cell_type": "code",
   "execution_count": 0,
   "metadata": {
    "application/vnd.databricks.v1+cell": {
     "cellMetadata": {
      "byteLimit": 2048000,
      "rowLimit": 10000
     },
     "inputWidgets": {},
     "nuid": "6ccac13d-7d4c-4c7f-85ba-c91696867433",
     "showTitle": false,
     "title": ""
    }
   },
   "outputs": [],
   "source": [
    "#TO DO"
   ]
  },
  {
   "cell_type": "markdown",
   "metadata": {
    "application/vnd.databricks.v1+cell": {
     "cellMetadata": {},
     "inputWidgets": {},
     "nuid": "7088a97d-1aa4-4de9-a12d-e4bf5edc9ed8",
     "showTitle": false,
     "title": ""
    }
   },
   "source": [
    "Un peu de nettoyage, supprimer les lignes où le InvoiceNo ou CustomerID ne sont pas renseignés  ou encore si la Quantity n'est pas correcte \n",
    "\n",
    "*dropna - filter*\n"
   ]
  },
  {
   "cell_type": "code",
   "execution_count": 0,
   "metadata": {
    "application/vnd.databricks.v1+cell": {
     "cellMetadata": {
      "byteLimit": 2048000,
      "rowLimit": 10000
     },
     "inputWidgets": {},
     "nuid": "f75f56e6-1327-4068-a2f1-e04d7b7e2ab6",
     "showTitle": false,
     "title": ""
    }
   },
   "outputs": [],
   "source": [
    "# orders_clean ="
   ]
  },
  {
   "cell_type": "code",
   "execution_count": 0,
   "metadata": {
    "application/vnd.databricks.v1+cell": {
     "cellMetadata": {},
     "inputWidgets": {},
     "nuid": "9a28018b-e497-49e1-86ca-9f7e46d1961a",
     "showTitle": false,
     "title": ""
    }
   },
   "outputs": [],
   "source": []
  },
  {
   "cell_type": "markdown",
   "metadata": {
    "application/vnd.databricks.v1+cell": {
     "cellMetadata": {},
     "inputWidgets": {},
     "nuid": "5ed80301-0c81-46d4-97f0-4d7ccd9b669e",
     "showTitle": false,
     "title": ""
    }
   },
   "source": [
    "Evaluer la taille de ce nouveau dataset"
   ]
  },
  {
   "cell_type": "code",
   "execution_count": 0,
   "metadata": {
    "application/vnd.databricks.v1+cell": {
     "cellMetadata": {},
     "inputWidgets": {},
     "nuid": "dcc896df-5658-4402-a061-45d2f917cbf2",
     "showTitle": false,
     "title": ""
    }
   },
   "outputs": [
    {
     "output_type": "stream",
     "name": "stdout",
     "output_type": "stream",
     "text": [
      "Out[15]: 397924"
     ]
    }
   ],
   "source": [
    "#TO DO"
   ]
  },
  {
   "cell_type": "markdown",
   "metadata": {
    "application/vnd.databricks.v1+cell": {
     "cellMetadata": {},
     "inputWidgets": {},
     "nuid": "15ce3a41-1fa1-449e-9d71-63233e840777",
     "showTitle": false,
     "title": ""
    }
   },
   "source": [
    "Creer une nouvelle colonne AmountBilled correspondant au montant de la facture (Quantity*UnitPrice) - *withColumn*"
   ]
  },
  {
   "cell_type": "code",
   "execution_count": 0,
   "metadata": {
    "application/vnd.databricks.v1+cell": {
     "cellMetadata": {
      "byteLimit": 2048000,
      "rowLimit": 10000
     },
     "inputWidgets": {},
     "nuid": "7b18342b-a518-4e4f-9aff-7fbe2f56f491",
     "showTitle": false,
     "title": ""
    }
   },
   "outputs": [],
   "source": [
    "# orders_clean =  TODO"
   ]
  },
  {
   "cell_type": "markdown",
   "metadata": {
    "application/vnd.databricks.v1+cell": {
     "cellMetadata": {},
     "inputWidgets": {},
     "nuid": "5f90d144-c4f9-4686-9796-1a024c493452",
     "showTitle": false,
     "title": ""
    }
   },
   "source": [
    "Afficher le nouveau dataframe"
   ]
  },
  {
   "cell_type": "code",
   "execution_count": 0,
   "metadata": {
    "application/vnd.databricks.v1+cell": {
     "cellMetadata": {
      "byteLimit": 2048000,
      "rowLimit": 10000
     },
     "inputWidgets": {},
     "nuid": "e66d6992-6c38-44c1-8a11-af24894742df",
     "showTitle": false,
     "title": ""
    }
   },
   "outputs": [],
   "source": [
    "#TO Do"
   ]
  },
  {
   "cell_type": "markdown",
   "metadata": {
    "application/vnd.databricks.v1+cell": {
     "cellMetadata": {},
     "inputWidgets": {},
     "nuid": "b18a0447-5587-474b-9eb9-2bf9c9ee9aeb",
     "showTitle": false,
     "title": ""
    }
   },
   "source": [
    "Calculer le montant dépensé par chaque client - *groupBy, sum , OrderBy*"
   ]
  },
  {
   "cell_type": "code",
   "execution_count": 0,
   "metadata": {
    "application/vnd.databricks.v1+cell": {
     "cellMetadata": {
      "byteLimit": 2048000,
      "rowLimit": 10000
     },
     "inputWidgets": {},
     "nuid": "a808197b-64eb-492b-b85b-53a71ef13a0c",
     "showTitle": false,
     "title": ""
    }
   },
   "outputs": [],
   "source": [
    "#customer_expenses = TODO"
   ]
  },
  {
   "cell_type": "code",
   "execution_count": 0,
   "metadata": {
    "application/vnd.databricks.v1+cell": {
     "cellMetadata": {
      "byteLimit": 2048000,
      "rowLimit": 10000
     },
     "inputWidgets": {},
     "nuid": "d153dfa4-b788-41d1-8b99-e180c7709085",
     "showTitle": false,
     "title": ""
    }
   },
   "outputs": [],
   "source": [
    "#afficher le résultat"
   ]
  },
  {
   "cell_type": "markdown",
   "metadata": {
    "application/vnd.databricks.v1+cell": {
     "cellMetadata": {},
     "inputWidgets": {},
     "nuid": "b6fc547d-4b54-43ec-9f19-d8a2b939999f",
     "showTitle": false,
     "title": ""
    }
   },
   "source": [
    "### Affiché le top 10 des clients "
   ]
  },
  {
   "cell_type": "code",
   "execution_count": 0,
   "metadata": {
    "application/vnd.databricks.v1+cell": {
     "cellMetadata": {
      "byteLimit": 2048000,
      "rowLimit": 10000
     },
     "inputWidgets": {},
     "nuid": "820c6771-0cd3-4f58-910d-e53eca621d80",
     "showTitle": false,
     "title": ""
    }
   },
   "outputs": [],
   "source": [
    "#TODO"
   ]
  },
  {
   "cell_type": "markdown",
   "metadata": {
    "application/vnd.databricks.v1+cell": {
     "cellMetadata": {},
     "inputWidgets": {},
     "nuid": "0cd42ad8-b981-413c-b2e0-bf5af3a1b085",
     "showTitle": false,
     "title": ""
    }
   },
   "source": [
    "Créer une colonne Year en extrayant l'année depuis la colonne InvoceDate - *F.year()*"
   ]
  },
  {
   "cell_type": "code",
   "execution_count": 0,
   "metadata": {
    "application/vnd.databricks.v1+cell": {
     "cellMetadata": {},
     "inputWidgets": {},
     "nuid": "58524ca7-5d80-4ce4-888a-892a87aee5ec",
     "showTitle": false,
     "title": ""
    }
   },
   "outputs": [],
   "source": [
    "#TODO"
   ]
  },
  {
   "cell_type": "markdown",
   "metadata": {
    "application/vnd.databricks.v1+cell": {
     "cellMetadata": {},
     "inputWidgets": {},
     "nuid": "8ea03969-c8ea-433b-8f1e-d8d91bdce4fa",
     "showTitle": false,
     "title": ""
    }
   },
   "source": [
    "### Calculer les récettes totales par année"
   ]
  },
  {
   "cell_type": "code",
   "execution_count": 0,
   "metadata": {
    "application/vnd.databricks.v1+cell": {
     "cellMetadata": {},
     "inputWidgets": {},
     "nuid": "9ad15a5e-ba78-4046-b8db-e312419e4f14",
     "showTitle": false,
     "title": ""
    }
   },
   "outputs": [],
   "source": [
    "# TO DO"
   ]
  },
  {
   "cell_type": "markdown",
   "metadata": {
    "application/vnd.databricks.v1+cell": {
     "cellMetadata": {},
     "inputWidgets": {},
     "nuid": "208e694b-7b32-4512-a9a9-a603f955d84c",
     "showTitle": false,
     "title": ""
    }
   },
   "source": [
    "## Un peu de SQL"
   ]
  },
  {
   "cell_type": "markdown",
   "metadata": {
    "application/vnd.databricks.v1+cell": {
     "cellMetadata": {},
     "inputWidgets": {},
     "nuid": "e5f6d2f8-d268-430b-a1e3-f18a2b0d6194",
     "showTitle": false,
     "title": ""
    }
   },
   "source": [
    "Créer une vue à partir du dataframe et effectuer  des reequêtes sql - *createOrReplaceTempView & %sql*\n"
   ]
  },
  {
   "cell_type": "code",
   "execution_count": 0,
   "metadata": {
    "application/vnd.databricks.v1+cell": {
     "cellMetadata": {
      "byteLimit": 2048000,
      "rowLimit": 10000
     },
     "inputWidgets": {},
     "nuid": "5a1af97d-60ba-4df9-b532-728b53eb4aed",
     "showTitle": false,
     "title": ""
    }
   },
   "outputs": [],
   "source": [
    "#TODO"
   ]
  },
  {
   "cell_type": "markdown",
   "metadata": {
    "application/vnd.databricks.v1+cell": {
     "cellMetadata": {
      "byteLimit": 2048000,
      "rowLimit": 10000
     },
     "inputWidgets": {},
     "nuid": "63bb4b3b-3e20-4d3f-82fd-96543b98267e",
     "showTitle": false,
     "title": ""
    }
   },
   "source": [
    "Faire un select sur la table"
   ]
  },
  {
   "cell_type": "code",
   "execution_count": 0,
   "metadata": {
    "application/vnd.databricks.v1+cell": {
     "cellMetadata": {
      "byteLimit": 2048000,
      "rowLimit": 10000
     },
     "inputWidgets": {},
     "nuid": "ccc010f0-953f-49a8-881b-9229250cb930",
     "showTitle": false,
     "title": ""
    }
   },
   "outputs": [],
   "source": [
    "%sql\n"
   ]
  },
  {
   "cell_type": "markdown",
   "metadata": {
    "application/vnd.databricks.v1+cell": {
     "cellMetadata": {},
     "inputWidgets": {},
     "nuid": "83c9fc4f-5dab-4cb9-82ee-891bd51f1bab",
     "showTitle": false,
     "title": ""
    }
   },
   "source": [
    "### Lecture - Ecriture"
   ]
  },
  {
   "cell_type": "markdown",
   "metadata": {
    "application/vnd.databricks.v1+cell": {
     "cellMetadata": {},
     "inputWidgets": {},
     "nuid": "648b1a36-f8ca-495b-876f-68e07ec78d63",
     "showTitle": false,
     "title": ""
    }
   },
   "source": [
    "Réécrire les données en parquet "
   ]
  },
  {
   "cell_type": "code",
   "execution_count": 0,
   "metadata": {
    "application/vnd.databricks.v1+cell": {
     "cellMetadata": {
      "byteLimit": 2048000,
      "rowLimit": 10000
     },
     "inputWidgets": {},
     "nuid": "2fe2c688-1588-4070-83f1-54a6212c9984",
     "showTitle": false,
     "title": ""
    }
   },
   "outputs": [],
   "source": [
    "path = \"/FileStore/tables/RetailParquet/\""
   ]
  },
  {
   "cell_type": "code",
   "execution_count": 0,
   "metadata": {
    "application/vnd.databricks.v1+cell": {
     "cellMetadata": {
      "byteLimit": 2048000,
      "rowLimit": 10000
     },
     "inputWidgets": {},
     "nuid": "7fd6c812-3944-4a98-a002-d0a2a0fb7459",
     "showTitle": false,
     "title": ""
    }
   },
   "outputs": [],
   "source": [
    "#TO DO\n"
   ]
  },
  {
   "cell_type": "markdown",
   "metadata": {
    "application/vnd.databricks.v1+cell": {
     "cellMetadata": {},
     "inputWidgets": {},
     "nuid": "657bb180-c291-4d61-8413-0d12f05b608e",
     "showTitle": false,
     "title": ""
    }
   },
   "source": [
    "Lire le nouveau fichier parquet \n"
   ]
  },
  {
   "cell_type": "code",
   "execution_count": 0,
   "metadata": {
    "application/vnd.databricks.v1+cell": {
     "cellMetadata": {
      "byteLimit": 2048000,
      "rowLimit": 10000
     },
     "inputWidgets": {},
     "nuid": "005e30c6-578b-4c7d-bfde-8bfc7287711d",
     "showTitle": false,
     "title": ""
    }
   },
   "outputs": [],
   "source": [
    "# TODO\n"
   ]
  },
  {
   "cell_type": "markdown",
   "metadata": {
    "application/vnd.databricks.v1+cell": {
     "cellMetadata": {},
     "inputWidgets": {},
     "nuid": "d34d5225-824c-4abd-9cda-4bca0cca26d6",
     "showTitle": false,
     "title": ""
    }
   },
   "source": [
    "On va à présent partitionner par année les données à l'écriture - *partitionBy*"
   ]
  },
  {
   "cell_type": "code",
   "execution_count": 0,
   "metadata": {
    "application/vnd.databricks.v1+cell": {
     "cellMetadata": {},
     "inputWidgets": {},
     "nuid": "0113618b-cf58-46e2-a72c-5f00e4de2a56",
     "showTitle": false,
     "title": ""
    }
   },
   "outputs": [],
   "source": []
  },
  {
   "cell_type": "markdown",
   "metadata": {
    "application/vnd.databricks.v1+cell": {
     "cellMetadata": {},
     "inputWidgets": {},
     "nuid": "3723907a-92e5-489a-bee7-071eee1fa7ae",
     "showTitle": false,
     "title": ""
    }
   },
   "source": [
    "On peut également sauvegarder notre dataframe sous forme de table - *saveAsTable*"
   ]
  },
  {
   "cell_type": "code",
   "execution_count": 0,
   "metadata": {
    "application/vnd.databricks.v1+cell": {
     "cellMetadata": {},
     "inputWidgets": {},
     "nuid": "74eca98f-169f-4e3b-8d4a-708cdc2606fc",
     "showTitle": false,
     "title": ""
    }
   },
   "outputs": [],
   "source": []
  }
 ],
 "metadata": {
  "application/vnd.databricks.v1+notebook": {
   "dashboards": [
    {
     "elements": [
      {
       "dashboardResultIndex": null,
       "elementNUID": "2e5704df-f59f-42d8-a25c-e31502d9d984",
       "elementType": "command",
       "guid": "3490bb57-cc0b-48ca-8eb6-7f66b50660f7",
       "options": null,
       "position": {
        "height": 3,
        "width": 12,
        "x": 0,
        "y": 0,
        "z": null
       },
       "resultIndex": null
      },
      {
       "dashboardResultIndex": null,
       "elementNUID": "03468721-013b-4d8c-8bfe-e436690e3c17",
       "elementType": "command",
       "guid": "5303980f-d22b-49d8-9e3b-5a19918654cf",
       "options": null,
       "position": {
        "height": 2,
        "width": 12,
        "x": 0,
        "y": 12,
        "z": null
       },
       "resultIndex": null
      },
      {
       "dashboardResultIndex": null,
       "elementNUID": "14dd5ed0-7a5a-4352-88ff-72dfcc25e9bb",
       "elementType": "command",
       "guid": "7233b24c-fb58-4863-9c10-1882dbb46d71",
       "options": null,
       "position": {
        "height": 2,
        "width": 12,
        "x": 0,
        "y": 14,
        "z": null
       },
       "resultIndex": null
      },
      {
       "dashboardResultIndex": null,
       "elementNUID": "13e4bbd6-82b6-4ade-9675-6522d2fa28d0",
       "elementType": "command",
       "guid": "839eaa44-19df-4d9f-b58a-3d8834e2e844",
       "options": null,
       "position": {
        "height": 3,
        "width": 12,
        "x": 0,
        "y": 9,
        "z": null
       },
       "resultIndex": null
      },
      {
       "dashboardResultIndex": null,
       "elementNUID": "df83834f-4fc8-474d-bcd8-a9f0e0f7d2a6",
       "elementType": "command",
       "guid": "c66235c0-f779-42b1-b566-9ef14bbe3eaf",
       "options": null,
       "position": {
        "height": 2,
        "width": 12,
        "x": 0,
        "y": 7,
        "z": null
       },
       "resultIndex": null
      },
      {
       "dashboardResultIndex": null,
       "elementNUID": "71d00c35-4489-48c9-8015-0163239d08a8",
       "elementType": "command",
       "guid": "d2fa059f-a4aa-41e8-adca-5a67e8fda513",
       "options": null,
       "position": {
        "height": 4,
        "width": 12,
        "x": 0,
        "y": 3,
        "z": null
       },
       "resultIndex": null
      }
     ],
     "globalVars": {},
     "guid": "",
     "layoutOption": {
      "grid": true,
      "stack": true
     },
     "nuid": "04d573ff-a2c8-479f-8557-577bdceac160",
     "origId": 4019862602796619,
     "title": "tesst",
     "version": "DashboardViewV1",
     "width": 1024
    }
   ],
   "language": "python",
   "notebookMetadata": {
    "pythonIndentUnit": 2
   },
   "notebookName": "TP_DataFrame",
   "widgets": {}
  },
  "kernelspec": {
   "display_name": "Python 3",
   "language": "python",
   "name": "python3"
  },
  "language_info": {
   "codemirror_mode": {
    "name": "ipython",
    "version": 3
   },
   "file_extension": ".py",
   "mimetype": "text/x-python",
   "name": "python",
   "nbconvert_exporter": "python",
   "pygments_lexer": "ipython3",
   "version": "3.7.3"
  },
  "toc": {
   "base_numbering": 1,
   "nav_menu": {},
   "number_sections": true,
   "sideBar": true,
   "skip_h1_title": false,
   "title_cell": "Table of Contents",
   "title_sidebar": "Contents",
   "toc_cell": false,
   "toc_position": {},
   "toc_section_display": true,
   "toc_window_display": false
  }
 },
 "nbformat": 4,
 "nbformat_minor": 0
}
