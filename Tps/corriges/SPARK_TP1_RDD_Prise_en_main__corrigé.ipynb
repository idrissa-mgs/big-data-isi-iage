{
 "cells": [
  {
   "cell_type": "markdown",
   "metadata": {
    "application/vnd.databricks.v1+cell": {
     "cellMetadata": {},
     "inputWidgets": {},
     "nuid": "6dba3a5a-ef9f-4442-9e5b-772c395ecfa2",
     "showTitle": false,
     "title": ""
    }
   },
   "source": [
    "#![Spark Logo](http://spark-mooc.github.io/web-assets/images/ta_Spark-logo-small.png) + ![Python Logo](http://spark-mooc.github.io/web-assets/images/python-logo-master-v3-TM-flattened_small.png)\n",
    "# ** TP - RDD**\n",
    "\n",
    "Le but est de prendre en main les transformations et les actions  \n",
    "N'hésitez pas à regarder la doc ou à demander de l'aide :)"
   ]
  },
  {
   "cell_type": "markdown",
   "metadata": {
    "application/vnd.databricks.v1+cell": {
     "cellMetadata": {},
     "inputWidgets": {},
     "nuid": "3d98ace6-e4e3-4bf4-8322-b5f76626f1a0",
     "showTitle": false,
     "title": ""
    }
   },
   "source": [
    "# [Lien vers la Doc PySpark.RDD](https://spark.apache.org/docs/latest/api/python/reference/api/pyspark.RDD.html)"
   ]
  },
  {
   "cell_type": "markdown",
   "metadata": {
    "application/vnd.databricks.v1+cell": {
     "cellMetadata": {},
     "inputWidgets": {},
     "nuid": "551f9abb-46c4-4729-8547-86babdc69015",
     "showTitle": false,
     "title": ""
    }
   },
   "source": [
    "### SparkContext et SparkSession (Point d'entrée)\n",
    "* Afficher `sc` et `spark`, quelle est la différence ? Utiliser `help` \n",
    "* Afficher la version de spark"
   ]
  },
  {
   "cell_type": "code",
   "execution_count": 0,
   "metadata": {
    "application/vnd.databricks.v1+cell": {
     "cellMetadata": {
      "byteLimit": 2048000,
      "rowLimit": 10000
     },
     "inputWidgets": {},
     "nuid": "802eec16-2cf7-4417-a53e-da01cc7f8c4e",
     "showTitle": false,
     "title": ""
    }
   },
   "outputs": [],
   "source": [
    "from pyspark.sql import SparkSession\n",
    "from pyspark import SparkContext, SparkConf\n"
   ]
  },
  {
   "cell_type": "code",
   "execution_count": 0,
   "metadata": {
    "application/vnd.databricks.v1+cell": {
     "cellMetadata": {
      "byteLimit": 2048000,
      "rowLimit": 10000
     },
     "inputWidgets": {},
     "nuid": "af2c6c6a-1cf1-42de-a31f-de96d4f549f5",
     "showTitle": false,
     "title": ""
    }
   },
   "outputs": [
    {
     "output_type": "stream",
     "name": "stdout",
     "output_type": "stream",
     "text": [
      "\u001B[0;31mType:\u001B[0m        SparkSession\n\u001B[0;31mString form:\u001B[0m pyspark.sql.session.SparkSession instance\n\u001B[0;31mDocstring:\u001B[0m  \nThe entry point to programming Spark with the Dataset and DataFrame API.\n\nA SparkSession can be used to create :class:`DataFrame`, register :class:`DataFrame` as\ntables, execute SQL over tables, cache tables, and read parquet files.\nTo create a :class:`SparkSession`, use the following builder pattern:\n\n.. versionchanged:: 3.4.0\n    Support Spark Connect.\n\n.. autoattribute:: builder\n   :annotation:\n\nExamples\n--------\nCreate a Spark session.\n\n>>> spark = (\n...     SparkSession.builder\n...         .master(\"local\")\n...         .appName(\"Word Count\")\n...         .config(\"spark.some.config.option\", \"some-value\")\n...         .getOrCreate()\n... )\n\nCreate a Spark session from a Spark context.\n\n>>> sc = spark.sparkContext\n>>> spark = SparkSession(sc)\n"
     ]
    }
   ],
   "source": [
    "?spark"
   ]
  },
  {
   "cell_type": "code",
   "execution_count": 0,
   "metadata": {
    "application/vnd.databricks.v1+cell": {
     "cellMetadata": {
      "byteLimit": 2048000,
      "rowLimit": 10000
     },
     "inputWidgets": {},
     "nuid": "06e97ec9-c9ad-4fa5-bb7f-9bd2ab601004",
     "showTitle": false,
     "title": ""
    }
   },
   "outputs": [
    {
     "output_type": "stream",
     "name": "stdout",
     "output_type": "stream",
     "text": [
      "\u001B[0;31mType:\u001B[0m        RemoteContext\n\u001B[0;31mString form:\u001B[0m dbruntime.spark_connection.RemoteContext instance\n\u001B[0;31mDocstring:\u001B[0m   <no docstring>\n"
     ]
    }
   ],
   "source": [
    "?sc"
   ]
  },
  {
   "cell_type": "code",
   "execution_count": 0,
   "metadata": {
    "application/vnd.databricks.v1+cell": {
     "cellMetadata": {
      "byteLimit": 2048000,
      "rowLimit": 10000
     },
     "inputWidgets": {},
     "nuid": "97f8fcdc-8e19-438c-bc76-e6667baecf9c",
     "showTitle": false,
     "title": ""
    }
   },
   "outputs": [
    {
     "output_type": "stream",
     "name": "stdout",
     "output_type": "stream",
     "text": [
      "Help on RemoteContext in module dbruntime.spark_connection object:\n\nclass RemoteContext(pyspark.context.SparkContext)\n |  RemoteContext(master: Optional[str] = None, appName: Optional[str] = None, sparkHome: Optional[str] = None, pyFiles: Optional[List[str]] = None, environment: Optional[Dict[str, Any]] = None, batchSize: int = 0, serializer: 'Serializer' = CloudPickleSerializer(), conf: Optional[pyspark.conf.SparkConf] = None, gateway: Optional[py4j.java_gateway.JavaGateway] = None, jsc: Optional[py4j.java_gateway.JavaObject] = None, profiler_cls: Type[pyspark.profiler.BasicProfiler] = <class 'pyspark.profiler.BasicProfiler'>, udf_profiler_cls: Type[pyspark.profiler.UDFBasicProfiler] = <class 'pyspark.profiler.UDFBasicProfiler'>, memory_profiler_cls: Type[pyspark.profiler.MemoryProfiler] = <class 'pyspark.profiler.MemoryProfiler'>)\n |  \n |  Method resolution order:\n |      RemoteContext\n |      pyspark.context.SparkContext\n |      builtins.object\n |  \n |  Methods inherited from pyspark.context.SparkContext:\n |  \n |  __enter__(self) -> 'SparkContext'\n |      Enable 'with SparkContext(...) as sc: app(sc)' syntax.\n |  \n |  __exit__(self, type: Optional[Type[BaseException]], value: Optional[BaseException], trace: Optional[traceback]) -> None\n |      Enable 'with SparkContext(...) as sc: app' syntax.\n |      \n |      Specifically stop the context on exit of the with block.\n |  \n |  __getnewargs__(self) -> NoReturn\n |  \n |  __init__(self, master: Optional[str] = None, appName: Optional[str] = None, sparkHome: Optional[str] = None, pyFiles: Optional[List[str]] = None, environment: Optional[Dict[str, Any]] = None, batchSize: int = 0, serializer: 'Serializer' = CloudPickleSerializer(), conf: Optional[pyspark.conf.SparkConf] = None, gateway: Optional[py4j.java_gateway.JavaGateway] = None, jsc: Optional[py4j.java_gateway.JavaObject] = None, profiler_cls: Type[pyspark.profiler.BasicProfiler] = <class 'pyspark.profiler.BasicProfiler'>, udf_profiler_cls: Type[pyspark.profiler.UDFBasicProfiler] = <class 'pyspark.profiler.UDFBasicProfiler'>, memory_profiler_cls: Type[pyspark.profiler.MemoryProfiler] = <class 'pyspark.profiler.MemoryProfiler'>)\n |      Initialize self.  See help(type(self)) for accurate signature.\n |  \n |  __repr__(self) -> str\n |      Return repr(self).\n |  \n |  accumulator(self, value: ~T, accum_param: Optional[ForwardRef('AccumulatorParam[T]')] = None) -> 'Accumulator[T]'\n |      Create an :class:`Accumulator` with the given initial value, using a given\n |      :class:`AccumulatorParam` helper object to define how to add values of the\n |      data type if provided. Default AccumulatorParams are used for integers\n |      and floating-point numbers if you do not provide one. For other types,\n |      a custom AccumulatorParam can be used.\n |      \n |      .. versionadded:: 0.7.0\n |      \n |      Parameters\n |      ----------\n |      value : T\n |          initialized value\n |      accum_param : :class:`pyspark.AccumulatorParam`, optional\n |          helper object to define how to add values\n |      \n |      Returns\n |      -------\n |      :class:`Accumulator`\n |          `Accumulator` object, a shared variable that can be accumulated\n |      \n |      Examples\n |      --------\n |      >>> acc = sc.accumulator(9)\n |      >>> acc.value\n |      9\n |      >>> acc += 1\n |      >>> acc.value\n |      10\n |      \n |      Accumulator object can be accumulated in RDD operations:\n |      \n |      >>> rdd = sc.range(5)\n |      >>> def f(x):\n |      ...     global acc\n |      ...     acc += 1\n |      >>> rdd.foreach(f)\n |      >>> acc.value\n |      15\n |  \n |  addArchive(self, path: str) -> None\n |      Add an archive to be downloaded with this Spark job on every node.\n |      The `path` passed can be either a local file, a file in HDFS\n |      (or other Hadoop-supported filesystems), or an HTTP, HTTPS or\n |      FTP URI.\n |      \n |      To access the file in Spark jobs, use :meth:`SparkFiles.get` with the\n |      filename to find its download/unpacked location. The given path should\n |      be one of .zip, .tar, .tar.gz, .tgz and .jar.\n |      \n |      .. versionadded:: 3.3.0\n |      \n |      Parameters\n |      ----------\n |      path : str\n |          can be either a local file, a file in HDFS (or other Hadoop-supported\n |          filesystems), or an HTTP, HTTPS or FTP URI. To access the file in Spark jobs,\n |          use :meth:`SparkFiles.get` to find its download location.\n |      \n |      See Also\n |      --------\n |      :meth:`SparkFiles.get`\n |      \n |      Notes\n |      -----\n |      A path can be added only once. Subsequent additions of the same path are ignored.\n |      This API is experimental.\n |      \n |      Examples\n |      --------\n |      Creates a zipped file that contains a text file written '100'.\n |      \n |      >>> import os\n |      >>> import tempfile\n |      >>> import zipfile\n |      >>> from pyspark import SparkFiles\n |      \n |      >>> with tempfile.TemporaryDirectory() as d:\n |      ...     path = os.path.join(d, \"test.txt\")\n |      ...     with open(path, \"w\") as f:\n |      ...         _ = f.write(\"100\")\n |      ...\n |      ...     zip_path1 = os.path.join(d, \"test1.zip\")\n |      ...     with zipfile.ZipFile(zip_path1, \"w\", zipfile.ZIP_DEFLATED) as z:\n |      ...         z.write(path, os.path.basename(path))\n |      ...\n |      ...     sc.addArchive(zip_path1)\n |      ...\n |      ...     def func(iterator):\n |      ...         with open(\"%s/test.txt\" % SparkFiles.get(\"test1.zip\")) as f:\n |      ...             mul = int(f.readline())\n |      ...             return [x * mul for x in iterator]\n |      ...\n |      ...     collected = sc.parallelize([1, 2, 3, 4]).mapPartitions(func).collect()\n |      \n |      >>> collected\n |      [100, 200, 300, 400]\n |  \n |  addClusterWideLibraryToPath(self, libname: str) -> None\n |      # add cluster wide library to the system path. This is called by libraries installed\n |      # through addPyFile, library installation UI or command line (databricks libraries install)\n |  \n |  addFile(self, path: str, recursive: bool = False) -> None\n |      Add a file to be downloaded with this Spark job on every node.\n |      The `path` passed can be either a local file, a file in HDFS\n |      (or other Hadoop-supported filesystems), or an HTTP, HTTPS or\n |      FTP URI.\n |      \n |      To access the file in Spark jobs, use :meth:`SparkFiles.get` with the\n |      filename to find its download location.\n |      \n |      A directory can be given if the recursive option is set to True.\n |      Currently directories are only supported for Hadoop-supported filesystems.\n |      \n |      .. versionadded:: 0.7.0\n |      \n |      Parameters\n |      ----------\n |      path : str\n |          can be either a local file, a file in HDFS (or other Hadoop-supported\n |          filesystems), or an HTTP, HTTPS or FTP URI. To access the file in Spark jobs,\n |          use :meth:`SparkFiles.get` to find its download location.\n |      recursive : bool, default False\n |          whether to recursively add files in the input directory\n |      \n |      See Also\n |      --------\n |      :meth:`SparkContext.addPyFile`\n |      :meth:`SparkFiles.get`\n |      \n |      Notes\n |      -----\n |      A path can be added only once. Subsequent additions of the same path are ignored.\n |      \n |      Examples\n |      --------\n |      >>> import os\n |      >>> import tempfile\n |      >>> from pyspark import SparkFiles\n |      \n |      >>> with tempfile.TemporaryDirectory() as d:\n |      ...     path1 = os.path.join(d, \"test1.txt\")\n |      ...     with open(path1, \"w\") as f:\n |      ...         _ = f.write(\"100\")\n |      ...\n |      ...     sc.addFile(path1)\n |      ...\n |      ...     def func(iterator):\n |      ...         with open(SparkFiles.get(\"test1.txt\")) as f:\n |      ...             mul = int(f.readline())\n |      ...             return [x * mul for x in iterator]\n |      ...\n |      ...     collected = sc.parallelize([1, 2, 3, 4]).mapPartitions(func).collect()\n |      >>> collected\n |      [100, 200, 300, 400]\n |  \n |  addIsolatedLibraryPath(self, libname: str) -> None\n |      For a .egg, .zip, or .jar library, add the path to sys.path, and add it to\n |      _python_includes for passing it to executor.\n |  \n |  addPyFile(self, path: str) -> None\n |      Add a .py or .zip dependency for all tasks to be executed on this\n |      SparkContext in the future.  The `path` passed can be either a local\n |      file, a file in HDFS (or other Hadoop-supported filesystems), or an\n |      HTTP, HTTPS or FTP URI.\n |      \n |      .. versionadded:: 0.7.0\n |      \n |      Parameters\n |      ----------\n |      path : str\n |          can be either a .py file or .zip dependency.\n |      \n |      See Also\n |      --------\n |      :meth:`SparkContext.addFile`\n |      \n |      Notes\n |      -----\n |      A path can be added only once. Subsequent additions of the same path are ignored.\n |  \n |  binaryFiles(self, path: str, minPartitions: Optional[int] = None) -> pyspark.rdd.RDD[typing.Tuple[str, bytes]]\n |      Read a directory of binary files from HDFS, a local file system\n |      (available on all nodes), or any Hadoop-supported file system URI\n |      as a byte array. Each file is read as a single record and returned\n |      in a key-value pair, where the key is the path of each file, the\n |      value is the content of each file.\n |      \n |      .. versionadded:: 1.3.0\n |      \n |      Parameters\n |      ----------\n |      path : str\n |          directory to the input data files, the path can be comma separated\n |          paths as a list of inputs\n |      minPartitions : int, optional\n |          suggested minimum number of partitions for the resulting RDD\n |      \n |      Returns\n |      -------\n |      :class:`RDD`\n |          RDD representing path-content pairs from the file(s).\n |      \n |      Notes\n |      -----\n |      Small files are preferred, large file is also allowable, but may cause bad performance.\n |      \n |      See Also\n |      --------\n |      :meth:`SparkContext.binaryRecords`\n |      \n |      Examples\n |      --------\n |      >>> import os\n |      >>> import tempfile\n |      >>> with tempfile.TemporaryDirectory() as d:\n |      ...     # Write a temporary binary file\n |      ...     with open(os.path.join(d, \"1.bin\"), \"wb\") as f1:\n |      ...         _ = f1.write(b\"binary data I\")\n |      ...\n |      ...     # Write another temporary binary file\n |      ...     with open(os.path.join(d, \"2.bin\"), \"wb\") as f2:\n |      ...         _ = f2.write(b\"binary data II\")\n |      ...\n |      ...     collected = sorted(sc.binaryFiles(d).collect())\n |      \n |      >>> collected\n |      [('.../1.bin', b'binary data I'), ('.../2.bin', b'binary data II')]\n |  \n |  binaryRecords(self, path: str, recordLength: int) -> pyspark.rdd.RDD[bytes]\n |      Load data from a flat binary file, assuming each record is a set of numbers\n |      with the specified numerical format (see ByteBuffer), and the number of\n |      bytes per record is constant.\n |      \n |      .. versionadded:: 1.3.0\n |      \n |      Parameters\n |      ----------\n |      path : str\n |          Directory to the input data files\n |      recordLength : int\n |          The length at which to split the records\n |      \n |      Returns\n |      -------\n |      :class:`RDD`\n |          RDD of data with values, represented as byte arrays\n |      \n |      See Also\n |      --------\n |      :meth:`SparkContext.binaryFiles`\n |      \n |      Examples\n |      --------\n |      >>> import os\n |      >>> import tempfile\n |      >>> with tempfile.TemporaryDirectory() as d:\n |      ...     # Write a temporary file\n |      ...     with open(os.path.join(d, \"1.bin\"), \"w\") as f:\n |      ...         for i in range(3):\n |      ...             _ = f.write(\"%04d\" % i)\n |      ...\n |      ...     # Write another file\n |      ...     with open(os.path.join(d, \"2.bin\"), \"w\") as f:\n |      ...         for i in [-1, -2, -10]:\n |      ...             _ = f.write(\"%04d\" % i)\n |      ...\n |      ...     collected = sorted(sc.binaryRecords(d, 4).collect())\n |      \n |      >>> collected\n |      [b'-001', b'-002', b'-010', b'0000', b'0001', b'0002']\n |  \n |  broadcast(self, value: ~T) -> 'Broadcast[T]'\n |      Broadcast a read-only variable to the cluster, returning a :class:`Broadcast`\n |      object for reading it in distributed functions. The variable will\n |      be sent to each cluster only once.\n |      \n |      .. versionadded:: 0.7.0\n |      \n |      Parameters\n |      ----------\n |      value : T\n |          value to broadcast to the Spark nodes\n |      \n |      Returns\n |      -------\n |      :class:`Broadcast`\n |          :class:`Broadcast` object, a read-only variable cached on each machine\n |      \n |      Examples\n |      --------\n |      >>> mapping = {1: 10001, 2: 10002}\n |      >>> bc = sc.broadcast(mapping)\n |      \n |      >>> rdd = sc.range(5)\n |      >>> rdd2 = rdd.map(lambda i: bc.value[i] if i in bc.value else -1)\n |      >>> rdd2.collect()  # doctest: +SKIP\n |      [-1, 10001, 10002, -1, -1]\n |      \n |      >>> bc.destroy()  # doctest: +SKIP\n |  \n |  cancelAllJobs(self) -> None\n |      Cancel all jobs that have been scheduled or are running.\n |      \n |      .. versionadded:: 1.1.0\n |      \n |      See Also\n |      --------\n |      :meth:`SparkContext.cancelJobGroup`\n |      :meth:`SparkContext.runJob`\n |  \n |  cancelJobGroup(self, groupId: str) -> None\n |      Cancel active jobs for the specified group. See :meth:`SparkContext.setJobGroup`.\n |      for more information.\n |      \n |      .. versionadded:: 1.1.0\n |      \n |      Parameters\n |      ----------\n |      groupId : str\n |          The group ID to cancel the job.\n |      \n |      See Also\n |      --------\n |      :meth:`SparkContext.setJobGroup`\n |      :meth:`SparkContext.cancelJobGroup`\n |  \n |  dump_profiles(self, path: str) -> None\n |      Dump the profile stats into directory `path`\n |      \n |      .. versionadded:: 1.2.0\n |      \n |      See Also\n |      --------\n |      :meth:`SparkContext.show_profiles`\n |  \n |  emptyRDD(self) -> pyspark.rdd.RDD[typing.Any]\n |      Create an :class:`RDD` that has no partitions or elements.\n |      \n |      .. versionadded:: 1.5.0\n |      \n |      Returns\n |      -------\n |      :class:`RDD`\n |          An empty RDD\n |      \n |      Examples\n |      --------\n |      >>> sc.emptyRDD()\n |      EmptyRDD...\n |      >>> sc.emptyRDD().count()\n |      0\n |  \n |  getCheckpointDir(self) -> Optional[str]\n |      Return the directory where RDDs are checkpointed. Returns None if no\n |      checkpoint directory has been set.\n |      \n |      .. versionadded:: 3.1.0\n |      \n |      See Also\n |      --------\n |      :meth:`SparkContext.setCheckpointDir`\n |      :meth:`RDD.checkpoint`\n |      :meth:`RDD.getCheckpointFile`\n |  \n |  getConf(self) -> pyspark.conf.SparkConf\n |      Return a copy of this SparkContext's configuration :class:`SparkConf`.\n |      \n |      .. versionadded:: 2.1.0\n |  \n |  getJobGroupId(self) -> Optional[str]\n |      Get a job group ID in this thread, or `None` if it is missing.\n |  \n |  getLocalProperty(self, key: str) -> Optional[str]\n |      Get a local property set in this thread, or null if it is missing. See\n |      :meth:`setLocalProperty`.\n |      \n |      .. versionadded:: 1.0.0\n |      \n |      See Also\n |      --------\n |      :meth:`SparkContext.setLocalProperty`\n |  \n |  hadoopFile(self, path: str, inputFormatClass: str, keyClass: str, valueClass: str, keyConverter: Optional[str] = None, valueConverter: Optional[str] = None, conf: Optional[Dict[str, str]] = None, batchSize: int = 0) -> pyspark.rdd.RDD[typing.Tuple[~T, ~U]]\n |      Read an 'old' Hadoop InputFormat with arbitrary key and value class from HDFS,\n |      a local file system (available on all nodes), or any Hadoop-supported file system URI.\n |      The mechanism is the same as for meth:`SparkContext.sequenceFile`.\n |      \n |      .. versionadded:: 1.1.0\n |      \n |      A Hadoop configuration can be passed in as a Python dict. This will be converted into a\n |      Configuration in Java.\n |      \n |      Parameters\n |      ----------\n |      path : str\n |          path to Hadoop file\n |      inputFormatClass : str\n |          fully qualified classname of Hadoop InputFormat\n |          (e.g. \"org.apache.hadoop.mapreduce.lib.input.TextInputFormat\")\n |      keyClass : str\n |          fully qualified classname of key Writable class (e.g. \"org.apache.hadoop.io.Text\")\n |      valueClass : str\n |          fully qualified classname of value Writable class\n |          (e.g. \"org.apache.hadoop.io.LongWritable\")\n |      keyConverter : str, optional\n |          fully qualified name of a function returning key WritableConverter\n |      valueConverter : str, optional\n |          fully qualified name of a function returning value WritableConverter\n |      conf : dict, optional\n |          Hadoop configuration, passed in as a dict\n |      batchSize : int, optional, default 0\n |          The number of Python objects represented as a single\n |          Java object. (default 0, choose batchSize automatically)\n |      \n |      Returns\n |      -------\n |      :class:`RDD`\n |          RDD of tuples of key and corresponding value\n |      \n |      See Also\n |      --------\n |      :meth:`RDD.saveAsSequenceFile`\n |      :meth:`RDD.saveAsNewAPIHadoopFile`\n |      :meth:`RDD.saveAsHadoopFile`\n |      :meth:`SparkContext.newAPIHadoopFile`\n |      :meth:`SparkContext.hadoopRDD`\n |      \n |      Examples\n |      --------\n |      >>> import os\n |      >>> import tempfile\n |      \n |      Set the related classes\n |      \n |      >>> output_format_class = \"org.apache.hadoop.mapred.TextOutputFormat\"\n |      >>> input_format_class = \"org.apache.hadoop.mapred.TextInputFormat\"\n |      >>> key_class = \"org.apache.hadoop.io.IntWritable\"\n |      >>> value_class = \"org.apache.hadoop.io.Text\"\n |      \n |      >>> with tempfile.TemporaryDirectory() as d:\n |      ...     path = os.path.join(d, \"old_hadoop_file\")\n |      ...\n |      ...     # Write a temporary Hadoop file\n |      ...     rdd = sc.parallelize([(1, \"\"), (1, \"a\"), (3, \"x\")])\n |      ...     rdd.saveAsHadoopFile(path, output_format_class, key_class, value_class)\n |      ...\n |      ...     loaded = sc.hadoopFile(path, input_format_class, key_class, value_class)\n |      ...     collected = sorted(loaded.collect())\n |      \n |      >>> collected\n |      [(0, '1\\t'), (0, '1\\ta'), (0, '3\\tx')]\n |  \n |  hadoopRDD(self, inputFormatClass: str, keyClass: str, valueClass: str, keyConverter: Optional[str] = None, valueConverter: Optional[str] = None, conf: Optional[Dict[str, str]] = None, batchSize: int = 0) -> pyspark.rdd.RDD[typing.Tuple[~T, ~U]]\n |      Read an 'old' Hadoop InputFormat with arbitrary key and value class, from an arbitrary\n |      Hadoop configuration, which is passed in as a Python dict.\n |      This will be converted into a Configuration in Java.\n |      The mechanism is the same as for meth:`SparkContext.sequenceFile`.\n |      \n |      .. versionadded:: 1.1.0\n |      \n |      Parameters\n |      ----------\n |      inputFormatClass : str\n |          fully qualified classname of Hadoop InputFormat\n |          (e.g. \"org.apache.hadoop.mapreduce.lib.input.TextInputFormat\")\n |      keyClass : str\n |          fully qualified classname of key Writable class (e.g. \"org.apache.hadoop.io.Text\")\n |      valueClass : str\n |          fully qualified classname of value Writable class\n |          (e.g. \"org.apache.hadoop.io.LongWritable\")\n |      keyConverter : str, optional\n |          fully qualified name of a function returning key WritableConverter\n |      valueConverter : str, optional\n |          fully qualified name of a function returning value WritableConverter\n |      conf : dict, optional\n |          Hadoop configuration, passed in as a dict\n |      batchSize : int, optional, default 0\n |          The number of Python objects represented as a single\n |          Java object. (default 0, choose batchSize automatically)\n |      \n |      Returns\n |      -------\n |      :class:`RDD`\n |          RDD of tuples of key and corresponding value\n |      \n |      See Also\n |      --------\n |      :meth:`RDD.saveAsNewAPIHadoopDataset`\n |      :meth:`RDD.saveAsHadoopDataset`\n |      :meth:`SparkContext.newAPIHadoopRDD`\n |      :meth:`SparkContext.hadoopFile`\n |      \n |      Examples\n |      --------\n |      >>> import os\n |      >>> import tempfile\n |      \n |      Set the related classes\n |      \n |      >>> output_format_class = \"org.apache.hadoop.mapred.TextOutputFormat\"\n |      >>> input_format_class = \"org.apache.hadoop.mapred.TextInputFormat\"\n |      >>> key_class = \"org.apache.hadoop.io.IntWritable\"\n |      >>> value_class = \"org.apache.hadoop.io.Text\"\n |      \n |      >>> with tempfile.TemporaryDirectory() as d:\n |      ...     path = os.path.join(d, \"old_hadoop_file\")\n |      ...\n |      ...     # Create the conf for writing\n |      ...     write_conf = {\n |      ...         \"mapred.output.format.class\": output_format_class,\n |      ...         \"mapreduce.job.output.key.class\": key_class,\n |      ...         \"mapreduce.job.output.value.class\": value_class,\n |      ...         \"mapreduce.output.fileoutputformat.outputdir\": path,\n |      ...     }\n |      ...\n |      ...     # Write a temporary Hadoop file\n |      ...     rdd = sc.parallelize([(1, \"\"), (1, \"a\"), (3, \"x\")])\n |      ...     rdd.saveAsHadoopDataset(conf=write_conf)\n |      ...\n |      ...     # Create the conf for reading\n |      ...     read_conf = {\"mapreduce.input.fileinputformat.inputdir\": path}\n |      ...\n |      ...     loaded = sc.hadoopRDD(input_format_class, key_class, value_class, conf=read_conf)\n |      ...     collected = sorted(loaded.collect())\n |      \n |      >>> collected\n |      [(0, '1\\t'), (0, '1\\ta'), (0, '3\\tx')]\n |  \n |  init_batched_serializer(self, data: Iterable[~T], numSlices: Optional[int] = None) -> 'BatchedSerializer'\n |      Init the batched serializer with the data to parallelize into an RDD and numSlices for the\n |      batch size.\n |  \n |  newAPIHadoopFile(self, path: str, inputFormatClass: str, keyClass: str, valueClass: str, keyConverter: Optional[str] = None, valueConverter: Optional[str] = None, conf: Optional[Dict[str, str]] = None, batchSize: int = 0) -> pyspark.rdd.RDD[typing.Tuple[~T, ~U]]\n |      Read a 'new API' Hadoop InputFormat with arbitrary key and value class from HDFS,\n |      a local file system (available on all nodes), or any Hadoop-supported file system URI.\n |      The mechanism is the same as for meth:`SparkContext.sequenceFile`.\n |      \n |      A Hadoop configuration can be passed in as a Python dict. This will be converted into a\n |      Configuration in Java\n |      \n |      .. versionadded:: 1.1.0\n |      \n |      Parameters\n |      ----------\n |      path : str\n |          path to Hadoop file\n |      inputFormatClass : str\n |          fully qualified classname of Hadoop InputFormat\n |          (e.g. \"org.apache.hadoop.mapreduce.lib.input.TextInputFormat\")\n |      keyClass : str\n |          fully qualified classname of key Writable class\n |          (e.g. \"org.apache.hadoop.io.Text\")\n |      valueClass : str\n |          fully qualified classname of value Writable class\n |          (e.g. \"org.apache.hadoop.io.LongWritable\")\n |      keyConverter : str, optional\n |          fully qualified name of a function returning key WritableConverter\n |          None by default\n |      valueConverter : str, optional\n |          fully qualified name of a function returning value WritableConverter\n |          None by default\n |      conf : dict, optional\n |          Hadoop configuration, passed in as a dict\n |          None by default\n |      batchSize : int, optional, default 0\n |          The number of Python objects represented as a single\n |          Java object. (default 0, choose batchSize automatically)\n |      \n |      Returns\n |      -------\n |      :class:`RDD`\n |          RDD of tuples of key and corresponding value\n |      \n |      See Also\n |      --------\n |      :meth:`RDD.saveAsSequenceFile`\n |      :meth:`RDD.saveAsNewAPIHadoopFile`\n |      :meth:`RDD.saveAsHadoopFile`\n |      :meth:`SparkContext.sequenceFile`\n |      :meth:`SparkContext.hadoopFile`\n |      \n |      Examples\n |      --------\n |      >>> import os\n |      >>> import tempfile\n |      \n |      Set the related classes\n |      \n |      >>> output_format_class = \"org.apache.hadoop.mapreduce.lib.output.SequenceFileOutputFormat\"\n |      >>> input_format_class = \"org.apache.hadoop.mapreduce.lib.input.SequenceFileInputFormat\"\n |      >>> key_class = \"org.apache.hadoop.io.IntWritable\"\n |      >>> value_class = \"org.apache.hadoop.io.Text\"\n |      \n |      >>> with tempfile.TemporaryDirectory() as d:\n |      ...     path = os.path.join(d, \"new_hadoop_file\")\n |      ...\n |      ...     # Write a temporary Hadoop file\n |      ...     rdd = sc.parallelize([(1, \"\"), (1, \"a\"), (3, \"x\")])\n |\n\n*** WARNING: max output size exceeded, skipping output. ***\n\nath = os.path.join(d, \"new_hadoop_file\")\n |      ...\n |      ...     # Create the conf for writing\n |      ...     write_conf = {\n |      ...         \"mapreduce.job.outputformat.class\": (output_format_class),\n |      ...         \"mapreduce.job.output.key.class\": key_class,\n |      ...         \"mapreduce.job.output.value.class\": value_class,\n |      ...         \"mapreduce.output.fileoutputformat.outputdir\": path,\n |      ...     }\n |      ...\n |      ...     # Write a temporary Hadoop file\n |      ...     rdd = sc.parallelize([(1, \"\"), (1, \"a\"), (3, \"x\")])\n |      ...     rdd.saveAsNewAPIHadoopDataset(conf=write_conf)\n |      ...\n |      ...     # Create the conf for reading\n |      ...     read_conf = {\"mapreduce.input.fileinputformat.inputdir\": path}\n |      ...\n |      ...     loaded = sc.newAPIHadoopRDD(input_format_class,\n |      ...         key_class, value_class, conf=read_conf)\n |      ...     collected = sorted(loaded.collect())\n |      \n |      >>> collected\n |      [(1, ''), (1, 'a'), (3, 'x')]\n |  \n |  parallelize(self, c: Iterable[~T], numSlices: Optional[int] = None) -> pyspark.rdd.RDD[~T]\n |      Distribute a local Python collection to form an RDD. Using range\n |      is recommended if the input represents a range for performance.\n |      \n |      .. versionadded:: 0.7.0\n |      \n |      Parameters\n |      ----------\n |      c : :class:`collections.abc.Iterable`\n |          iterable collection to distribute\n |      numSlices : int, optional\n |          the number of partitions of the new RDD\n |      \n |      Returns\n |      -------\n |      :class:`RDD`\n |          RDD representing distributed collection.\n |      \n |      Examples\n |      --------\n |      >>> sc.parallelize([0, 2, 3, 4, 6], 5).glom().collect()\n |      [[0], [2], [3], [4], [6]]\n |      >>> sc.parallelize(range(0, 6, 2), 5).glom().collect()\n |      [[], [0], [], [2], [4]]\n |      \n |      Deal with a list of strings.\n |      \n |      >>> strings = [\"a\", \"b\", \"c\"]\n |      >>> sc.parallelize(strings, 2).glom().collect()\n |      [['a'], ['b', 'c']]\n |  \n |  pickleFile(self, name: str, minPartitions: Optional[int] = None) -> pyspark.rdd.RDD[typing.Any]\n |      Load an RDD previously saved using :meth:`RDD.saveAsPickleFile` method.\n |      \n |      .. versionadded:: 1.1.0\n |      \n |      Parameters\n |      ----------\n |      name : str\n |          directory to the input data files, the path can be comma separated\n |          paths as a list of inputs\n |      minPartitions : int, optional\n |          suggested minimum number of partitions for the resulting RDD\n |      \n |      Returns\n |      -------\n |      :class:`RDD`\n |          RDD representing unpickled data from the file(s).\n |      \n |      See Also\n |      --------\n |      :meth:`RDD.saveAsPickleFile`\n |      \n |      Examples\n |      --------\n |      >>> import os\n |      >>> import tempfile\n |      >>> with tempfile.TemporaryDirectory() as d:\n |      ...     # Write a temporary pickled file\n |      ...     path1 = os.path.join(d, \"pickled1\")\n |      ...     sc.parallelize(range(10)).saveAsPickleFile(path1, 3)\n |      ...\n |      ...     # Write another temporary pickled file\n |      ...     path2 = os.path.join(d, \"pickled2\")\n |      ...     sc.parallelize(range(-10, -5)).saveAsPickleFile(path2, 3)\n |      ...\n |      ...     # Load picked file\n |      ...     collected1 = sorted(sc.pickleFile(path1, 3).collect())\n |      ...     collected2 = sorted(sc.pickleFile(path2, 4).collect())\n |      ...\n |      ...     # Load two picked files together\n |      ...     collected3 = sorted(sc.pickleFile('{},{}'.format(path1, path2), 5).collect())\n |      \n |      >>> collected1\n |      [0, 1, 2, 3, 4, 5, 6, 7, 8, 9]\n |      >>> collected2\n |      [-10, -9, -8, -7, -6]\n |      >>> collected3\n |      [-10, -9, -8, -7, -6, 0, 1, 2, 3, 4, 5, 6, 7, 8, 9]\n |  \n |  range(self, start: int, end: Optional[int] = None, step: int = 1, numSlices: Optional[int] = None) -> pyspark.rdd.RDD[int]\n |      Create a new RDD of int containing elements from `start` to `end`\n |      (exclusive), increased by `step` every element. Can be called the same\n |      way as python's built-in range() function. If called with a single argument,\n |      the argument is interpreted as `end`, and `start` is set to 0.\n |      \n |      .. versionadded:: 1.5.0\n |      \n |      Parameters\n |      ----------\n |      start : int\n |          the start value\n |      end : int, optional\n |          the end value (exclusive)\n |      step : int, optional, default 1\n |          the incremental step\n |      numSlices : int, optional\n |          the number of partitions of the new RDD\n |      \n |      Returns\n |      -------\n |      :class:`RDD`\n |          An RDD of int\n |      \n |      See Also\n |      --------\n |      :meth:`pyspark.sql.SparkSession.range`\n |      \n |      Examples\n |      --------\n |      >>> sc.range(5).collect()\n |      [0, 1, 2, 3, 4]\n |      >>> sc.range(2, 4).collect()\n |      [2, 3]\n |      >>> sc.range(1, 7, 2).collect()\n |      [1, 3, 5]\n |      \n |      Generate RDD with a negative step\n |      \n |      >>> sc.range(5, 0, -1).collect()\n |      [5, 4, 3, 2, 1]\n |      >>> sc.range(0, 5, -1).collect()\n |      []\n |      \n |      Control the number of partitions\n |      \n |      >>> sc.range(5, numSlices=1).getNumPartitions()\n |      1\n |      >>> sc.range(5, numSlices=10).getNumPartitions()\n |      10\n |  \n |  runJob(self, rdd: pyspark.rdd.RDD[~T], partitionFunc: Callable[[Iterable[~T]], Iterable[~U]], partitions: Optional[Sequence[int]] = None, allowLocal: bool = False) -> List[~U]\n |      Executes the given partitionFunc on the specified set of partitions,\n |      returning the result as an array of elements.\n |      \n |      If 'partitions' is not specified, this will run over all partitions.\n |      \n |      .. versionadded:: 1.1.0\n |      \n |      Parameters\n |      ----------\n |      rdd : :class:`RDD`\n |          target RDD to run tasks on\n |      partitionFunc : function\n |          a function to run on each partition of the RDD\n |      partitions : list, optional\n |          set of partitions to run on; some jobs may not want to compute on all\n |          partitions of the target RDD, e.g. for operations like `first`\n |      allowLocal : bool, default False\n |          this parameter takes no effect\n |      \n |      Returns\n |      -------\n |      list\n |          results of specified partitions\n |      \n |      See Also\n |      --------\n |      :meth:`SparkContext.cancelAllJobs`\n |      \n |      Examples\n |      --------\n |      >>> myRDD = sc.parallelize(range(6), 3)\n |      >>> sc.runJob(myRDD, lambda part: [x * x for x in part])\n |      [0, 1, 4, 9, 16, 25]\n |      \n |      >>> myRDD = sc.parallelize(range(6), 3)\n |      >>> sc.runJob(myRDD, lambda part: [x * x for x in part], [0, 2], True)\n |      [0, 1, 16, 25]\n |  \n |  sequenceFile(self, path: str, keyClass: Optional[str] = None, valueClass: Optional[str] = None, keyConverter: Optional[str] = None, valueConverter: Optional[str] = None, minSplits: Optional[int] = None, batchSize: int = 0) -> pyspark.rdd.RDD[typing.Tuple[~T, ~U]]\n |      Read a Hadoop SequenceFile with arbitrary key and value Writable class from HDFS,\n |      a local file system (available on all nodes), or any Hadoop-supported file system URI.\n |      The mechanism is as follows:\n |      \n |          1. A Java RDD is created from the SequenceFile or other InputFormat, and the key\n |             and value Writable classes\n |          2. Serialization is attempted via Pickle pickling\n |          3. If this fails, the fallback is to call 'toString' on each key and value\n |          4. :class:`CPickleSerializer` is used to deserialize pickled objects on the Python side\n |      \n |      .. versionadded:: 1.3.0\n |      \n |      Parameters\n |      ----------\n |      path : str\n |          path to sequencefile\n |      keyClass: str, optional\n |          fully qualified classname of key Writable class (e.g. \"org.apache.hadoop.io.Text\")\n |      valueClass : str, optional\n |          fully qualified classname of value Writable class\n |          (e.g. \"org.apache.hadoop.io.LongWritable\")\n |      keyConverter : str, optional\n |          fully qualified name of a function returning key WritableConverter\n |      valueConverter : str, optional\n |          fully qualifiedname of a function returning value WritableConverter\n |      minSplits : int, optional\n |          minimum splits in dataset (default min(2, sc.defaultParallelism))\n |      batchSize : int, optional, default 0\n |          The number of Python objects represented as a single\n |          Java object. (default 0, choose batchSize automatically)\n |      \n |      Returns\n |      -------\n |      :class:`RDD`\n |          RDD of tuples of key and corresponding value\n |      \n |      See Also\n |      --------\n |      :meth:`RDD.saveAsSequenceFile`\n |      :meth:`RDD.saveAsNewAPIHadoopFile`\n |      :meth:`RDD.saveAsHadoopFile`\n |      :meth:`SparkContext.newAPIHadoopFile`\n |      :meth:`SparkContext.hadoopFile`\n |      \n |      Examples\n |      --------\n |      >>> import os\n |      >>> import tempfile\n |      \n |      Set the class of output format\n |      \n |      >>> output_format_class = \"org.apache.hadoop.mapreduce.lib.output.SequenceFileOutputFormat\"\n |      \n |      >>> with tempfile.TemporaryDirectory() as d:\n |      ...     path = os.path.join(d, \"hadoop_file\")\n |      ...\n |      ...     # Write a temporary Hadoop file\n |      ...     rdd = sc.parallelize([(1, {3.0: \"bb\"}), (2, {1.0: \"aa\"}), (3, {2.0: \"dd\"})])\n |      ...     rdd.saveAsNewAPIHadoopFile(path, output_format_class)\n |      ...\n |      ...     collected = sorted(sc.sequenceFile(path).collect())\n |      \n |      >>> collected\n |      [(1, {3.0: 'bb'}), (2, {1.0: 'aa'}), (3, {2.0: 'dd'})]\n |  \n |  setCheckpointDir(self, dirName: str) -> None\n |      Set the directory under which RDDs are going to be checkpointed. The\n |      directory must be an HDFS path if running on a cluster.\n |      \n |      .. versionadded:: 0.7.0\n |      \n |      Parameters\n |      ----------\n |      dirName : str\n |          path to the directory where checkpoint files will be stored\n |          (must be HDFS path if running in cluster)\n |      \n |      See Also\n |      --------\n |      :meth:`SparkContext.getCheckpointDir`\n |      :meth:`RDD.checkpoint`\n |      :meth:`RDD.getCheckpointFile`\n |  \n |  setJobDescription(self, value: str) -> None\n |      Set a human readable description of the current job.\n |      \n |      .. versionadded:: 2.3.0\n |      \n |      Parameters\n |      ----------\n |      value : str\n |          The job description to set.\n |      \n |      Notes\n |      -----\n |      If you run jobs in parallel, use :class:`pyspark.InheritableThread` for thread\n |      local inheritance.\n |  \n |  setJobGroup(self, groupId: str, description: str, interruptOnCancel: bool = False) -> None\n |      Assigns a group ID to all the jobs started by this thread until the group ID is set to a\n |      different value or cleared.\n |      \n |      Often, a unit of execution in an application consists of multiple Spark actions or jobs.\n |      Application programmers can use this method to group all those jobs together and give a\n |      group description. Once set, the Spark web UI will associate such jobs with this group.\n |      \n |      The application can use :meth:`SparkContext.cancelJobGroup` to cancel all\n |      running jobs in this group.\n |      \n |      .. versionadded:: 1.0.0\n |      \n |      Parameters\n |      ----------\n |      groupId : str\n |          The group ID to assign.\n |      description : str\n |          The description to set for the job group.\n |      interruptOnCancel : bool, optional, default False\n |          whether to interrupt jobs on job cancellation.\n |      \n |      Notes\n |      -----\n |      If interruptOnCancel is set to true for the job group, then job cancellation will result\n |      in Thread.interrupt() being called on the job's executor threads. This is useful to help\n |      ensure that the tasks are actually stopped in a timely manner, but is off by default due\n |      to HDFS-1208, where HDFS may respond to Thread.interrupt() by marking nodes as dead.\n |      \n |      If you run jobs in parallel, use :class:`pyspark.InheritableThread` for thread\n |      local inheritance.\n |      \n |      See Also\n |      --------\n |      :meth:`SparkContext.cancelJobGroup`\n |      \n |      Examples\n |      --------\n |      >>> import threading\n |      >>> from time import sleep\n |      >>> from pyspark import InheritableThread\n |      >>> result = \"Not Set\"\n |      >>> lock = threading.Lock()\n |      >>> def map_func(x):\n |      ...     sleep(100)\n |      ...     raise RuntimeError(\"Task should have been cancelled\")\n |      >>> def start_job(x):\n |      ...     global result\n |      ...     try:\n |      ...         sc.setJobGroup(\"job_to_cancel\", \"some description\")\n |      ...         result = sc.parallelize(range(x)).map(map_func).collect()\n |      ...     except Exception as e:\n |      ...         result = \"Cancelled\"\n |      ...     lock.release()\n |      >>> def stop_job():\n |      ...     sleep(5)\n |      ...     sc.cancelJobGroup(\"job_to_cancel\")\n |      >>> suppress = lock.acquire()\n |      >>> suppress = InheritableThread(target=start_job, args=(10,)).start()\n |      >>> suppress = InheritableThread(target=stop_job).start()\n |      >>> suppress = lock.acquire()\n |      >>> print(result)\n |      Cancelled\n |  \n |  setLocalProperty(self, key: str, value: str) -> None\n |      Set a local property that affects jobs submitted from this thread, such as the\n |      Spark fair scheduler pool.\n |      \n |      .. versionadded:: 1.0.0\n |      \n |      Parameters\n |      ----------\n |      key : str\n |          The key of the local property to set.\n |      value : str\n |          The value of the local property to set.\n |      \n |      See Also\n |      --------\n |      :meth:`SparkContext.getLocalProperty`\n |      \n |      Notes\n |      -----\n |      If you run jobs in parallel, use :class:`pyspark.InheritableThread` for thread\n |      local inheritance.\n |  \n |  setLogLevel(self, logLevel: str) -> None\n |      Control our logLevel. This overrides any user-defined log settings.\n |      Valid log levels include: ALL, DEBUG, ERROR, FATAL, INFO, OFF, TRACE, WARN\n |      \n |      .. versionadded:: 1.4.0\n |      \n |      Parameters\n |      ----------\n |      logLevel : str\n |          The desired log level as a string.\n |      \n |      Examples\n |      --------\n |      >>> sc.setLogLevel(\"WARN\")  # doctest :+SKIP\n |  \n |  show_profiles(self) -> None\n |      Print the profile stats to stdout\n |      \n |      .. versionadded:: 1.2.0\n |      \n |      See Also\n |      --------\n |      :meth:`SparkContext.dump_profiles`\n |  \n |  sparkUser(self) -> str\n |      Get SPARK_USER for user who is running SparkContext.\n |      \n |      .. versionadded:: 1.0.0\n |  \n |  statusTracker(self) -> pyspark.status.StatusTracker\n |      Return :class:`StatusTracker` object\n |      \n |      .. versionadded:: 1.4.0\n |  \n |  stop(self) -> None\n |      Shut down the :class:`SparkContext`.\n |      \n |      .. versionadded:: 0.7.0\n |  \n |  textFile(self, name: str, minPartitions: Optional[int] = None, use_unicode: bool = True) -> pyspark.rdd.RDD[str]\n |      Read a text file from HDFS, a local file system (available on all\n |      nodes), or any Hadoop-supported file system URI, and return it as an\n |      RDD of Strings. The text files must be encoded as UTF-8.\n |      \n |      .. versionadded:: 0.7.0\n |      \n |      Parameters\n |      ----------\n |      name : str\n |          directory to the input data files, the path can be comma separated\n |          paths as a list of inputs\n |      minPartitions : int, optional\n |          suggested minimum number of partitions for the resulting RDD\n |      use_unicode : bool, default True\n |          If `use_unicode` is False, the strings will be kept as `str` (encoding\n |          as `utf-8`), which is faster and smaller than unicode.\n |      \n |          .. versionadded:: 1.2.0\n |      \n |      Returns\n |      -------\n |      :class:`RDD`\n |          RDD representing text data from the file(s).\n |      \n |      See Also\n |      --------\n |      :meth:`RDD.saveAsTextFile`\n |      :meth:`SparkContext.wholeTextFiles`\n |      \n |      Examples\n |      --------\n |      >>> import os\n |      >>> import tempfile\n |      >>> with tempfile.TemporaryDirectory() as d:\n |      ...     path1 = os.path.join(d, \"text1\")\n |      ...     path2 = os.path.join(d, \"text2\")\n |      ...\n |      ...     # Write a temporary text file\n |      ...     sc.parallelize([\"x\", \"y\", \"z\"]).saveAsTextFile(path1)\n |      ...\n |      ...     # Write another temporary text file\n |      ...     sc.parallelize([\"aa\", \"bb\", \"cc\"]).saveAsTextFile(path2)\n |      ...\n |      ...     # Load text file\n |      ...     collected1 = sorted(sc.textFile(path1, 3).collect())\n |      ...     collected2 = sorted(sc.textFile(path2, 4).collect())\n |      ...\n |      ...     # Load two text files together\n |      ...     collected3 = sorted(sc.textFile('{},{}'.format(path1, path2), 5).collect())\n |      \n |      >>> collected1\n |      ['x', 'y', 'z']\n |      >>> collected2\n |      ['aa', 'bb', 'cc']\n |      >>> collected3\n |      ['aa', 'bb', 'cc', 'x', 'y', 'z']\n |  \n |  union(self, rdds: List[pyspark.rdd.RDD[~T]]) -> pyspark.rdd.RDD[~T]\n |      Build the union of a list of RDDs.\n |      \n |      This supports unions() of RDDs with different serialized formats,\n |      although this forces them to be reserialized using the default\n |      serializer:\n |      \n |      .. versionadded:: 0.7.0\n |      \n |      See Also\n |      --------\n |      :meth:`RDD.union`\n |      \n |      Examples\n |      --------\n |      >>> import os\n |      >>> import tempfile\n |      >>> with tempfile.TemporaryDirectory() as d:\n |      ...     # generate a text RDD\n |      ...     with open(os.path.join(d, \"union-text.txt\"), \"w\") as f:\n |      ...         _ = f.write(\"Hello\")\n |      ...     text_rdd = sc.textFile(d)\n |      ...\n |      ...     # generate another RDD\n |      ...     parallelized = sc.parallelize([\"World!\"])\n |      ...\n |      ...     unioned = sorted(sc.union([text_rdd, parallelized]).collect())\n |      \n |      >>> unioned\n |      ['Hello', 'World!']\n |  \n |  wholeTextFiles(self, path: str, minPartitions: Optional[int] = None, use_unicode: bool = True) -> pyspark.rdd.RDD[typing.Tuple[str, str]]\n |      Read a directory of text files from HDFS, a local file system\n |      (available on all nodes), or any  Hadoop-supported file system\n |      URI. Each file is read as a single record and returned in a\n |      key-value pair, where the key is the path of each file, the\n |      value is the content of each file.\n |      The text files must be encoded as UTF-8.\n |      \n |      .. versionadded:: 1.0.0\n |      \n |      For example, if you have the following files:\n |      \n |      .. code-block:: text\n |      \n |          hdfs://a-hdfs-path/part-00000\n |          hdfs://a-hdfs-path/part-00001\n |          ...\n |          hdfs://a-hdfs-path/part-nnnnn\n |      \n |      Do ``rdd = sparkContext.wholeTextFiles(\"hdfs://a-hdfs-path\")``,\n |      then ``rdd`` contains:\n |      \n |      .. code-block:: text\n |      \n |          (a-hdfs-path/part-00000, its content)\n |          (a-hdfs-path/part-00001, its content)\n |          ...\n |          (a-hdfs-path/part-nnnnn, its content)\n |      \n |      Parameters\n |      ----------\n |      path : str\n |          directory to the input data files, the path can be comma separated\n |          paths as a list of inputs\n |      minPartitions : int, optional\n |          suggested minimum number of partitions for the resulting RDD\n |      use_unicode : bool, default True\n |          If `use_unicode` is False, the strings will be kept as `str` (encoding\n |          as `utf-8`), which is faster and smaller than unicode.\n |      \n |          .. versionadded:: 1.2.0\n |      \n |      Returns\n |      -------\n |      :class:`RDD`\n |          RDD representing path-content pairs from the file(s).\n |      \n |      Notes\n |      -----\n |      Small files are preferred, as each file will be loaded fully in memory.\n |      \n |      See Also\n |      --------\n |      :meth:`RDD.saveAsTextFile`\n |      :meth:`SparkContext.textFile`\n |      \n |      Examples\n |      --------\n |      >>> import os\n |      >>> import tempfile\n |      >>> with tempfile.TemporaryDirectory() as d:\n |      ...     # Write a temporary text file\n |      ...     with open(os.path.join(d, \"1.txt\"), \"w\") as f:\n |      ...         _ = f.write(\"123\")\n |      ...\n |      ...     # Write another temporary text file\n |      ...     with open(os.path.join(d, \"2.txt\"), \"w\") as f:\n |      ...         _ = f.write(\"xyz\")\n |      ...\n |      ...     collected = sorted(sc.wholeTextFiles(d).collect())\n |      >>> collected\n |      [('.../1.txt', '123'), ('.../2.txt', 'xyz')]\n |  \n |  ----------------------------------------------------------------------\n |  Class methods inherited from pyspark.context.SparkContext:\n |  \n |  getOrCreate(conf: Optional[pyspark.conf.SparkConf] = None) -> 'SparkContext' from builtins.type\n |      Get or instantiate a :class:`SparkContext` and register it as a singleton object.\n |      \n |      .. versionadded:: 1.4.0\n |      \n |      Parameters\n |      ----------\n |      conf : :class:`SparkConf`, optional\n |          :class:`SparkConf` that will be used for initialization of the :class:`SparkContext`.\n |      \n |      Returns\n |      -------\n |      :class:`SparkContext`\n |          current :class:`SparkContext`, or a new one if it wasn't created before the function\n |          call.\n |      \n |      Examples\n |      --------\n |      >>> SparkContext.getOrCreate()\n |      <SparkContext ...>\n |  \n |  setSystemProperty(key: str, value: str) -> None from builtins.type\n |      Set a Java system property, such as `spark.executor.memory`. This must\n |      be invoked before instantiating :class:`SparkContext`.\n |      \n |      .. versionadded:: 0.9.0\n |      \n |      Parameters\n |      ----------\n |      key : str\n |          The key of a new Java system property.\n |      value : str\n |          The value of a new Java system property.\n |  \n |  ----------------------------------------------------------------------\n |  Readonly properties inherited from pyspark.context.SparkContext:\n |  \n |  applicationId\n |      A unique identifier for the Spark application.\n |      Its format depends on the scheduler implementation.\n |      \n |      * in case of local spark app something like 'local-1433865536131'\n |      * in case of YARN something like 'application_1433865536131_34483'\n |      \n |      .. versionadded:: 1.5.0\n |      \n |      Examples\n |      --------\n |      >>> sc.applicationId  # doctest: +ELLIPSIS\n |      'local-...'\n |  \n |  defaultMinPartitions\n |      Default min number of partitions for Hadoop RDDs when not given by user\n |      \n |      .. versionadded:: 1.1.0\n |      \n |      Examples\n |      --------\n |      >>> sc.defaultMinPartitions > 0\n |      True\n |  \n |  defaultParallelism\n |      Default level of parallelism to use when not given by user (e.g. for reduce tasks)\n |      \n |      .. versionadded:: 0.7.0\n |      \n |      Examples\n |      --------\n |      >>> sc.defaultParallelism > 0\n |      True\n |  \n |  resources\n |      Return the resource information of this :class:`SparkContext`.\n |      A resource could be a GPU, FPGA, etc.\n |      \n |      .. versionadded:: 3.0.0\n |  \n |  startTime\n |      Return the epoch time when the :class:`SparkContext` was started.\n |      \n |      .. versionadded:: 1.5.0\n |      \n |      Examples\n |      --------\n |      >>> _ = sc.startTime\n |  \n |  uiWebUrl\n |      Return the URL of the SparkUI instance started by this :class:`SparkContext`\n |      \n |      .. versionadded:: 2.1.0\n |      \n |      Notes\n |      -----\n |      When the web ui is disabled, e.g., by ``spark.ui.enabled`` set to ``False``,\n |      it returns ``None``.\n |      \n |      Examples\n |      --------\n |      >>> sc.uiWebUrl\n |      'http://...'\n |  \n |  version\n |      The version of Spark on which this application is running.\n |      \n |      .. versionadded:: 1.1.0\n |      \n |      Examples\n |      --------\n |      >>> _ = sc.version\n |  \n |  ----------------------------------------------------------------------\n |  Data descriptors inherited from pyspark.context.SparkContext:\n |  \n |  __dict__\n |      dictionary for instance variables (if defined)\n |  \n |  __weakref__\n |      list of weak references to the object (if defined)\n |  \n |  ----------------------------------------------------------------------\n |  Data and other attributes inherited from pyspark.context.SparkContext:\n |  \n |  PACKAGE_EXTENSIONS = ('.zip', '.egg', '.jar')\n |  \n |  __annotations__ = {'PACKAGE_EXTENSIONS': typing.Iterable[str], '_activ...\n\n"
     ]
    }
   ],
   "source": [
    "help(sc)"
   ]
  },
  {
   "cell_type": "markdown",
   "metadata": {
    "application/vnd.databricks.v1+cell": {
     "cellMetadata": {},
     "inputWidgets": {},
     "nuid": "2f8acf47-418d-460f-8fd5-293792042964",
     "showTitle": false,
     "title": ""
    }
   },
   "source": [
    "#### Utiliser les RDD pour faire des transformations et des actions\n",
    "* Créer une collection Python de 10.000 entiers\n",
    "* Créer un RDD de base Spark à partir de cette collection\n",
    "* Compter le nombre d'élement du RDD\n",
    "\n",
    "\n",
    "``range(), parallelize(), count()``"
   ]
  },
  {
   "cell_type": "code",
   "execution_count": 0,
   "metadata": {
    "application/vnd.databricks.v1+cell": {
     "cellMetadata": {},
     "inputWidgets": {},
     "nuid": "202dc19f-e446-4d23-b50c-760cb839cd92",
     "showTitle": false,
     "title": ""
    }
   },
   "outputs": [],
   "source": []
  },
  {
   "cell_type": "code",
   "execution_count": 0,
   "metadata": {
    "application/vnd.databricks.v1+cell": {
     "cellMetadata": {
      "byteLimit": 2048000,
      "rowLimit": 10000
     },
     "inputWidgets": {},
     "nuid": "53649a9a-490d-4837-b8c2-0efed2183343",
     "showTitle": false,
     "title": ""
    }
   },
   "outputs": [
    {
     "output_type": "stream",
     "name": "stdout",
     "output_type": "stream",
     "text": [
      "Out[33]: 10000"
     ]
    }
   ],
   "source": [
    "# Créer une liste de 1 à 10.000\n",
    "data = range(1, 10001)\n",
    "\n",
    "# Créer un rdd à partir de la collection data\n",
    "rdd = sc.parallelize(data)\n",
    "\n",
    "# Compter le nombre d'éléments\n",
    "rdd.count()"
   ]
  },
  {
   "cell_type": "code",
   "execution_count": 0,
   "metadata": {
    "application/vnd.databricks.v1+cell": {
     "cellMetadata": {},
     "inputWidgets": {},
     "nuid": "7f813120-7146-4633-9514-6d876cac4496",
     "showTitle": false,
     "title": ""
    }
   },
   "outputs": [],
   "source": []
  },
  {
   "cell_type": "markdown",
   "metadata": {
    "application/vnd.databricks.v1+cell": {
     "cellMetadata": {},
     "inputWidgets": {},
     "nuid": "286af2cd-7ef9-4d5c-926e-6137569307b1",
     "showTitle": false,
     "title": ""
    }
   },
   "source": [
    "###  Collecter les données\n",
    "* Quel est le premier élément du rdd ?\n",
    "* Afficher les 20 premiers éléments du rdd\n",
    "* Quelle différence entre take et takeOrdered ?\n",
    "* Créer un sample aléatoire avec remise de 50%, à partir de 'rdd'\n",
    "* Quelle est la différence entre takeSample() et sample()?\n",
    "* Collecter le sample (ne jamais faire un collect sur un RDD/Dataset en entier)\n",
    "\n",
    "* `first(), collect(), take(), takeSample(), sample(), top()`"
   ]
  },
  {
   "cell_type": "code",
   "execution_count": 0,
   "metadata": {
    "application/vnd.databricks.v1+cell": {
     "cellMetadata": {
      "byteLimit": 2048000,
      "rowLimit": 10000
     },
     "inputWidgets": {},
     "nuid": "6576e1b7-65a4-4ad7-975e-e6e1627fa6c9",
     "showTitle": false,
     "title": ""
    }
   },
   "outputs": [
    {
     "output_type": "stream",
     "name": "stdout",
     "output_type": "stream",
     "text": [
      "Out[5]: 1"
     ]
    }
   ],
   "source": [
    "rdd.first()"
   ]
  },
  {
   "cell_type": "code",
   "execution_count": 0,
   "metadata": {
    "application/vnd.databricks.v1+cell": {
     "cellMetadata": {
      "byteLimit": 2048000,
      "rowLimit": 10000
     },
     "inputWidgets": {},
     "nuid": "574099f5-aa4e-4c5e-9bf5-21d31d613094",
     "showTitle": false,
     "title": ""
    }
   },
   "outputs": [
    {
     "output_type": "stream",
     "name": "stdout",
     "output_type": "stream",
     "text": [
      "Out[6]: [1, 2, 3, 4, 5, 6, 7, 8, 9, 10, 11, 12, 13, 14, 15, 16, 17, 18, 19, 20]"
     ]
    }
   ],
   "source": [
    "rdd.take(20)"
   ]
  },
  {
   "cell_type": "code",
   "execution_count": 0,
   "metadata": {
    "application/vnd.databricks.v1+cell": {
     "cellMetadata": {
      "byteLimit": 2048000,
      "rowLimit": 10000
     },
     "inputWidgets": {},
     "nuid": "da64bcff-7a16-4703-aa2a-ee28b5092337",
     "showTitle": false,
     "title": ""
    }
   },
   "outputs": [
    {
     "output_type": "stream",
     "name": "stdout",
     "output_type": "stream",
     "text": [
      "Out[7]: [2738,\n 6607,\n 9999,\n 6642,\n 6351,\n 8413,\n 5689,\n 8865,\n 4461,\n 1918,\n 2475,\n 2103,\n 829,\n 4719,\n 1729,\n 7557,\n 5654,\n 1086,\n 702,\n 4708,\n 424,\n 1087,\n 2835,\n 7111,\n 8911,\n 5411,\n 2588,\n 8034,\n 7858,\n 9770,\n 3545,\n 4446,\n 8589,\n 9766,\n 3316,\n 355,\n 67,\n 8662,\n 9888,\n 8383,\n 9852,\n 2550,\n 7222,\n 8775,\n 7200,\n 6823,\n 6693,\n 5404,\n 4934,\n 4427,\n 6753,\n 5232,\n 7827,\n 2123,\n 4606,\n 263,\n 4253,\n 6443,\n 7875,\n 863,\n 9410,\n 1084,\n 6856,\n 9263,\n 6438,\n 929,\n 5285,\n 4768,\n 4826,\n 3360,\n 5983,\n 5678,\n 2641,\n 9003,\n 9110,\n 5938,\n 2587,\n 1317,\n 207,\n 6792,\n 9348,\n 1683,\n 1450,\n 2329,\n 6529,\n 3023,\n 3475,\n 5771,\n 4609,\n 9957,\n 9541,\n 9364,\n 779,\n 7498,\n 1355,\n 7378,\n 7818,\n 3682,\n 149,\n 4807,\n 2885,\n 1543,\n 1916,\n 2021,\n 2020,\n 2125,\n 334,\n 4709,\n 2849,\n 5794,\n 7728,\n 8984,\n 1590,\n 1088,\n 3457,\n 7282,\n 7542,\n 349,\n 5578,\n 433,\n 4667,\n 8546,\n 9918,\n 6451,\n 3125,\n 6327,\n 5139,\n 7639,\n 4057,\n 5975,\n 3224,\n 8805,\n 3205,\n 9348,\n 4789,\n 5463,\n 3859,\n 6265,\n 3105,\n 8818,\n 8289,\n 5259,\n 1129,\n 181,\n 2570,\n 4847,\n 5771,\n 4050,\n 5644,\n 1961,\n 9119,\n 532,\n 6283,\n 1253,\n 1010,\n 6182,\n 7950,\n 8398,\n 672,\n 1979,\n 8479,\n 4149,\n 9692,\n 6168,\n 4036,\n 4801,\n 8919,\n 2813,\n 3864,\n 6678,\n 3072,\n 2183,\n 9553,\n 8420,\n 3382,\n 8987,\n 5679,\n 6086,\n 7922,\n 3066,\n 702,\n 8154,\n 9953,\n 5067,\n 1455,\n 713,\n 9176,\n 6002,\n 3921,\n 9788,\n 3609,\n 5549,\n 3165,\n 3675,\n 7042,\n 409,\n 797,\n 4427,\n 3821,\n 1599,\n 2875,\n 781,\n 2366,\n 9295,\n 2544,\n 242,\n 9352,\n 1214,\n 7355,\n 5216,\n 696,\n 5454,\n 5756,\n 5659,\n 9957,\n 632,\n 3601,\n 9899,\n 6920,\n 3094,\n 5753,\n 9311,\n 9521,\n 7247,\n 8695,\n 8685,\n 9238,\n 1982,\n 7835,\n 3239,\n 4323,\n 8573,\n 6564,\n 3458,\n 7084,\n 7168,\n 278,\n 1714,\n 9169,\n 8439,\n 7473,\n 8009,\n 9570,\n 4457,\n 641,\n 2779,\n 7487,\n 4155,\n 666,\n 167,\n 3597,\n 2530,\n 873,\n 6466,\n 8846,\n 2427,\n 3084,\n 9261,\n 1989,\n 1305,\n 6888,\n 167,\n 9036,\n 1766,\n 7723,\n 1947,\n 2233,\n 1552,\n 2636,\n 5082,\n 1929,\n 4358,\n 74,\n 7179,\n 4033,\n 8339,\n 129,\n 1232,\n 5962,\n 9564,\n 2821,\n 4427,\n 640,\n 8163,\n 5274,\n 7599,\n 3770,\n 5770,\n 1680,\n 5178,\n 5966,\n 742,\n 1158,\n 8646,\n 1355,\n 834,\n 8971,\n 8485,\n 2596,\n 4683,\n 8577,\n 9419,\n 9715,\n 8547,\n 4213,\n 9225,\n 4163,\n 944,\n 7244,\n 852,\n 1385,\n 6510,\n 7827,\n 5711,\n 3200,\n 8574,\n 9459,\n 3482,\n 8794,\n 146,\n 7001,\n 4156,\n 3630,\n 138,\n 6576,\n 9850,\n 1209,\n 6350,\n 5901,\n 363,\n 1588,\n 8712,\n 1283,\n 5715,\n 3695,\n 862,\n 7675,\n 1529,\n 6474,\n 5290,\n 7966,\n 6986,\n 2512,\n 70,\n 9668,\n 2263,\n 3473,\n 2225,\n 5955,\n 7101,\n 9077,\n 20,\n 8803,\n 2691,\n 947,\n 8397,\n 1203,\n 6200,\n 5586,\n 7759,\n 5263,\n 5854,\n 2125,\n 509,\n 220,\n 7615,\n 5039,\n 3021,\n 9078,\n 2159,\n 2277,\n 5712,\n 8712,\n 6610,\n 6814,\n 4995,\n 3003,\n 592,\n 9898,\n 671,\n 8309,\n 3912,\n 8443,\n 7574,\n 9959,\n 7769,\n 9830,\n 8224,\n 2976,\n 8889,\n 2040,\n 3418,\n 9581,\n 6787,\n 2162,\n 7436,\n 7285,\n 83,\n 8115,\n 2444,\n 7135,\n 5520,\n 2782,\n 2333,\n 5003,\n 6427,\n 6525,\n 5432,\n 351,\n 4630,\n 479,\n 1305,\n 256,\n 8859,\n 5438,\n 8196,\n 360,\n 5667,\n 9618,\n 5504,\n 8414,\n 6044,\n 9618,\n 2309,\n 3049,\n 2586,\n 3534,\n 9953,\n 3665,\n 9289,\n 6254,\n 9619,\n 3883,\n 6106,\n 9083,\n 4544,\n 518,\n 1950,\n 490,\n 7417,\n 1991,\n 5732,\n 4921,\n 1889,\n 801,\n 3809,\n 1161,\n 9081,\n 4937,\n 4873,\n 1108,\n 6266,\n 5310,\n 7317,\n 6513,\n 6581,\n 1615,\n 1157,\n 5499,\n 481,\n 3243,\n 3458,\n 8195,\n 8080,\n 638,\n 8102,\n 9648,\n 7894,\n 6433,\n 987,\n 9940,\n 7629,\n 2730,\n 2077,\n 1385,\n 4379,\n 9144,\n 7991,\n 7691,\n 3073,\n 302,\n 3859,\n 157,\n 4655,\n 5046,\n 4054,\n 1143,\n 431,\n 6127,\n 6684,\n 2822,\n 8378,\n 8731,\n 7445,\n 1738,\n 5981,\n 4394,\n 6419,\n 8236,\n 7032,\n 4554,\n 129,\n 6397,\n 9797,\n 169,\n 6953,\n 1410,\n 6728,\n 2902,\n 2002,\n 7330,\n 6005,\n 4044,\n 6217,\n 6615,\n 8190,\n 8730,\n 2727,\n 2448,\n 6725,\n 6574,\n 7121,\n 5660,\n 6008,\n 6027,\n 5057,\n 3177,\n 6074,\n 8199,\n 3908,\n 706,\n 8110,\n 196,\n 1611,\n 2113,\n 7328,\n 5131,\n 8133,\n 2655,\n 5989,\n 8052,\n 527,\n 6090,\n 3105,\n 5668,\n 4461,\n 3639,\n 3076,\n 5984,\n 2247,\n 1124,\n 6277,\n 9942,\n 4865,\n 3720,\n 6529,\n 762,\n 7500,\n 5243,\n 2217,\n 4653,\n 3274,\n 3064,\n 2130,\n 4278,\n 2857,\n 2531,\n 3292,\n 3949,\n 8844,\n 9413,\n 2856,\n 5514,\n 5267,\n 9638,\n 7785,\n 6898,\n 235,\n 5093,\n 4893,\n 8408,\n 6188,\n 2389,\n 9207,\n 4491,\n 697,\n 8549,\n 5499,\n 5847,\n 1814,\n 5092,\n 3682,\n 1882,\n 4641,\n 8882,\n 3175,\n 4077,\n 5529,\n 7640,\n 8645,\n 8736,\n 9240,\n 2022,\n 3706,\n 6697,\n 1617,\n 1745,\n 8768,\n 6612,\n 1638,\n 1293,\n 1927,\n 7891,\n 9789,\n 710,\n 3538,\n 6893,\n 9006,\n 2601,\n 8721,\n 6475,\n 253,\n 927,\n 4202,\n 7040,\n 3178,\n 1813,\n 3422,\n 1615,\n 8282,\n 2087,\n 3821,\n 9230,\n 8209,\n 187,\n 2328,\n 7269,\n 8586,\n 9866,\n 5607,\n 4666,\n 5147,\n 601,\n 5738,\n 4834,\n 8153,\n 9852,\n 9742,\n 8676,\n 3743,\n 8135,\n 7826,\n 7523,\n 8802,\n 8218,\n 5728,\n 5122,\n 6,\n 5519,\n 5019,\n 76,\n 8358,\n 8620,\n 1756,\n 6091,\n 3393,\n 7528,\n 1895,\n 2108,\n 4090,\n 6150,\n 5400,\n 3533,\n 1619,\n 856,\n 160,\n 4293,\n 2685,\n 7128,\n 1252,\n 6144,\n 416,\n 3886,\n 6849,\n 507,\n 6322,\n 5368,\n 5145,\n 2841,\n 1502,\n 8514,\n 6945,\n 9847,\n 7991,\n 9766,\n 7260,\n 29,\n 1910,\n 5263,\n 8369,\n 1505,\n 6708,\n 6836,\n 4750,\n 6127,\n 6006,\n 8231,\n 8044,\n 2137,\n 9565,\n 8368,\n 8032,\n 3241,\n 6009,\n 4742,\n 4424,\n 4203,\n 4422,\n 2010,\n 2688,\n 977,\n 4772,\n 8382,\n 6379,\n 4429,\n 8927,\n 2684,\n 9042,\n 96,\n 823,\n 7348,\n 2312,\n 2139,\n 2504,\n 7059,\n 2482,\n 9257,\n 6162,\n 3033,\n 7700,\n 5811,\n 7096,\n 1432,\n 5935,\n 7748,\n 904,\n 9808,\n 2861,\n 6352,\n 287,\n 3944,\n 1359,\n 9982,\n 9160,\n 8600,\n 6662,\n 9902,\n 773,\n 889,\n 3104,\n 9798,\n 4504,\n 8355,\n 721,\n 6509,\n 8809,\n 4834,\n 1709,\n 3861,\n 179,\n 7889,\n 495,\n 6809,\n 2699,\n 1544,\n 3040,\n 8443,\n 8823,\n 8580,\n 7682,\n 1599,\n 6614,\n 1435,\n 181,\n 4023,\n 2341,\n 8720,\n 5233,\n 4778,\n 6533,\n 2955,\n 2197,\n 2259,\n 192,\n 105,\n 9877,\n 8091,\n 7422,\n 8748,\n 9416,\n 7799,\n 1951,\n 6338,\n 6462,\n 6961,\n 2212,\n 4877,\n 3875,\n 8371,\n 3069,\n 928,\n 9746,\n 1076,\n 6060,\n 2336,\n 6745,\n 3482,\n 8390,\n 7334,\n 9845,\n 5763,\n 8484,\n 9722,\n 8585,\n 9070,\n 5759,\n 8000,\n 8515,\n 2718,\n 9061,\n 6173,\n 6826,\n 6008,\n 9580,\n 7957,\n 6929,\n 3006,\n 7578,\n 6533,\n 201,\n 4813,\n 7767,\n 521,\n 9525,\n 9717,\n 6906,\n 7080,\n 4997,\n 7396,\n 3146,\n 8787,\n 9073,\n 5537,\n 9120,\n 4951,\n 7879,\n 2114,\n 5935,\n 764,\n 6703,\n 8962,\n 7450,\n 1964,\n 1288,\n 6834,\n 7916,\n 5363,\n 5137,\n 7521,\n 8207,\n 1666,\n 5729,\n 6723,\n 8816,\n 8666,\n 4059,\n 8100,\n 44,\n 8397,\n 4074,\n 9329,\n 6170,\n 7801,\n 1108,\n 104,\n 1155,\n 5265,\n 5760,\n 8610,\n 6460,\n 8118,\n 1819,\n 4070,\n 1189,\n 3877,\n 7219,\n 3675,\n 8865,\n 2022,\n 8959,\n 46,\n 3820,\n 4843,\n 3907,\n 9778,\n 8974,\n 7261,\n 7616,\n 6809,\n 1544,\n 8631,\n 4984,\n 4450,\n 3258,\n 9686,\n 9774,\n 2261,\n 3763,\n 8058,\n 2215,\n 7193,\n 9961,\n 7318,\n 8008,\n 3309,\n 4617,\n 534,\n 3609,\n 5296,\n 5207,\n 9235,\n 3506,\n 9125,\n 6161,\n 944,\n 8338,\n 196,\n 2034,\n 5825,\n 4964,\n 9775,\n 5846,\n 9612,\n 5290,\n 7626,\n 3738,\n 1821,\n 2475,\n 2038,\n 4441,\n 3881,\n 6558,\n 5291,\n 5968,\n 9505,\n 5504,\n 2339,\n 5394,\n 9997,\n 6600,\n 9472,\n 5076,\n 696,\n 3472,\n 2792,\n 2391,\n 2850,\n 9026,\n 7054,\n 8200,\n 4721,\n 3326,\n 1483,\n 9625,\n 3725,\n 7212,\n 285,\n 6545,\n 8129,\n 2901,\n 6835,\n 1442,\n 7869,\n 3732,\n 5092,\n 9076,\n 5859,\n 9921,\n 575,\n 2561,\n 5462,\n 2530,\n 5552,\n 2993,\n 9053,\n 7731,\n 5844,\n 9865,\n 5266,\n 257,\n ...]"
     ]
    }
   ],
   "source": [
    "rdd.takeSample(withReplacement=True, num=5000, seed=42)"
   ]
  },
  {
   "cell_type": "code",
   "execution_count": 0,
   "metadata": {
    "application/vnd.databricks.v1+cell": {
     "cellMetadata": {
      "byteLimit": 2048000,
      "rowLimit": 10000
     },
     "inputWidgets": {},
     "nuid": "d3be2f37-ba23-4d45-823e-44f360c9a9b2",
     "showTitle": false,
     "title": ""
    }
   },
   "outputs": [
    {
     "output_type": "stream",
     "name": "stdout",
     "output_type": "stream",
     "text": [
      "\u001B[0;31mSignature:\u001B[0m \u001B[0;32mdef\u001B[0m \u001B[0mtop\u001B[0m\u001B[0;34m(\u001B[0m\u001B[0mnum\u001B[0m\u001B[0;34m:\u001B[0m \u001B[0mint\u001B[0m\u001B[0;34m,\u001B[0m \u001B[0mkey\u001B[0m\u001B[0;34m:\u001B[0m \u001B[0mOptional\u001B[0m\u001B[0;34m[\u001B[0m\u001B[0mCallable\u001B[0m\u001B[0;34m[\u001B[0m\u001B[0;34m[\u001B[0m\u001B[0mT\u001B[0m\u001B[0;34m]\u001B[0m\u001B[0;34m,\u001B[0m \u001B[0;34m'S'\u001B[0m\u001B[0;34m]\u001B[0m\u001B[0;34m]\u001B[0m\u001B[0;34m=\u001B[0m\u001B[0;32mNone\u001B[0m\u001B[0;34m)\u001B[0m \u001B[0;34m->\u001B[0m \u001B[0mList\u001B[0m\u001B[0;34m[\u001B[0m\u001B[0mT\u001B[0m\u001B[0;34m]\u001B[0m\u001B[0;34m\u001B[0m\u001B[0;34m\u001B[0m\u001B[0m\n\u001B[0;31mDocstring:\u001B[0m\nGet the top N elements from an RDD.\n\n.. versionadded:: 1.0.0\n\nParameters\n----------\nnum : int\n    top N\nkey : function, optional\n    a function used to generate key for comparing\n\nReturns\n-------\nlist\n    the top N elements\n\nSee Also\n--------\n:meth:`RDD.takeOrdered`\n:meth:`RDD.max`\n:meth:`RDD.min`\n\nNotes\n-----\nThis method should only be used if the resulting array is expected\nto be small, as all the data is loaded into the driver's memory.\n\nIt returns the list sorted in descending order.\n\nExamples\n--------\n>>> sc.parallelize([10, 4, 2, 12, 3]).top(1)\n[12]\n>>> sc.parallelize([2, 3, 4, 5, 6], 2).top(2)\n[6, 5]\n>>> sc.parallelize([10, 4, 2, 12, 3]).top(3, key=str)\n[4, 3, 2]\n\u001B[0;31mFile:\u001B[0m      /databricks/spark/python/pyspark/rdd.py\n\u001B[0;31mLine:\u001B[0m      2684\n\u001B[0;31mType:\u001B[0m      method\n"
     ]
    }
   ],
   "source": [
    "?rdd.top"
   ]
  },
  {
   "cell_type": "code",
   "execution_count": 0,
   "metadata": {
    "application/vnd.databricks.v1+cell": {
     "cellMetadata": {
      "byteLimit": 2048000,
      "rowLimit": 10000
     },
     "inputWidgets": {},
     "nuid": "d0f7fb04-56c6-47de-80ee-28626e360e0f",
     "showTitle": false,
     "title": ""
    }
   },
   "outputs": [],
   "source": [
    "rdd_sample = rdd.sample(withReplacement=True, fraction=0.5, seed=42)\n"
   ]
  },
  {
   "cell_type": "code",
   "execution_count": 0,
   "metadata": {
    "application/vnd.databricks.v1+cell": {
     "cellMetadata": {
      "byteLimit": 2048000,
      "rowLimit": 10000
     },
     "inputWidgets": {},
     "nuid": "91795361-5d0b-4af7-8ee9-2168715dd860",
     "showTitle": false,
     "title": ""
    }
   },
   "outputs": [
    {
     "output_type": "stream",
     "name": "stdout",
     "output_type": "stream",
     "text": [
      "Out[11]: [10000]"
     ]
    }
   ],
   "source": [
    "rdd.top(1)"
   ]
  },
  {
   "cell_type": "markdown",
   "metadata": {
    "application/vnd.databricks.v1+cell": {
     "cellMetadata": {},
     "inputWidgets": {},
     "nuid": "a435f33c-767c-4f07-bd3a-7557bdfe3d2b",
     "showTitle": false,
     "title": ""
    }
   },
   "source": [
    "### Fréquence de nombre aléatoire sur le sample\n",
    " * Pour chaque élément du sample, compter le nombre de fois qu'apparait chaque nombre\n",
    " * Quels sont les nombres qui apparaissent le plus fréquemment ?\n",
    " \n",
    "`count(), countByValue()`"
   ]
  },
  {
   "cell_type": "code",
   "execution_count": 0,
   "metadata": {
    "application/vnd.databricks.v1+cell": {
     "cellMetadata": {
      "byteLimit": 2048000,
      "rowLimit": 10000
     },
     "inputWidgets": {},
     "nuid": "14aa03c8-643d-49d0-8c8f-9f6df753cd34",
     "showTitle": false,
     "title": ""
    }
   },
   "outputs": [],
   "source": [
    "count_by_value = rdd_sample.countByValue()"
   ]
  },
  {
   "cell_type": "code",
   "execution_count": 0,
   "metadata": {
    "application/vnd.databricks.v1+cell": {
     "cellMetadata": {
      "byteLimit": 2048000,
      "rowLimit": 10000
     },
     "inputWidgets": {},
     "nuid": "386cfd78-1877-45dd-bdbd-19dbde1286f6",
     "showTitle": false,
     "title": ""
    }
   },
   "outputs": [
    {
     "output_type": "stream",
     "name": "stdout",
     "output_type": "stream",
     "text": [
      "Out[17]: [(131, 5),\n (8989, 5),\n (205, 4),\n (1167, 4),\n (1196, 4),\n (1550, 4),\n (2043, 4),\n (2288, 4),\n (2832, 4),\n (3971, 4),\n (5317, 4),\n (5859, 4),\n (6541, 4),\n (6851, 4),\n (7116, 4),\n (7309, 4),\n (7554, 4),\n (8659, 4),\n (9873, 4),\n (9882, 4),\n (9982, 4),\n (82, 3),\n (169, 3),\n (199, 3),\n (208, 3),\n (311, 3),\n (469, 3),\n (545, 3),\n (613, 3),\n (726, 3),\n (888, 3),\n (1041, 3),\n (1143, 3),\n (1192, 3),\n (1212, 3),\n (1319, 3),\n (1324, 3),\n (1348, 3),\n (1533, 3),\n (1605, 3),\n (1689, 3),\n (1897, 3),\n (1925, 3),\n (1926, 3),\n (2028, 3),\n (2056, 3),\n (2091, 3),\n (2132, 3),\n (2153, 3),\n (2247, 3),\n (2356, 3),\n (2375, 3),\n (2391, 3),\n (2533, 3),\n (2608, 3),\n (2693, 3),\n (2792, 3),\n (2911, 3),\n (3033, 3),\n (3037, 3),\n (3381, 3),\n (3478, 3),\n (3479, 3),\n (3497, 3),\n (3763, 3),\n (3813, 3),\n (3879, 3),\n (3880, 3),\n (3915, 3),\n (3916, 3),\n (3925, 3),\n (3929, 3),\n (4040, 3),\n (4064, 3),\n (4294, 3),\n (4323, 3),\n (4333, 3),\n (4342, 3),\n (4404, 3),\n (4440, 3),\n (4480, 3),\n (4589, 3),\n (4854, 3),\n (4975, 3),\n (5071, 3),\n (5132, 3),\n (5165, 3),\n (5245, 3),\n (5246, 3),\n (5252, 3),\n (5384, 3),\n (5403, 3),\n (5546, 3),\n (5572, 3),\n (5588, 3),\n (5808, 3),\n (5907, 3),\n (5998, 3),\n (6113, 3),\n (6142, 3),\n (6155, 3),\n (6239, 3),\n (6277, 3),\n (6299, 3),\n (6352, 3),\n (6468, 3),\n (6608, 3),\n (6633, 3),\n (6738, 3),\n (6747, 3),\n (6750, 3),\n (6852, 3),\n (6977, 3),\n (6979, 3),\n (7079, 3),\n (7104, 3),\n (7129, 3),\n (7131, 3),\n (7215, 3),\n (7245, 3),\n (7468, 3),\n (7529, 3),\n (7615, 3),\n (7737, 3),\n (7871, 3),\n (7880, 3),\n (8170, 3),\n (8184, 3),\n (8287, 3),\n (8401, 3),\n (8462, 3),\n (8495, 3),\n (8569, 3),\n (8608, 3),\n (8734, 3),\n (8830, 3),\n (8849, 3),\n (8866, 3),\n (9048, 3),\n (9102, 3),\n (9134, 3),\n (9190, 3),\n (9224, 3),\n (9336, 3),\n (9361, 3),\n (9372, 3),\n (9444, 3),\n (9658, 3),\n (9785, 3),\n (9794, 3),\n (9809, 3),\n (9938, 3),\n (9944, 3),\n (34, 2),\n (38, 2),\n (45, 2),\n (64, 2),\n (71, 2),\n (74, 2),\n (84, 2),\n (97, 2),\n (107, 2),\n (113, 2),\n (140, 2),\n (166, 2),\n (175, 2),\n (184, 2),\n (194, 2),\n (203, 2),\n (211, 2),\n (218, 2),\n (239, 2),\n (246, 2),\n (257, 2),\n (261, 2),\n (283, 2),\n (286, 2),\n (334, 2),\n (351, 2),\n (354, 2),\n (358, 2),\n (360, 2),\n (365, 2),\n (366, 2),\n (368, 2),\n (373, 2),\n (381, 2),\n (404, 2),\n (434, 2),\n (436, 2),\n (448, 2),\n (468, 2),\n (482, 2),\n (488, 2),\n (503, 2),\n (508, 2),\n (512, 2),\n (537, 2),\n (551, 2),\n (555, 2),\n (570, 2),\n (584, 2),\n (606, 2),\n (612, 2),\n (619, 2),\n (625, 2),\n (643, 2),\n (678, 2),\n (717, 2),\n (729, 2),\n (769, 2),\n (772, 2),\n (779, 2),\n (816, 2),\n (820, 2),\n (845, 2),\n (849, 2),\n (853, 2),\n (854, 2),\n (866, 2),\n (872, 2),\n (884, 2),\n (893, 2),\n (906, 2),\n (939, 2),\n (961, 2),\n (964, 2),\n (982, 2),\n (993, 2),\n (1016, 2),\n (1028, 2),\n (1029, 2),\n (1030, 2),\n (1032, 2),\n (1069, 2),\n (1098, 2),\n (1107, 2),\n (1110, 2),\n (1122, 2),\n (1127, 2),\n (1131, 2),\n (1164, 2),\n (1175, 2),\n (1185, 2),\n (1194, 2),\n (1202, 2),\n (1220, 2),\n (1228, 2),\n (1241, 2),\n (1253, 2),\n (1270, 2),\n (1283, 2),\n (1284, 2),\n (1296, 2),\n (1298, 2),\n (1306, 2),\n (1356, 2),\n (1357, 2),\n (1370, 2),\n (1397, 2),\n (1438, 2),\n (1445, 2),\n (1457, 2),\n (1508, 2),\n (1510, 2),\n (1513, 2),\n (1526, 2),\n (1558, 2),\n (1569, 2),\n (1576, 2),\n (1580, 2),\n (1594, 2),\n (1598, 2),\n (1621, 2),\n (1628, 2),\n (1629, 2),\n (1644, 2),\n (1656, 2),\n (1657, 2),\n (1714, 2),\n (1797, 2),\n (1864, 2),\n (1893, 2),\n (1894, 2),\n (1900, 2),\n (1903, 2),\n (1908, 2),\n (1915, 2),\n (1920, 2),\n (1929, 2),\n (1941, 2),\n (1943, 2),\n (1949, 2),\n (1950, 2),\n (1961, 2),\n (1967, 2),\n (1969, 2),\n (1977, 2),\n (1998, 2),\n (2002, 2),\n (2007, 2),\n (2032, 2),\n (2040, 2),\n (2095, 2),\n (2110, 2),\n (2121, 2),\n (2129, 2),\n (2131, 2),\n (2140, 2),\n (2143, 2),\n (2148, 2),\n (2168, 2),\n (2180, 2),\n (2204, 2),\n (2218, 2),\n (2236, 2),\n (2239, 2),\n (2249, 2),\n (2255, 2),\n (2277, 2),\n (2280, 2),\n (2292, 2),\n (2313, 2),\n (2323, 2),\n (2326, 2),\n (2337, 2),\n (2344, 2),\n (2370, 2),\n (2411, 2),\n (2434, 2),\n (2437, 2),\n (2473, 2),\n (2477, 2),\n (2484, 2),\n (2534, 2),\n (2554, 2),\n (2558, 2),\n (2575, 2),\n (2592, 2),\n (2597, 2),\n (2639, 2),\n (2646, 2),\n (2648, 2),\n (2650, 2),\n (2656, 2),\n (2662, 2),\n (2668, 2),\n (2696, 2),\n (2750, 2),\n (2756, 2),\n (2768, 2),\n (2770, 2),\n (2779, 2),\n (2788, 2),\n (2797, 2),\n (2807, 2),\n (2812, 2),\n (2813, 2),\n (2822, 2),\n (2827, 2),\n (2843, 2),\n (2849, 2),\n (2858, 2),\n (2880, 2),\n (2890, 2),\n (2892, 2),\n (2916, 2),\n (2919, 2),\n (2962, 2),\n (2996, 2),\n (3005, 2),\n (3008, 2),\n (3038, 2),\n (3081, 2),\n (3091, 2),\n (3108, 2),\n (3113, 2),\n (3122, 2),\n (3133, 2),\n (3164, 2),\n (3166, 2),\n (3171, 2),\n (3175, 2),\n (3183, 2),\n (3194, 2),\n (3205, 2),\n (3220, 2),\n (3254, 2),\n (3259, 2),\n (3261, 2),\n (3289, 2),\n (3300, 2),\n (3307, 2),\n (3312, 2),\n (3314, 2),\n (3320, 2),\n (3330, 2),\n (3346, 2),\n (3350, 2),\n (3359, 2),\n (3365, 2),\n (3367, 2),\n (3388, 2),\n (3403, 2),\n (3413, 2),\n (3427, 2),\n (3447, 2),\n (3469, 2),\n (3474, 2),\n (3502, 2),\n (3504, 2),\n (3508, 2),\n (3510, 2),\n (3525, 2),\n (3549, 2),\n (3554, 2),\n (3558, 2),\n (3577, 2),\n (3596, 2),\n (3603, 2),\n (3630, 2),\n (3637, 2),\n (3641, 2),\n (3648, 2),\n (3652, 2),\n (3667, 2),\n (3669, 2),\n (3674, 2),\n (3678, 2),\n (3702, 2),\n (3719, 2),\n (3728, 2),\n (3733, 2),\n (3735, 2),\n (3740, 2),\n (3759, 2),\n (3767, 2),\n (3782, 2),\n (3788, 2),\n (3798, 2),\n (3823, 2),\n (3827, 2),\n (3839, 2),\n (3868, 2),\n (3881, 2),\n (3889, 2),\n (3890, 2),\n (3896, 2),\n (3911, 2),\n (3912, 2),\n (3941, 2),\n (3949, 2),\n (3954, 2),\n (3993, 2),\n (3994, 2),\n (4008, 2),\n (4033, 2),\n (4047, 2),\n (4061, 2),\n (4066, 2),\n (4084, 2),\n (4086, 2),\n (4096, 2),\n (4097, 2),\n (4098, 2),\n (4099, 2),\n (4108, 2),\n (4121, 2),\n (4140, 2),\n (4141, 2),\n (4168, 2),\n (4171, 2),\n (4176, 2),\n (4195, 2),\n (4199, 2),\n (4202, 2),\n (4208, 2),\n (4212, 2),\n (4229, 2),\n (4237, 2),\n (4244, 2),\n (4260, 2),\n (4264, 2),\n (4287, 2),\n (4336, 2),\n (4355, 2),\n (4389, 2),\n (4410, 2),\n (4419, 2),\n (4437, 2),\n (4488, 2),\n (4504, 2),\n (4506, 2),\n (4512, 2),\n (4522, 2),\n (4559, 2),\n (4568, 2),\n (4622, 2),\n (4623, 2),\n (4645, 2),\n (4649, 2),\n (4670, 2),\n (4686, 2),\n (4709, 2),\n (4719, 2),\n (4769, 2),\n (4787, 2),\n (4799, 2),\n (4808, 2),\n (4856, 2),\n (4867, 2),\n (4887, 2),\n (4899, 2),\n (4900, 2),\n (4905, 2),\n (4922, 2),\n (4935, 2),\n (4937, 2),\n (4939, 2),\n (4940, 2),\n (4943, 2),\n (4945, 2),\n (4951, 2),\n (4957, 2),\n (4958, 2),\n (4965, 2),\n (4980, 2),\n (4988, 2),\n (5003, 2),\n (5046, 2),\n (5057, 2),\n (5064, 2),\n (5067, 2),\n (5099, 2),\n (5106, 2),\n (5131, 2),\n (5140, 2),\n (5146, 2),\n (5158, 2),\n (5180, 2),\n (5184, 2),\n (5186, 2),\n (5188, 2),\n (5191, 2),\n (5202, 2),\n (5204, 2),\n (5220, 2),\n (5221, 2),\n (5234, 2),\n (5235, 2),\n (5243, 2),\n (5244, 2),\n (5270, 2),\n (5271, 2),\n (5280, 2),\n (5294, 2),\n (5299, 2),\n (5341, 2),\n (5345, 2),\n (5369, 2),\n (5393, 2),\n (5400, 2),\n (5431, 2),\n (5439, 2),\n (5456, 2),\n (5461, 2),\n (5464, 2),\n (5468, 2),\n (5484, 2),\n (5490, 2),\n (5508, 2),\n (5513, 2),\n (5515, 2),\n (5535, 2),\n (5551, 2),\n (5604, 2),\n (5628, 2),\n (5639, 2),\n (5651, 2),\n (5666, 2),\n (5668, 2),\n (5672, 2),\n (5711, 2),\n (5712, 2),\n (5724, 2),\n (5729, 2),\n (5784, 2),\n (5800, 2),\n (5828, 2),\n (5829, 2),\n (5878, 2),\n (5886, 2),\n (5916, 2),\n (5924, 2),\n (5926, 2),\n (5934, 2),\n (5951, 2),\n (5972, 2),\n (5979, 2),\n (5985, 2),\n (6001, 2),\n (6006, 2),\n (6025, 2),\n (6045, 2),\n (6083, 2),\n (6090, 2),\n (6091, 2),\n (6095, 2),\n (6105, 2),\n (6109, 2),\n (6110, 2),\n (6147, 2),\n (6151, 2),\n (6160, 2),\n (6195, 2),\n (6204, 2),\n (6210, 2),\n (6218, 2),\n (6251, 2),\n (6252, 2),\n (6300, 2),\n (6303, 2),\n (6315, 2),\n (6346, 2),\n (6365, 2),\n (6366, 2),\n (6369, 2),\n (6398, 2),\n (6430, 2),\n (6438, 2),\n (6462, 2),\n (6466, 2),\n (6470, 2),\n (6485, 2),\n (6504, 2),\n (6516, 2),\n (6519, 2),\n (6532, 2),\n (6536, 2),\n (6551, 2),\n (6562, 2),\n (6577, 2),\n (6580, 2),\n (6585, 2),\n (6587, 2),\n (6595, 2),\n (6597, 2),\n (6627, 2),\n (6642, 2),\n (6646, 2),\n (6697, 2),\n (6707, 2),\n (6740, 2),\n (6745, 2),\n (6757, 2),\n (6760, 2),\n (6777, 2),\n (6784, 2),\n (6801, 2),\n (6819, 2),\n (6822, 2),\n (6826, 2),\n (6840, 2),\n (6843, 2),\n (6845, 2),\n (6874, 2),\n (6892, 2),\n (6909, 2),\n (6925, 2),\n (6935, 2),\n (6950, 2),\n (6955, 2),\n (6962, 2),\n (6964, 2),\n (6972, 2),\n (7003, 2),\n (7032, 2),\n (7037, 2),\n (7074, 2),\n (7091, 2),\n (7100, 2),\n (7112, 2),\n (7121, 2),\n (7123, 2),\n (7136, 2),\n (7144, 2),\n (7217, 2),\n (7223, 2),\n (7235, 2),\n (7244, 2),\n (7280, 2),\n (7302, 2),\n (7307, 2),\n (7350, 2),\n (7361, 2),\n (7366, 2),\n (7368, 2),\n (7374, 2),\n (7383, 2),\n (7385, 2),\n (7386, 2),\n (7396, 2),\n (7403, 2),\n (7404, 2),\n (7433, 2),\n (7454, 2),\n (7496, 2),\n (7514, 2),\n (7522, 2),\n (7524, 2),\n (7530, 2),\n (7541, 2),\n (7544, 2),\n (7582, 2),\n (7607, 2),\n (7635, 2),\n (7670, 2),\n (7689, 2),\n (7700, 2),\n (7740, 2),\n (7743, 2),\n (7747, 2),\n (7783, 2),\n (7784, 2),\n (7794, 2),\n (7808, 2),\n (7824, 2),\n (7825, 2),\n (7828, 2),\n (7837, 2),\n (7838, 2),\n (7872, 2),\n (7897, 2),\n (7902, 2),\n (7914, 2),\n (7934, 2),\n (7937, 2),\n (7950, 2),\n (7969, 2),\n (7988, 2),\n (8004, 2),\n (8022, 2),\n (8029, 2),\n (8047, 2),\n (8062, 2),\n (8077, 2),\n (8093, 2),\n (8102, 2),\n (8124, 2),\n (8133, 2),\n (8145, 2),\n (8151, 2),\n (8159, 2),\n (8165, 2),\n (8169, 2),\n (8178, 2),\n (8187, 2),\n (8213, 2),\n (8219, 2),\n (8224, 2),\n (8233, 2),\n (8251, 2),\n (8258, 2),\n (8273, 2),\n (8282, 2),\n (8297, 2),\n (8299, 2),\n (8305, 2),\n (8310, 2),\n (8326, 2),\n (8352, 2),\n (8356, 2),\n (8357, 2),\n (8359, 2),\n (8373, 2),\n (8385, 2),\n (8389, 2),\n (8415, 2),\n (8418, 2),\n (8452, 2),\n (8456, 2),\n (8461, 2),\n (8488, 2),\n (8491, 2),\n (8498, 2),\n (8535, 2),\n (8556, 2),\n (8558, 2),\n (8563, 2),\n (8567, 2),\n (8581, 2),\n (8591, 2),\n (8621, 2),\n (8630, 2),\n (8641, 2),\n (8652, 2),\n (8654, 2),\n (8657, 2),\n (8676, 2),\n (8692, 2),\n (8695, 2),\n (8713, 2),\n (8717, 2),\n (8736, 2),\n (8743, 2),\n (8759, 2),\n (8761, 2),\n (8763, 2),\n (8767, 2),\n (8768, 2),\n (8771, 2),\n (8794, 2),\n (8798, 2),\n (8811, 2),\n (8832, 2),\n (8870, 2),\n (8871, 2),\n (8877, 2),\n (8892, 2),\n (8894, 2),\n (8895, 2),\n (8902, 2),\n (8904, 2),\n (8905, 2),\n (8908, 2),\n (8923, 2),\n (8940, 2),\n (8955, 2),\n (8961, 2),\n (8964, 2),\n (8986, 2),\n (8988, 2),\n (8992, 2),\n (8994, 2),\n (9001, 2),\n (9039, 2),\n (9042, 2),\n (9065, 2),\n (9078, 2),\n (9086, 2),\n (9088, 2),\n (9120, 2),\n (9135, 2),\n (9139, 2),\n (9141, 2),\n (9144, 2),\n (9146, 2),\n (9178, 2),\n (9185, 2),\n (9216, 2),\n (9232, 2),\n (9239, 2),\n (9246, 2),\n (9258, 2),\n (9261, 2),\n (9262, 2),\n (9271, 2),\n (9287, 2),\n (9306, 2),\n (9354, 2),\n (9363, 2),\n (9365, 2),\n (9395, 2),\n (9472, 2),\n (9473, 2),\n (9478, 2),\n (9519, 2),\n (9560, 2),\n (9573, 2),\n (9578, 2),\n (9579, 2),\n (9584, 2),\n (9585, 2),\n (9594, 2),\n (9614, 2),\n (9621, 2),\n (9626, 2),\n (9627, 2),\n (9632, 2),\n (9633, 2),\n (9644, 2),\n (9663, 2),\n (9671, 2),\n (9682, 2),\n (9687, 2),\n (9702, 2),\n (9704, 2),\n (9730, 2),\n (9734, 2),\n (9761, 2),\n (9786, 2),\n (9789, 2),\n (9815, 2),\n (9818, 2),\n (9829, 2),\n (9836, 2),\n (9866, 2),\n (9871, 2),\n (9904, 2),\n (9924, 2),\n (9952, 2),\n (9978, 2),\n (9985, 2),\n (9986, 2),\n (9991, 2),\n (6, 1),\n (9, 1),\n (10, 1),\n (13, 1),\n (16, 1),\n (17, 1),\n (19, 1),\n (21, 1),\n (22, 1),\n (23, 1),\n (30, 1),\n (36, 1),\n (39, 1),\n (40, 1),\n (46, 1),\n (47, 1),\n (53, 1),\n (55, 1),\n (59, 1),\n (63, 1),\n (65, 1),\n (68, 1),\n (75, 1),\n (77, 1),\n (78, 1),\n (87, 1),\n (92, 1),\n (95, 1),\n (106, 1),\n (109, 1),\n (111, 1),\n (118, 1),\n (119, 1),\n (122, 1),\n (128, 1),\n (129, 1),\n (137, 1),\n (138, 1),\n (141, 1),\n (143, 1),\n (145, 1),\n (148, 1),\n (149, 1),\n (152, 1),\n (154, 1),\n (156, 1),\n (159, 1),\n (160, 1),\n (162, 1),\n (164, 1),\n (171, 1),\n (172, 1),\n (173, 1),\n (174, 1),\n (181, 1),\n (182, 1),\n (188, 1),\n (190, 1),\n (195, 1),\n (204, 1),\n (207, 1),\n (210, 1),\n (212, 1),\n (214, 1),\n (219, 1),\n (220, 1),\n (221, 1),\n (222, 1),\n (223, 1),\n (226, 1),\n (232, 1),\n (233, 1),\n (234, 1),\n (235, 1),\n (237, 1),\n (247, 1),\n (253, 1),\n (260, 1),\n (267, 1),\n (269, 1),\n (270, 1),\n (272, 1),\n (273, 1),\n (277, 1),\n (280, 1),\n (281, 1),\n (282, 1),\n (284, 1),\n (285, 1),\n (289, 1),\n (291, 1),\n (299, 1),\n (306, 1),\n (307, 1),\n (308, 1),\n ...]"
     ]
    }
   ],
   "source": [
    "sorted(count_by_value.items(), key=lambda x : x[1], reverse=True)"
   ]
  },
  {
   "cell_type": "markdown",
   "metadata": {
    "application/vnd.databricks.v1+cell": {
     "cellMetadata": {},
     "inputWidgets": {},
     "nuid": "72825f32-48cb-4dda-b805-cf045190546f",
     "showTitle": false,
     "title": ""
    }
   },
   "source": [
    "### Partitioning\n",
    "* Combien de partitions possède le rdd ?\n",
    "* Créer un nouveau rdd à partir de `rdd` de seulement 8 partitions et vérifier ce nombre"
   ]
  },
  {
   "cell_type": "code",
   "execution_count": 0,
   "metadata": {
    "application/vnd.databricks.v1+cell": {
     "cellMetadata": {
      "byteLimit": 2048000,
      "rowLimit": 10000
     },
     "inputWidgets": {},
     "nuid": "6f24bae3-d5ad-40ad-aceb-f955d85f542c",
     "showTitle": false,
     "title": ""
    }
   },
   "outputs": [
    {
     "output_type": "stream",
     "name": "stdout",
     "output_type": "stream",
     "text": [
      "Out[20]: 8"
     ]
    }
   ],
   "source": [
    "rdd.getNumPartitions()"
   ]
  },
  {
   "cell_type": "code",
   "execution_count": 0,
   "metadata": {
    "application/vnd.databricks.v1+cell": {
     "cellMetadata": {
      "byteLimit": 2048000,
      "rowLimit": 10000
     },
     "inputWidgets": {},
     "nuid": "5c7a3078-9af0-42c8-9578-1a968a082afb",
     "showTitle": false,
     "title": ""
    }
   },
   "outputs": [],
   "source": [
    "rdd_repartitioned = rdd"
   ]
  },
  {
   "cell_type": "code",
   "execution_count": 0,
   "metadata": {
    "application/vnd.databricks.v1+cell": {
     "cellMetadata": {
      "byteLimit": 2048000,
      "rowLimit": 10000
     },
     "inputWidgets": {},
     "nuid": "ba1ffa91-38b7-49e5-b065-0ed429f49e46",
     "showTitle": false,
     "title": ""
    }
   },
   "outputs": [],
   "source": [
    "rdd_repartitioned = rdd.partitionBy(8)"
   ]
  },
  {
   "cell_type": "code",
   "execution_count": 0,
   "metadata": {
    "application/vnd.databricks.v1+cell": {
     "cellMetadata": {
      "byteLimit": 2048000,
      "rowLimit": 10000
     },
     "inputWidgets": {},
     "nuid": "de7a0189-2f3b-4753-b813-47b91a31325b",
     "showTitle": false,
     "title": ""
    }
   },
   "outputs": [
    {
     "output_type": "stream",
     "name": "stdout",
     "output_type": "stream",
     "text": [
      "Out[50]: pyspark.rdd.PipelinedRDD"
     ]
    }
   ],
   "source": [
    "type(rdd)"
   ]
  },
  {
   "cell_type": "code",
   "execution_count": 0,
   "metadata": {
    "application/vnd.databricks.v1+cell": {
     "cellMetadata": {
      "byteLimit": 2048000,
      "rowLimit": 10000
     },
     "inputWidgets": {},
     "nuid": "330482e2-958b-48e7-8941-6bc858a6dfb1",
     "showTitle": false,
     "title": ""
    }
   },
   "outputs": [],
   "source": [
    "import pyspark"
   ]
  },
  {
   "cell_type": "code",
   "execution_count": 0,
   "metadata": {
    "application/vnd.databricks.v1+cell": {
     "cellMetadata": {
      "byteLimit": 2048000,
      "rowLimit": 10000
     },
     "inputWidgets": {},
     "nuid": "406aba6e-7267-48b8-a1b8-3af98151bd77",
     "showTitle": false,
     "title": ""
    }
   },
   "outputs": [
    {
     "output_type": "stream",
     "name": "stdout",
     "output_type": "stream",
     "text": [
      "\u001B[0;31mType:\u001B[0m        type\n\u001B[0;31mString form:\u001B[0m <class 'pyspark.rdd.PipelinedRDD'>\n\u001B[0;31mFile:\u001B[0m        /databricks/spark/python/pyspark/rdd.py\n\u001B[0;31mLine:\u001B[0m        5390\n\u001B[0;31mDocstring:\u001B[0m  \nExamples\n--------\nPipelined maps:\n\n>>> rdd = sc.parallelize([1, 2, 3, 4])\n>>> rdd.map(lambda x: 2 * x).cache().map(lambda x: 2 * x).collect()\n[4, 8, 12, 16]\n>>> rdd.map(lambda x: 2 * x).map(lambda x: 2 * x).collect()\n[4, 8, 12, 16]\n\nPipelined reduces:\n\n>>> from operator import add\n>>> rdd.map(lambda x: 2 * x).reduce(add)\n20\n>>> rdd.flatMap(lambda x: [x, x]).reduce(add)\n20\n"
     ]
    }
   ],
   "source": [
    "?pyspark.rdd.PipelinedRDD"
   ]
  },
  {
   "cell_type": "code",
   "execution_count": 0,
   "metadata": {
    "application/vnd.databricks.v1+cell": {
     "cellMetadata": {
      "byteLimit": 2048000,
      "rowLimit": 10000
     },
     "inputWidgets": {},
     "nuid": "47ba0cde-ed1d-4e11-aaac-d2ff94b91b54",
     "showTitle": false,
     "title": ""
    }
   },
   "outputs": [
    {
     "output_type": "display_data",
     "data": {
      "text/plain": [
       "\u001B[0;31m---------------------------------------------------------------------------\u001B[0m\n",
       "\u001B[0;31mPy4JJavaError\u001B[0m                             Traceback (most recent call last)\n",
       "File \u001B[0;32m<command-1905306230174712>:1\u001B[0m\n",
       "\u001B[0;32m----> 1\u001B[0m \u001B[43mrdd_repartitioned\u001B[49m\u001B[38;5;241;43m.\u001B[39;49m\u001B[43mcount\u001B[49m\u001B[43m(\u001B[49m\u001B[43m)\u001B[49m\n",
       "\n",
       "File \u001B[0;32m/databricks/spark/python/pyspark/instrumentation_utils.py:48\u001B[0m, in \u001B[0;36m_wrap_function.<locals>.wrapper\u001B[0;34m(*args, **kwargs)\u001B[0m\n",
       "\u001B[1;32m     46\u001B[0m start \u001B[38;5;241m=\u001B[39m time\u001B[38;5;241m.\u001B[39mperf_counter()\n",
       "\u001B[1;32m     47\u001B[0m \u001B[38;5;28;01mtry\u001B[39;00m:\n",
       "\u001B[0;32m---> 48\u001B[0m     res \u001B[38;5;241m=\u001B[39m \u001B[43mfunc\u001B[49m\u001B[43m(\u001B[49m\u001B[38;5;241;43m*\u001B[39;49m\u001B[43margs\u001B[49m\u001B[43m,\u001B[49m\u001B[43m \u001B[49m\u001B[38;5;241;43m*\u001B[39;49m\u001B[38;5;241;43m*\u001B[39;49m\u001B[43mkwargs\u001B[49m\u001B[43m)\u001B[49m\n",
       "\u001B[1;32m     49\u001B[0m     logger\u001B[38;5;241m.\u001B[39mlog_success(\n",
       "\u001B[1;32m     50\u001B[0m         module_name, class_name, function_name, time\u001B[38;5;241m.\u001B[39mperf_counter() \u001B[38;5;241m-\u001B[39m start, signature\n",
       "\u001B[1;32m     51\u001B[0m     )\n",
       "\u001B[1;32m     52\u001B[0m     \u001B[38;5;28;01mreturn\u001B[39;00m res\n",
       "\n",
       "File \u001B[0;32m/databricks/spark/python/pyspark/rdd.py:2328\u001B[0m, in \u001B[0;36mRDD.count\u001B[0;34m(self)\u001B[0m\n",
       "\u001B[1;32m   2307\u001B[0m \u001B[38;5;28;01mdef\u001B[39;00m \u001B[38;5;21mcount\u001B[39m(\u001B[38;5;28mself\u001B[39m) \u001B[38;5;241m-\u001B[39m\u001B[38;5;241m>\u001B[39m \u001B[38;5;28mint\u001B[39m:\n",
       "\u001B[1;32m   2308\u001B[0m     \u001B[38;5;124;03m\"\"\"\u001B[39;00m\n",
       "\u001B[1;32m   2309\u001B[0m \u001B[38;5;124;03m    Return the number of elements in this RDD.\u001B[39;00m\n",
       "\u001B[1;32m   2310\u001B[0m \n",
       "\u001B[0;32m   (...)\u001B[0m\n",
       "\u001B[1;32m   2326\u001B[0m \u001B[38;5;124;03m    3\u001B[39;00m\n",
       "\u001B[1;32m   2327\u001B[0m \u001B[38;5;124;03m    \"\"\"\u001B[39;00m\n",
       "\u001B[0;32m-> 2328\u001B[0m     \u001B[38;5;28;01mreturn\u001B[39;00m \u001B[38;5;28;43mself\u001B[39;49m\u001B[38;5;241;43m.\u001B[39;49m\u001B[43mmapPartitions\u001B[49m\u001B[43m(\u001B[49m\u001B[38;5;28;43;01mlambda\u001B[39;49;00m\u001B[43m \u001B[49m\u001B[43mi\u001B[49m\u001B[43m:\u001B[49m\u001B[43m \u001B[49m\u001B[43m[\u001B[49m\u001B[38;5;28;43msum\u001B[39;49m\u001B[43m(\u001B[49m\u001B[38;5;241;43m1\u001B[39;49m\u001B[43m \u001B[49m\u001B[38;5;28;43;01mfor\u001B[39;49;00m\u001B[43m \u001B[49m\u001B[43m_\u001B[49m\u001B[43m \u001B[49m\u001B[38;5;129;43;01min\u001B[39;49;00m\u001B[43m \u001B[49m\u001B[43mi\u001B[49m\u001B[43m)\u001B[49m\u001B[43m]\u001B[49m\u001B[43m)\u001B[49m\u001B[38;5;241;43m.\u001B[39;49m\u001B[43msum\u001B[49m\u001B[43m(\u001B[49m\u001B[43m)\u001B[49m\n",
       "\n",
       "File \u001B[0;32m/databricks/spark/python/pyspark/instrumentation_utils.py:43\u001B[0m, in \u001B[0;36m_wrap_function.<locals>.wrapper\u001B[0;34m(*args, **kwargs)\u001B[0m\n",
       "\u001B[1;32m     39\u001B[0m \u001B[38;5;129m@functools\u001B[39m\u001B[38;5;241m.\u001B[39mwraps(func)\n",
       "\u001B[1;32m     40\u001B[0m \u001B[38;5;28;01mdef\u001B[39;00m \u001B[38;5;21mwrapper\u001B[39m(\u001B[38;5;241m*\u001B[39margs: Any, \u001B[38;5;241m*\u001B[39m\u001B[38;5;241m*\u001B[39mkwargs: Any) \u001B[38;5;241m-\u001B[39m\u001B[38;5;241m>\u001B[39m Any:\n",
       "\u001B[1;32m     41\u001B[0m     \u001B[38;5;28;01mif\u001B[39;00m \u001B[38;5;28mhasattr\u001B[39m(_local, \u001B[38;5;124m\"\u001B[39m\u001B[38;5;124mlogging\u001B[39m\u001B[38;5;124m\"\u001B[39m) \u001B[38;5;129;01mand\u001B[39;00m _local\u001B[38;5;241m.\u001B[39mlogging:\n",
       "\u001B[1;32m     42\u001B[0m         \u001B[38;5;66;03m# no need to log since this should be internal call.\u001B[39;00m\n",
       "\u001B[0;32m---> 43\u001B[0m         \u001B[38;5;28;01mreturn\u001B[39;00m \u001B[43mfunc\u001B[49m\u001B[43m(\u001B[49m\u001B[38;5;241;43m*\u001B[39;49m\u001B[43margs\u001B[49m\u001B[43m,\u001B[49m\u001B[43m \u001B[49m\u001B[38;5;241;43m*\u001B[39;49m\u001B[38;5;241;43m*\u001B[39;49m\u001B[43mkwargs\u001B[49m\u001B[43m)\u001B[49m\n",
       "\u001B[1;32m     44\u001B[0m     _local\u001B[38;5;241m.\u001B[39mlogging \u001B[38;5;241m=\u001B[39m \u001B[38;5;28;01mTrue\u001B[39;00m\n",
       "\u001B[1;32m     45\u001B[0m     \u001B[38;5;28;01mtry\u001B[39;00m:\n",
       "\n",
       "File \u001B[0;32m/databricks/spark/python/pyspark/rdd.py:2303\u001B[0m, in \u001B[0;36mRDD.sum\u001B[0;34m(self)\u001B[0m\n",
       "\u001B[1;32m   2282\u001B[0m \u001B[38;5;28;01mdef\u001B[39;00m \u001B[38;5;21msum\u001B[39m(\u001B[38;5;28mself\u001B[39m: \u001B[38;5;124m\"\u001B[39m\u001B[38;5;124mRDD[NumberOrArray]\u001B[39m\u001B[38;5;124m\"\u001B[39m) \u001B[38;5;241m-\u001B[39m\u001B[38;5;241m>\u001B[39m \u001B[38;5;124m\"\u001B[39m\u001B[38;5;124mNumberOrArray\u001B[39m\u001B[38;5;124m\"\u001B[39m:\n",
       "\u001B[1;32m   2283\u001B[0m     \u001B[38;5;124;03m\"\"\"\u001B[39;00m\n",
       "\u001B[1;32m   2284\u001B[0m \u001B[38;5;124;03m    Add up the elements in this RDD.\u001B[39;00m\n",
       "\u001B[1;32m   2285\u001B[0m \n",
       "\u001B[0;32m   (...)\u001B[0m\n",
       "\u001B[1;32m   2301\u001B[0m \u001B[38;5;124;03m    6.0\u001B[39;00m\n",
       "\u001B[1;32m   2302\u001B[0m \u001B[38;5;124;03m    \"\"\"\u001B[39;00m\n",
       "\u001B[0;32m-> 2303\u001B[0m     \u001B[38;5;28;01mreturn\u001B[39;00m \u001B[38;5;28;43mself\u001B[39;49m\u001B[38;5;241;43m.\u001B[39;49m\u001B[43mmapPartitions\u001B[49m\u001B[43m(\u001B[49m\u001B[38;5;28;43;01mlambda\u001B[39;49;00m\u001B[43m \u001B[49m\u001B[43mx\u001B[49m\u001B[43m:\u001B[49m\u001B[43m \u001B[49m\u001B[43m[\u001B[49m\u001B[38;5;28;43msum\u001B[39;49m\u001B[43m(\u001B[49m\u001B[43mx\u001B[49m\u001B[43m)\u001B[49m\u001B[43m]\u001B[49m\u001B[43m)\u001B[49m\u001B[38;5;241;43m.\u001B[39;49m\u001B[43mfold\u001B[49m\u001B[43m(\u001B[49m\u001B[43m  \u001B[49m\u001B[38;5;66;43;03m# type: ignore[return-value]\u001B[39;49;00m\n",
       "\u001B[1;32m   2304\u001B[0m \u001B[43m        \u001B[49m\u001B[38;5;241;43m0\u001B[39;49m\u001B[43m,\u001B[49m\u001B[43m \u001B[49m\u001B[43moperator\u001B[49m\u001B[38;5;241;43m.\u001B[39;49m\u001B[43madd\u001B[49m\n",
       "\u001B[1;32m   2305\u001B[0m \u001B[43m    \u001B[49m\u001B[43m)\u001B[49m\n",
       "\n",
       "File \u001B[0;32m/databricks/spark/python/pyspark/instrumentation_utils.py:43\u001B[0m, in \u001B[0;36m_wrap_function.<locals>.wrapper\u001B[0;34m(*args, **kwargs)\u001B[0m\n",
       "\u001B[1;32m     39\u001B[0m \u001B[38;5;129m@functools\u001B[39m\u001B[38;5;241m.\u001B[39mwraps(func)\n",
       "\u001B[1;32m     40\u001B[0m \u001B[38;5;28;01mdef\u001B[39;00m \u001B[38;5;21mwrapper\u001B[39m(\u001B[38;5;241m*\u001B[39margs: Any, \u001B[38;5;241m*\u001B[39m\u001B[38;5;241m*\u001B[39mkwargs: Any) \u001B[38;5;241m-\u001B[39m\u001B[38;5;241m>\u001B[39m Any:\n",
       "\u001B[1;32m     41\u001B[0m     \u001B[38;5;28;01mif\u001B[39;00m \u001B[38;5;28mhasattr\u001B[39m(_local, \u001B[38;5;124m\"\u001B[39m\u001B[38;5;124mlogging\u001B[39m\u001B[38;5;124m\"\u001B[39m) \u001B[38;5;129;01mand\u001B[39;00m _local\u001B[38;5;241m.\u001B[39mlogging:\n",
       "\u001B[1;32m     42\u001B[0m         \u001B[38;5;66;03m# no need to log since this should be internal call.\u001B[39;00m\n",
       "\u001B[0;32m---> 43\u001B[0m         \u001B[38;5;28;01mreturn\u001B[39;00m \u001B[43mfunc\u001B[49m\u001B[43m(\u001B[49m\u001B[38;5;241;43m*\u001B[39;49m\u001B[43margs\u001B[49m\u001B[43m,\u001B[49m\u001B[43m \u001B[49m\u001B[38;5;241;43m*\u001B[39;49m\u001B[38;5;241;43m*\u001B[39;49m\u001B[43mkwargs\u001B[49m\u001B[43m)\u001B[49m\n",
       "\u001B[1;32m     44\u001B[0m     _local\u001B[38;5;241m.\u001B[39mlogging \u001B[38;5;241m=\u001B[39m \u001B[38;5;28;01mTrue\u001B[39;00m\n",
       "\u001B[1;32m     45\u001B[0m     \u001B[38;5;28;01mtry\u001B[39;00m:\n",
       "\n",
       "File \u001B[0;32m/databricks/spark/python/pyspark/rdd.py:2056\u001B[0m, in \u001B[0;36mRDD.fold\u001B[0;34m(self, zeroValue, op)\u001B[0m\n",
       "\u001B[1;32m   2051\u001B[0m     \u001B[38;5;28;01myield\u001B[39;00m acc\n",
       "\u001B[1;32m   2053\u001B[0m \u001B[38;5;66;03m# collecting result of mapPartitions here ensures that the copy of\u001B[39;00m\n",
       "\u001B[1;32m   2054\u001B[0m \u001B[38;5;66;03m# zeroValue provided to each partition is unique from the one provided\u001B[39;00m\n",
       "\u001B[1;32m   2055\u001B[0m \u001B[38;5;66;03m# to the final reduce call\u001B[39;00m\n",
       "\u001B[0;32m-> 2056\u001B[0m vals \u001B[38;5;241m=\u001B[39m \u001B[38;5;28;43mself\u001B[39;49m\u001B[38;5;241;43m.\u001B[39;49m\u001B[43mmapPartitions\u001B[49m\u001B[43m(\u001B[49m\u001B[43mfunc\u001B[49m\u001B[43m)\u001B[49m\u001B[38;5;241;43m.\u001B[39;49m\u001B[43mcollect\u001B[49m\u001B[43m(\u001B[49m\u001B[43m)\u001B[49m\n",
       "\u001B[1;32m   2057\u001B[0m \u001B[38;5;28;01mreturn\u001B[39;00m reduce(op, vals, zeroValue)\n",
       "\n",
       "File \u001B[0;32m/databricks/spark/python/pyspark/instrumentation_utils.py:43\u001B[0m, in \u001B[0;36m_wrap_function.<locals>.wrapper\u001B[0;34m(*args, **kwargs)\u001B[0m\n",
       "\u001B[1;32m     39\u001B[0m \u001B[38;5;129m@functools\u001B[39m\u001B[38;5;241m.\u001B[39mwraps(func)\n",
       "\u001B[1;32m     40\u001B[0m \u001B[38;5;28;01mdef\u001B[39;00m \u001B[38;5;21mwrapper\u001B[39m(\u001B[38;5;241m*\u001B[39margs: Any, \u001B[38;5;241m*\u001B[39m\u001B[38;5;241m*\u001B[39mkwargs: Any) \u001B[38;5;241m-\u001B[39m\u001B[38;5;241m>\u001B[39m Any:\n",
       "\u001B[1;32m     41\u001B[0m     \u001B[38;5;28;01mif\u001B[39;00m \u001B[38;5;28mhasattr\u001B[39m(_local, \u001B[38;5;124m\"\u001B[39m\u001B[38;5;124mlogging\u001B[39m\u001B[38;5;124m\"\u001B[39m) \u001B[38;5;129;01mand\u001B[39;00m _local\u001B[38;5;241m.\u001B[39mlogging:\n",
       "\u001B[1;32m     42\u001B[0m         \u001B[38;5;66;03m# no need to log since this should be internal call.\u001B[39;00m\n",
       "\u001B[0;32m---> 43\u001B[0m         \u001B[38;5;28;01mreturn\u001B[39;00m \u001B[43mfunc\u001B[49m\u001B[43m(\u001B[49m\u001B[38;5;241;43m*\u001B[39;49m\u001B[43margs\u001B[49m\u001B[43m,\u001B[49m\u001B[43m \u001B[49m\u001B[38;5;241;43m*\u001B[39;49m\u001B[38;5;241;43m*\u001B[39;49m\u001B[43mkwargs\u001B[49m\u001B[43m)\u001B[49m\n",
       "\u001B[1;32m     44\u001B[0m     _local\u001B[38;5;241m.\u001B[39mlogging \u001B[38;5;241m=\u001B[39m \u001B[38;5;28;01mTrue\u001B[39;00m\n",
       "\u001B[1;32m     45\u001B[0m     \u001B[38;5;28;01mtry\u001B[39;00m:\n",
       "\n",
       "File \u001B[0;32m/databricks/spark/python/pyspark/rdd.py:1825\u001B[0m, in \u001B[0;36mRDD.collect\u001B[0;34m(self)\u001B[0m\n",
       "\u001B[1;32m   1823\u001B[0m \u001B[38;5;28;01mwith\u001B[39;00m SCCallSiteSync(\u001B[38;5;28mself\u001B[39m\u001B[38;5;241m.\u001B[39mcontext):\n",
       "\u001B[1;32m   1824\u001B[0m     \u001B[38;5;28;01massert\u001B[39;00m \u001B[38;5;28mself\u001B[39m\u001B[38;5;241m.\u001B[39mctx\u001B[38;5;241m.\u001B[39m_jvm \u001B[38;5;129;01mis\u001B[39;00m \u001B[38;5;129;01mnot\u001B[39;00m \u001B[38;5;28;01mNone\u001B[39;00m\n",
       "\u001B[0;32m-> 1825\u001B[0m     sock_info \u001B[38;5;241m=\u001B[39m \u001B[38;5;28;43mself\u001B[39;49m\u001B[38;5;241;43m.\u001B[39;49m\u001B[43mctx\u001B[49m\u001B[38;5;241;43m.\u001B[39;49m\u001B[43m_jvm\u001B[49m\u001B[38;5;241;43m.\u001B[39;49m\u001B[43mPythonRDD\u001B[49m\u001B[38;5;241;43m.\u001B[39;49m\u001B[43mcollectAndServe\u001B[49m\u001B[43m(\u001B[49m\u001B[38;5;28;43mself\u001B[39;49m\u001B[38;5;241;43m.\u001B[39;49m\u001B[43m_jrdd\u001B[49m\u001B[38;5;241;43m.\u001B[39;49m\u001B[43mrdd\u001B[49m\u001B[43m(\u001B[49m\u001B[43m)\u001B[49m\u001B[43m)\u001B[49m\n",
       "\u001B[1;32m   1826\u001B[0m \u001B[38;5;28;01mreturn\u001B[39;00m \u001B[38;5;28mlist\u001B[39m(_load_from_socket(sock_info, \u001B[38;5;28mself\u001B[39m\u001B[38;5;241m.\u001B[39m_jrdd_deserializer))\n",
       "\n",
       "File \u001B[0;32m/databricks/spark/python/lib/py4j-0.10.9.5-src.zip/py4j/java_gateway.py:1321\u001B[0m, in \u001B[0;36mJavaMember.__call__\u001B[0;34m(self, *args)\u001B[0m\n",
       "\u001B[1;32m   1315\u001B[0m command \u001B[38;5;241m=\u001B[39m proto\u001B[38;5;241m.\u001B[39mCALL_COMMAND_NAME \u001B[38;5;241m+\u001B[39m\\\n",
       "\u001B[1;32m   1316\u001B[0m     \u001B[38;5;28mself\u001B[39m\u001B[38;5;241m.\u001B[39mcommand_header \u001B[38;5;241m+\u001B[39m\\\n",
       "\u001B[1;32m   1317\u001B[0m     args_command \u001B[38;5;241m+\u001B[39m\\\n",
       "\u001B[1;32m   1318\u001B[0m     proto\u001B[38;5;241m.\u001B[39mEND_COMMAND_PART\n",
       "\u001B[1;32m   1320\u001B[0m answer \u001B[38;5;241m=\u001B[39m \u001B[38;5;28mself\u001B[39m\u001B[38;5;241m.\u001B[39mgateway_client\u001B[38;5;241m.\u001B[39msend_command(command)\n",
       "\u001B[0;32m-> 1321\u001B[0m return_value \u001B[38;5;241m=\u001B[39m \u001B[43mget_return_value\u001B[49m\u001B[43m(\u001B[49m\n",
       "\u001B[1;32m   1322\u001B[0m \u001B[43m    \u001B[49m\u001B[43manswer\u001B[49m\u001B[43m,\u001B[49m\u001B[43m \u001B[49m\u001B[38;5;28;43mself\u001B[39;49m\u001B[38;5;241;43m.\u001B[39;49m\u001B[43mgateway_client\u001B[49m\u001B[43m,\u001B[49m\u001B[43m \u001B[49m\u001B[38;5;28;43mself\u001B[39;49m\u001B[38;5;241;43m.\u001B[39;49m\u001B[43mtarget_id\u001B[49m\u001B[43m,\u001B[49m\u001B[43m \u001B[49m\u001B[38;5;28;43mself\u001B[39;49m\u001B[38;5;241;43m.\u001B[39;49m\u001B[43mname\u001B[49m\u001B[43m)\u001B[49m\n",
       "\u001B[1;32m   1324\u001B[0m \u001B[38;5;28;01mfor\u001B[39;00m temp_arg \u001B[38;5;129;01min\u001B[39;00m temp_args:\n",
       "\u001B[1;32m   1325\u001B[0m     temp_arg\u001B[38;5;241m.\u001B[39m_detach()\n",
       "\n",
       "File \u001B[0;32m/databricks/spark/python/pyspark/errors/exceptions.py:228\u001B[0m, in \u001B[0;36mcapture_sql_exception.<locals>.deco\u001B[0;34m(*a, **kw)\u001B[0m\n",
       "\u001B[1;32m    226\u001B[0m \u001B[38;5;28;01mdef\u001B[39;00m \u001B[38;5;21mdeco\u001B[39m(\u001B[38;5;241m*\u001B[39ma: Any, \u001B[38;5;241m*\u001B[39m\u001B[38;5;241m*\u001B[39mkw: Any) \u001B[38;5;241m-\u001B[39m\u001B[38;5;241m>\u001B[39m Any:\n",
       "\u001B[1;32m    227\u001B[0m     \u001B[38;5;28;01mtry\u001B[39;00m:\n",
       "\u001B[0;32m--> 228\u001B[0m         \u001B[38;5;28;01mreturn\u001B[39;00m \u001B[43mf\u001B[49m\u001B[43m(\u001B[49m\u001B[38;5;241;43m*\u001B[39;49m\u001B[43ma\u001B[49m\u001B[43m,\u001B[49m\u001B[43m \u001B[49m\u001B[38;5;241;43m*\u001B[39;49m\u001B[38;5;241;43m*\u001B[39;49m\u001B[43mkw\u001B[49m\u001B[43m)\u001B[49m\n",
       "\u001B[1;32m    229\u001B[0m     \u001B[38;5;28;01mexcept\u001B[39;00m Py4JJavaError \u001B[38;5;28;01mas\u001B[39;00m e:\n",
       "\u001B[1;32m    230\u001B[0m         converted \u001B[38;5;241m=\u001B[39m convert_exception(e\u001B[38;5;241m.\u001B[39mjava_exception)\n",
       "\n",
       "File \u001B[0;32m/databricks/spark/python/lib/py4j-0.10.9.5-src.zip/py4j/protocol.py:326\u001B[0m, in \u001B[0;36mget_return_value\u001B[0;34m(answer, gateway_client, target_id, name)\u001B[0m\n",
       "\u001B[1;32m    324\u001B[0m value \u001B[38;5;241m=\u001B[39m OUTPUT_CONVERTER[\u001B[38;5;28mtype\u001B[39m](answer[\u001B[38;5;241m2\u001B[39m:], gateway_client)\n",
       "\u001B[1;32m    325\u001B[0m \u001B[38;5;28;01mif\u001B[39;00m answer[\u001B[38;5;241m1\u001B[39m] \u001B[38;5;241m==\u001B[39m REFERENCE_TYPE:\n",
       "\u001B[0;32m--> 326\u001B[0m     \u001B[38;5;28;01mraise\u001B[39;00m Py4JJavaError(\n",
       "\u001B[1;32m    327\u001B[0m         \u001B[38;5;124m\"\u001B[39m\u001B[38;5;124mAn error occurred while calling \u001B[39m\u001B[38;5;132;01m{0}\u001B[39;00m\u001B[38;5;132;01m{1}\u001B[39;00m\u001B[38;5;132;01m{2}\u001B[39;00m\u001B[38;5;124m.\u001B[39m\u001B[38;5;130;01m\\n\u001B[39;00m\u001B[38;5;124m\"\u001B[39m\u001B[38;5;241m.\u001B[39m\n",
       "\u001B[1;32m    328\u001B[0m         \u001B[38;5;28mformat\u001B[39m(target_id, \u001B[38;5;124m\"\u001B[39m\u001B[38;5;124m.\u001B[39m\u001B[38;5;124m\"\u001B[39m, name), value)\n",
       "\u001B[1;32m    329\u001B[0m \u001B[38;5;28;01melse\u001B[39;00m:\n",
       "\u001B[1;32m    330\u001B[0m     \u001B[38;5;28;01mraise\u001B[39;00m Py4JError(\n",
       "\u001B[1;32m    331\u001B[0m         \u001B[38;5;124m\"\u001B[39m\u001B[38;5;124mAn error occurred while calling \u001B[39m\u001B[38;5;132;01m{0}\u001B[39;00m\u001B[38;5;132;01m{1}\u001B[39;00m\u001B[38;5;132;01m{2}\u001B[39;00m\u001B[38;5;124m. Trace:\u001B[39m\u001B[38;5;130;01m\\n\u001B[39;00m\u001B[38;5;132;01m{3}\u001B[39;00m\u001B[38;5;130;01m\\n\u001B[39;00m\u001B[38;5;124m\"\u001B[39m\u001B[38;5;241m.\u001B[39m\n",
       "\u001B[1;32m    332\u001B[0m         \u001B[38;5;28mformat\u001B[39m(target_id, \u001B[38;5;124m\"\u001B[39m\u001B[38;5;124m.\u001B[39m\u001B[38;5;124m\"\u001B[39m, name, value))\n",
       "\n",
       "\u001B[0;31mPy4JJavaError\u001B[0m: An error occurred while calling z:org.apache.spark.api.python.PythonRDD.collectAndServe.\n",
       ": org.apache.spark.SparkException: Job aborted due to stage failure: Task 0 in stage 28.0 failed 1 times, most recent failure: Lost task 0.0 in stage 28.0 (TID 146) (ip-10-172-216-133.us-west-2.compute.internal executor driver): org.apache.spark.api.python.PythonException: 'TypeError: cannot unpack non-iterable int object'. Full traceback below:\n",
       "Traceback (most recent call last):\n",
       "  File \"/databricks/spark/python/pyspark/worker.py\", line 1037, in main\n",
       "    process()\n",
       "  File \"/databricks/spark/python/pyspark/worker.py\", line 1029, in process\n",
       "    serializer.dump_stream(out_iter, outfile)\n",
       "  File \"/databricks/spark/python/pyspark/serializers.py\", line 154, in dump_stream\n",
       "    for obj in iterator:\n",
       "  File \"/databricks/spark/python/pyspark/rdd.py\", line 3873, in add_shuffle_key\n",
       "    for k, v in iterator:\n",
       "TypeError: cannot unpack non-iterable int object\n",
       "\n",
       "\tat org.apache.spark.api.python.BasePythonRunner$ReaderIterator.handlePythonException(PythonRunner.scala:685)\n",
       "\tat org.apache.spark.api.python.PythonRunner$$anon$3.read(PythonRunner.scala:894)\n",
       "\tat org.apache.spark.api.python.PythonRunner$$anon$3.read(PythonRunner.scala:876)\n",
       "\tat org.apache.spark.api.python.BasePythonRunner$ReaderIterator.hasNext(PythonRunner.scala:638)\n",
       "\tat org.apache.spark.InterruptibleIterator.hasNext(InterruptibleIterator.scala:37)\n",
       "\tat scala.collection.Iterator$GroupedIterator.fill(Iterator.scala:1211)\n",
       "\tat scala.collection.Iterator$GroupedIterator.hasNext(Iterator.scala:1217)\n",
       "\tat scala.collection.Iterator$$anon$10.hasNext(Iterator.scala:460)\n",
       "\tat org.apache.spark.shuffle.sort.BypassMergeSortShuffleWriter.write(BypassMergeSortShuffleWriter.java:151)\n",
       "\tat org.apache.spark.shuffle.ShuffleWriteProcessor.write(ShuffleWriteProcessor.scala:59)\n",
       "\tat org.apache.spark.scheduler.ShuffleMapTask.$anonfun$runTask$3(ShuffleMapTask.scala:81)\n",
       "\tat com.databricks.spark.util.ExecutorFrameProfiler$.record(ExecutorFrameProfiler.scala:110)\n",
       "\tat org.apache.spark.scheduler.ShuffleMapTask.$anonfun$runTask$1(ShuffleMapTask.scala:81)\n",
       "\tat com.databricks.spark.util.ExecutorFrameProfiler$.record(ExecutorFrameProfiler.scala:110)\n",
       "\tat org.apache.spark.scheduler.ShuffleMapTask.runTask(ShuffleMapTask.scala:53)\n",
       "\tat org.apache.spark.scheduler.ShuffleMapTask.runTask(ShuffleMapTask.scala:41)\n",
       "\tat org.apache.spark.scheduler.Task.doRunTask(Task.scala:179)\n",
       "\tat org.apache.spark.scheduler.Task.$anonfun$run$5(Task.scala:142)\n",
       "\tat com.databricks.unity.EmptyHandle$.runWithAndClose(UCSHandle.scala:125)\n",
       "\tat org.apache.spark.scheduler.Task.$anonfun$run$1(Task.scala:142)\n",
       "\tat com.databricks.spark.util.ExecutorFrameProfiler$.record(ExecutorFrameProfiler.scala:110)\n",
       "\tat org.apache.spark.scheduler.Task.run(Task.scala:97)\n",
       "\tat org.apache.spark.executor.Executor$TaskRunner.$anonfun$run$13(Executor.scala:904)\n",
       "\tat org.apache.spark.util.Utils$.tryWithSafeFinally(Utils.scala:1740)\n",
       "\tat org.apache.spark.executor.Executor$TaskRunner.$anonfun$run$4(Executor.scala:907)\n",
       "\tat scala.runtime.java8.JFunction0$mcV$sp.apply(JFunction0$mcV$sp.java:23)\n",
       "\tat com.databricks.spark.util.ExecutorFrameProfiler$.record(ExecutorFrameProfiler.scala:110)\n",
       "\tat org.apache.spark.executor.Executor$TaskRunner.run(Executor.scala:761)\n",
       "\tat java.util.concurrent.ThreadPoolExecutor.runWorker(ThreadPoolExecutor.java:1149)\n",
       "\tat java.util.concurrent.ThreadPoolExecutor$Worker.run(ThreadPoolExecutor.java:624)\n",
       "\tat java.lang.Thread.run(Thread.java:750)\n",
       "\n",
       "Driver stacktrace:\n",
       "\tat org.apache.spark.scheduler.DAGScheduler.failJobAndIndependentStages(DAGScheduler.scala:3401)\n",
       "\tat org.apache.spark.scheduler.DAGScheduler.$anonfun$abortStage$2(DAGScheduler.scala:3332)\n",
       "\tat org.apache.spark.scheduler.DAGScheduler.$anonfun$abortStage$2$adapted(DAGScheduler.scala:3321)\n",
       "\tat scala.collection.mutable.ResizableArray.foreach(ResizableArray.scala:62)\n",
       "\tat scala.collection.mutable.ResizableArray.foreach$(ResizableArray.scala:55)\n",
       "\tat scala.collection.mutable.ArrayBuffer.foreach(ArrayBuffer.scala:49)\n",
       "\tat org.apache.spark.scheduler.DAGScheduler.abortStage(DAGScheduler.scala:3321)\n",
       "\tat org.apache.spark.scheduler.DAGScheduler.$anonfun$handleTaskSetFailed$1(DAGScheduler.scala:1438)\n",
       "\tat org.apache.spark.scheduler.DAGScheduler.$anonfun$handleTaskSetFailed$1$adapted(DAGScheduler.scala:1438)\n",
       "\tat scala.Option.foreach(Option.scala:407)\n",
       "\tat org.apache.spark.scheduler.DAGScheduler.handleTaskSetFailed(DAGScheduler.scala:1438)\n",
       "\tat org.apache.spark.scheduler.DAGSchedulerEventProcessLoop.doOnReceive(DAGScheduler.scala:3614)\n",
       "\tat org.apache.spark.scheduler.DAGSchedulerEventProcessLoop.onReceive(DAGScheduler.scala:3552)\n",
       "\tat org.apache.spark.scheduler.DAGSchedulerEventProcessLoop.onReceive(DAGScheduler.scala:3540)\n",
       "\tat org.apache.spark.util.EventLoop$$anon$1.run(EventLoop.scala:51)\n",
       "\tat org.apache.spark.scheduler.DAGScheduler.$anonfun$runJob$1(DAGScheduler.scala:1187)\n",
       "\tat scala.runtime.java8.JFunction0$mcV$sp.apply(JFunction0$mcV$sp.java:23)\n",
       "\tat com.databricks.spark.util.FrameProfiler$.record(FrameProfiler.scala:80)\n",
       "\tat org.apache.spark.scheduler.DAGScheduler.runJob(DAGScheduler.scala:1175)\n",
       "\tat org.apache.spark.SparkContext.runJobInternal(SparkContext.scala:2750)\n",
       "\tat org.apache.spark.rdd.RDD.$anonfun$collect$1(RDD.scala:1073)\n",
       "\tat org.apache.spark.rdd.RDDOperationScope$.withScope(RDDOperationScope.scala:165)\n",
       "\tat org.apache.spark.rdd.RDDOperationScope$.withScope(RDDOperationScope.scala:125)\n",
       "\tat org.apache.spark.rdd.RDDOperationScope$.withScope(RDDOperationScope.scala:112)\n",
       "\tat org.apache.spark.rdd.RDD.withScope(RDD.scala:448)\n",
       "\tat org.apache.spark.rdd.RDD.collect(RDD.scala:1071)\n",
       "\tat org.apache.spark.api.python.PythonRDD$.collectAndServe(PythonRDD.scala:282)\n",
       "\tat org.apache.spark.api.python.PythonRDD.collectAndServe(PythonRDD.scala)\n",
       "\tat sun.reflect.GeneratedMethodAccessor545.invoke(Unknown Source)\n",
       "\tat sun.reflect.DelegatingMethodAccessorImpl.invoke(DelegatingMethodAccessorImpl.java:43)\n",
       "\tat java.lang.reflect.Method.invoke(Method.java:498)\n",
       "\tat py4j.reflection.MethodInvoker.invoke(MethodInvoker.java:244)\n",
       "\tat py4j.reflection.ReflectionEngine.invoke(ReflectionEngine.java:380)\n",
       "\tat py4j.Gateway.invoke(Gateway.java:306)\n",
       "\tat py4j.commands.AbstractCommand.invokeMethod(AbstractCommand.java:132)\n",
       "\tat py4j.commands.CallCommand.execute(CallCommand.java:79)\n",
       "\tat py4j.ClientServerConnection.waitForCommands(ClientServerConnection.java:195)\n",
       "\tat py4j.ClientServerConnection.run(ClientServerConnection.java:115)\n",
       "\tat java.lang.Thread.run(Thread.java:750)\n",
       "Caused by: org.apache.spark.api.python.PythonException: 'TypeError: cannot unpack non-iterable int object'. Full traceback below:\n",
       "Traceback (most recent call last):\n",
       "  File \"/databricks/spark/python/pyspark/worker.py\", line 1037, in main\n",
       "    process()\n",
       "  File \"/databricks/spark/python/pyspark/worker.py\", line 1029, in process\n",
       "    serializer.dump_stream(out_iter, outfile)\n",
       "  File \"/databricks/spark/python/pyspark/serializers.py\", line 154, in dump_stream\n",
       "    for obj in iterator:\n",
       "  File \"/databricks/spark/python/pyspark/rdd.py\", line 3873, in add_shuffle_key\n",
       "    for k, v in iterator:\n",
       "TypeError: cannot unpack non-iterable int object\n",
       "\n",
       "\tat org.apache.spark.api.python.BasePythonRunner$ReaderIterator.handlePythonException(PythonRunner.scala:685)\n",
       "\tat org.apache.spark.api.python.PythonRunner$$anon$3.read(PythonRunner.scala:894)\n",
       "\tat org.apache.spark.api.python.PythonRunner$$anon$3.read(PythonRunner.scala:876)\n",
       "\tat org.apache.spark.api.python.BasePythonRunner$ReaderIterator.hasNext(PythonRunner.scala:638)\n",
       "\tat org.apache.spark.InterruptibleIterator.hasNext(InterruptibleIterator.scala:37)\n",
       "\tat scala.collection.Iterator$GroupedIterator.fill(Iterator.scala:1211)\n",
       "\tat scala.collection.Iterator$GroupedIterator.hasNext(Iterator.scala:1217)\n",
       "\tat scala.collection.Iterator$$anon$10.hasNext(Iterator.scala:460)\n",
       "\tat org.apache.spark.shuffle.sort.BypassMergeSortShuffleWriter.write(BypassMergeSortShuffleWriter.java:151)\n",
       "\tat org.apache.spark.shuffle.ShuffleWriteProcessor.write(ShuffleWriteProcessor.scala:59)\n",
       "\tat org.apache.spark.scheduler.ShuffleMapTask.$anonfun$runTask$3(ShuffleMapTask.scala:81)\n",
       "\tat com.databricks.spark.util.ExecutorFrameProfiler$.record(ExecutorFrameProfiler.scala:110)\n",
       "\tat org.apache.spark.scheduler.ShuffleMapTask.$anonfun$runTask$1(ShuffleMapTask.scala:81)\n",
       "\tat com.databricks.spark.util.ExecutorFrameProfiler$.record(ExecutorFrameProfiler.scala:110)\n",
       "\tat org.apache.spark.scheduler.ShuffleMapTask.runTask(ShuffleMapTask.scala:53)\n",
       "\tat org.apache.spark.scheduler.ShuffleMapTask.runTask(ShuffleMapTask.scala:41)\n",
       "\tat org.apache.spark.scheduler.Task.doRunTask(Task.scala:179)\n",
       "\tat org.apache.spark.scheduler.Task.$anonfun$run$5(Task.scala:142)\n",
       "\tat com.databricks.unity.EmptyHandle$.runWithAndClose(UCSHandle.scala:125)\n",
       "\tat org.apache.spark.scheduler.Task.$anonfun$run$1(Task.scala:142)\n",
       "\tat com.databricks.spark.util.ExecutorFrameProfiler$.record(ExecutorFrameProfiler.scala:110)\n",
       "\tat org.apache.spark.scheduler.Task.run(Task.scala:97)\n",
       "\tat org.apache.spark.executor.Executor$TaskRunner.$anonfun$run$13(Executor.scala:904)\n",
       "\tat org.apache.spark.util.Utils$.tryWithSafeFinally(Utils.scala:1740)\n",
       "\tat org.apache.spark.executor.Executor$TaskRunner.$anonfun$run$4(Executor.scala:907)\n",
       "\tat scala.runtime.java8.JFunction0$mcV$sp.apply(JFunction0$mcV$sp.java:23)\n",
       "\tat com.databricks.spark.util.ExecutorFrameProfiler$.record(ExecutorFrameProfiler.scala:110)\n",
       "\tat org.apache.spark.executor.Executor$TaskRunner.run(Executor.scala:761)\n",
       "\tat java.util.concurrent.ThreadPoolExecutor.runWorker(ThreadPoolExecutor.java:1149)\n",
       "\tat java.util.concurrent.ThreadPoolExecutor$Worker.run(ThreadPoolExecutor.java:624)\n",
       "\t... 1 more\n"
      ]
     },
     "metadata": {
      "application/vnd.databricks.v1+output": {
       "arguments": {},
       "data": "\u001B[0;31m---------------------------------------------------------------------------\u001B[0m\n\u001B[0;31mPy4JJavaError\u001B[0m                             Traceback (most recent call last)\nFile \u001B[0;32m<command-1905306230174712>:1\u001B[0m\n\u001B[0;32m----> 1\u001B[0m \u001B[43mrdd_repartitioned\u001B[49m\u001B[38;5;241;43m.\u001B[39;49m\u001B[43mcount\u001B[49m\u001B[43m(\u001B[49m\u001B[43m)\u001B[49m\n\nFile \u001B[0;32m/databricks/spark/python/pyspark/instrumentation_utils.py:48\u001B[0m, in \u001B[0;36m_wrap_function.<locals>.wrapper\u001B[0;34m(*args, **kwargs)\u001B[0m\n\u001B[1;32m     46\u001B[0m start \u001B[38;5;241m=\u001B[39m time\u001B[38;5;241m.\u001B[39mperf_counter()\n\u001B[1;32m     47\u001B[0m \u001B[38;5;28;01mtry\u001B[39;00m:\n\u001B[0;32m---> 48\u001B[0m     res \u001B[38;5;241m=\u001B[39m \u001B[43mfunc\u001B[49m\u001B[43m(\u001B[49m\u001B[38;5;241;43m*\u001B[39;49m\u001B[43margs\u001B[49m\u001B[43m,\u001B[49m\u001B[43m \u001B[49m\u001B[38;5;241;43m*\u001B[39;49m\u001B[38;5;241;43m*\u001B[39;49m\u001B[43mkwargs\u001B[49m\u001B[43m)\u001B[49m\n\u001B[1;32m     49\u001B[0m     logger\u001B[38;5;241m.\u001B[39mlog_success(\n\u001B[1;32m     50\u001B[0m         module_name, class_name, function_name, time\u001B[38;5;241m.\u001B[39mperf_counter() \u001B[38;5;241m-\u001B[39m start, signature\n\u001B[1;32m     51\u001B[0m     )\n\u001B[1;32m     52\u001B[0m     \u001B[38;5;28;01mreturn\u001B[39;00m res\n\nFile \u001B[0;32m/databricks/spark/python/pyspark/rdd.py:2328\u001B[0m, in \u001B[0;36mRDD.count\u001B[0;34m(self)\u001B[0m\n\u001B[1;32m   2307\u001B[0m \u001B[38;5;28;01mdef\u001B[39;00m \u001B[38;5;21mcount\u001B[39m(\u001B[38;5;28mself\u001B[39m) \u001B[38;5;241m-\u001B[39m\u001B[38;5;241m>\u001B[39m \u001B[38;5;28mint\u001B[39m:\n\u001B[1;32m   2308\u001B[0m     \u001B[38;5;124;03m\"\"\"\u001B[39;00m\n\u001B[1;32m   2309\u001B[0m \u001B[38;5;124;03m    Return the number of elements in this RDD.\u001B[39;00m\n\u001B[1;32m   2310\u001B[0m \n\u001B[0;32m   (...)\u001B[0m\n\u001B[1;32m   2326\u001B[0m \u001B[38;5;124;03m    3\u001B[39;00m\n\u001B[1;32m   2327\u001B[0m \u001B[38;5;124;03m    \"\"\"\u001B[39;00m\n\u001B[0;32m-> 2328\u001B[0m     \u001B[38;5;28;01mreturn\u001B[39;00m \u001B[38;5;28;43mself\u001B[39;49m\u001B[38;5;241;43m.\u001B[39;49m\u001B[43mmapPartitions\u001B[49m\u001B[43m(\u001B[49m\u001B[38;5;28;43;01mlambda\u001B[39;49;00m\u001B[43m \u001B[49m\u001B[43mi\u001B[49m\u001B[43m:\u001B[49m\u001B[43m \u001B[49m\u001B[43m[\u001B[49m\u001B[38;5;28;43msum\u001B[39;49m\u001B[43m(\u001B[49m\u001B[38;5;241;43m1\u001B[39;49m\u001B[43m \u001B[49m\u001B[38;5;28;43;01mfor\u001B[39;49;00m\u001B[43m \u001B[49m\u001B[43m_\u001B[49m\u001B[43m \u001B[49m\u001B[38;5;129;43;01min\u001B[39;49;00m\u001B[43m \u001B[49m\u001B[43mi\u001B[49m\u001B[43m)\u001B[49m\u001B[43m]\u001B[49m\u001B[43m)\u001B[49m\u001B[38;5;241;43m.\u001B[39;49m\u001B[43msum\u001B[49m\u001B[43m(\u001B[49m\u001B[43m)\u001B[49m\n\nFile \u001B[0;32m/databricks/spark/python/pyspark/instrumentation_utils.py:43\u001B[0m, in \u001B[0;36m_wrap_function.<locals>.wrapper\u001B[0;34m(*args, **kwargs)\u001B[0m\n\u001B[1;32m     39\u001B[0m \u001B[38;5;129m@functools\u001B[39m\u001B[38;5;241m.\u001B[39mwraps(func)\n\u001B[1;32m     40\u001B[0m \u001B[38;5;28;01mdef\u001B[39;00m \u001B[38;5;21mwrapper\u001B[39m(\u001B[38;5;241m*\u001B[39margs: Any, \u001B[38;5;241m*\u001B[39m\u001B[38;5;241m*\u001B[39mkwargs: Any) \u001B[38;5;241m-\u001B[39m\u001B[38;5;241m>\u001B[39m Any:\n\u001B[1;32m     41\u001B[0m     \u001B[38;5;28;01mif\u001B[39;00m \u001B[38;5;28mhasattr\u001B[39m(_local, \u001B[38;5;124m\"\u001B[39m\u001B[38;5;124mlogging\u001B[39m\u001B[38;5;124m\"\u001B[39m) \u001B[38;5;129;01mand\u001B[39;00m _local\u001B[38;5;241m.\u001B[39mlogging:\n\u001B[1;32m     42\u001B[0m         \u001B[38;5;66;03m# no need to log since this should be internal call.\u001B[39;00m\n\u001B[0;32m---> 43\u001B[0m         \u001B[38;5;28;01mreturn\u001B[39;00m \u001B[43mfunc\u001B[49m\u001B[43m(\u001B[49m\u001B[38;5;241;43m*\u001B[39;49m\u001B[43margs\u001B[49m\u001B[43m,\u001B[49m\u001B[43m \u001B[49m\u001B[38;5;241;43m*\u001B[39;49m\u001B[38;5;241;43m*\u001B[39;49m\u001B[43mkwargs\u001B[49m\u001B[43m)\u001B[49m\n\u001B[1;32m     44\u001B[0m     _local\u001B[38;5;241m.\u001B[39mlogging \u001B[38;5;241m=\u001B[39m \u001B[38;5;28;01mTrue\u001B[39;00m\n\u001B[1;32m     45\u001B[0m     \u001B[38;5;28;01mtry\u001B[39;00m:\n\nFile \u001B[0;32m/databricks/spark/python/pyspark/rdd.py:2303\u001B[0m, in \u001B[0;36mRDD.sum\u001B[0;34m(self)\u001B[0m\n\u001B[1;32m   2282\u001B[0m \u001B[38;5;28;01mdef\u001B[39;00m \u001B[38;5;21msum\u001B[39m(\u001B[38;5;28mself\u001B[39m: \u001B[38;5;124m\"\u001B[39m\u001B[38;5;124mRDD[NumberOrArray]\u001B[39m\u001B[38;5;124m\"\u001B[39m) \u001B[38;5;241m-\u001B[39m\u001B[38;5;241m>\u001B[39m \u001B[38;5;124m\"\u001B[39m\u001B[38;5;124mNumberOrArray\u001B[39m\u001B[38;5;124m\"\u001B[39m:\n\u001B[1;32m   2283\u001B[0m     \u001B[38;5;124;03m\"\"\"\u001B[39;00m\n\u001B[1;32m   2284\u001B[0m \u001B[38;5;124;03m    Add up the elements in this RDD.\u001B[39;00m\n\u001B[1;32m   2285\u001B[0m \n\u001B[0;32m   (...)\u001B[0m\n\u001B[1;32m   2301\u001B[0m \u001B[38;5;124;03m    6.0\u001B[39;00m\n\u001B[1;32m   2302\u001B[0m \u001B[38;5;124;03m    \"\"\"\u001B[39;00m\n\u001B[0;32m-> 2303\u001B[0m     \u001B[38;5;28;01mreturn\u001B[39;00m \u001B[38;5;28;43mself\u001B[39;49m\u001B[38;5;241;43m.\u001B[39;49m\u001B[43mmapPartitions\u001B[49m\u001B[43m(\u001B[49m\u001B[38;5;28;43;01mlambda\u001B[39;49;00m\u001B[43m \u001B[49m\u001B[43mx\u001B[49m\u001B[43m:\u001B[49m\u001B[43m \u001B[49m\u001B[43m[\u001B[49m\u001B[38;5;28;43msum\u001B[39;49m\u001B[43m(\u001B[49m\u001B[43mx\u001B[49m\u001B[43m)\u001B[49m\u001B[43m]\u001B[49m\u001B[43m)\u001B[49m\u001B[38;5;241;43m.\u001B[39;49m\u001B[43mfold\u001B[49m\u001B[43m(\u001B[49m\u001B[43m  \u001B[49m\u001B[38;5;66;43;03m# type: ignore[return-value]\u001B[39;49;00m\n\u001B[1;32m   2304\u001B[0m \u001B[43m        \u001B[49m\u001B[38;5;241;43m0\u001B[39;49m\u001B[43m,\u001B[49m\u001B[43m \u001B[49m\u001B[43moperator\u001B[49m\u001B[38;5;241;43m.\u001B[39;49m\u001B[43madd\u001B[49m\n\u001B[1;32m   2305\u001B[0m \u001B[43m    \u001B[49m\u001B[43m)\u001B[49m\n\nFile \u001B[0;32m/databricks/spark/python/pyspark/instrumentation_utils.py:43\u001B[0m, in \u001B[0;36m_wrap_function.<locals>.wrapper\u001B[0;34m(*args, **kwargs)\u001B[0m\n\u001B[1;32m     39\u001B[0m \u001B[38;5;129m@functools\u001B[39m\u001B[38;5;241m.\u001B[39mwraps(func)\n\u001B[1;32m     40\u001B[0m \u001B[38;5;28;01mdef\u001B[39;00m \u001B[38;5;21mwrapper\u001B[39m(\u001B[38;5;241m*\u001B[39margs: Any, \u001B[38;5;241m*\u001B[39m\u001B[38;5;241m*\u001B[39mkwargs: Any) \u001B[38;5;241m-\u001B[39m\u001B[38;5;241m>\u001B[39m Any:\n\u001B[1;32m     41\u001B[0m     \u001B[38;5;28;01mif\u001B[39;00m \u001B[38;5;28mhasattr\u001B[39m(_local, \u001B[38;5;124m\"\u001B[39m\u001B[38;5;124mlogging\u001B[39m\u001B[38;5;124m\"\u001B[39m) \u001B[38;5;129;01mand\u001B[39;00m _local\u001B[38;5;241m.\u001B[39mlogging:\n\u001B[1;32m     42\u001B[0m         \u001B[38;5;66;03m# no need to log since this should be internal call.\u001B[39;00m\n\u001B[0;32m---> 43\u001B[0m         \u001B[38;5;28;01mreturn\u001B[39;00m \u001B[43mfunc\u001B[49m\u001B[43m(\u001B[49m\u001B[38;5;241;43m*\u001B[39;49m\u001B[43margs\u001B[49m\u001B[43m,\u001B[49m\u001B[43m \u001B[49m\u001B[38;5;241;43m*\u001B[39;49m\u001B[38;5;241;43m*\u001B[39;49m\u001B[43mkwargs\u001B[49m\u001B[43m)\u001B[49m\n\u001B[1;32m     44\u001B[0m     _local\u001B[38;5;241m.\u001B[39mlogging \u001B[38;5;241m=\u001B[39m \u001B[38;5;28;01mTrue\u001B[39;00m\n\u001B[1;32m     45\u001B[0m     \u001B[38;5;28;01mtry\u001B[39;00m:\n\nFile \u001B[0;32m/databricks/spark/python/pyspark/rdd.py:2056\u001B[0m, in \u001B[0;36mRDD.fold\u001B[0;34m(self, zeroValue, op)\u001B[0m\n\u001B[1;32m   2051\u001B[0m     \u001B[38;5;28;01myield\u001B[39;00m acc\n\u001B[1;32m   2053\u001B[0m \u001B[38;5;66;03m# collecting result of mapPartitions here ensures that the copy of\u001B[39;00m\n\u001B[1;32m   2054\u001B[0m \u001B[38;5;66;03m# zeroValue provided to each partition is unique from the one provided\u001B[39;00m\n\u001B[1;32m   2055\u001B[0m \u001B[38;5;66;03m# to the final reduce call\u001B[39;00m\n\u001B[0;32m-> 2056\u001B[0m vals \u001B[38;5;241m=\u001B[39m \u001B[38;5;28;43mself\u001B[39;49m\u001B[38;5;241;43m.\u001B[39;49m\u001B[43mmapPartitions\u001B[49m\u001B[43m(\u001B[49m\u001B[43mfunc\u001B[49m\u001B[43m)\u001B[49m\u001B[38;5;241;43m.\u001B[39;49m\u001B[43mcollect\u001B[49m\u001B[43m(\u001B[49m\u001B[43m)\u001B[49m\n\u001B[1;32m   2057\u001B[0m \u001B[38;5;28;01mreturn\u001B[39;00m reduce(op, vals, zeroValue)\n\nFile \u001B[0;32m/databricks/spark/python/pyspark/instrumentation_utils.py:43\u001B[0m, in \u001B[0;36m_wrap_function.<locals>.wrapper\u001B[0;34m(*args, **kwargs)\u001B[0m\n\u001B[1;32m     39\u001B[0m \u001B[38;5;129m@functools\u001B[39m\u001B[38;5;241m.\u001B[39mwraps(func)\n\u001B[1;32m     40\u001B[0m \u001B[38;5;28;01mdef\u001B[39;00m \u001B[38;5;21mwrapper\u001B[39m(\u001B[38;5;241m*\u001B[39margs: Any, \u001B[38;5;241m*\u001B[39m\u001B[38;5;241m*\u001B[39mkwargs: Any) \u001B[38;5;241m-\u001B[39m\u001B[38;5;241m>\u001B[39m Any:\n\u001B[1;32m     41\u001B[0m     \u001B[38;5;28;01mif\u001B[39;00m \u001B[38;5;28mhasattr\u001B[39m(_local, \u001B[38;5;124m\"\u001B[39m\u001B[38;5;124mlogging\u001B[39m\u001B[38;5;124m\"\u001B[39m) \u001B[38;5;129;01mand\u001B[39;00m _local\u001B[38;5;241m.\u001B[39mlogging:\n\u001B[1;32m     42\u001B[0m         \u001B[38;5;66;03m# no need to log since this should be internal call.\u001B[39;00m\n\u001B[0;32m---> 43\u001B[0m         \u001B[38;5;28;01mreturn\u001B[39;00m \u001B[43mfunc\u001B[49m\u001B[43m(\u001B[49m\u001B[38;5;241;43m*\u001B[39;49m\u001B[43margs\u001B[49m\u001B[43m,\u001B[49m\u001B[43m \u001B[49m\u001B[38;5;241;43m*\u001B[39;49m\u001B[38;5;241;43m*\u001B[39;49m\u001B[43mkwargs\u001B[49m\u001B[43m)\u001B[49m\n\u001B[1;32m     44\u001B[0m     _local\u001B[38;5;241m.\u001B[39mlogging \u001B[38;5;241m=\u001B[39m \u001B[38;5;28;01mTrue\u001B[39;00m\n\u001B[1;32m     45\u001B[0m     \u001B[38;5;28;01mtry\u001B[39;00m:\n\nFile \u001B[0;32m/databricks/spark/python/pyspark/rdd.py:1825\u001B[0m, in \u001B[0;36mRDD.collect\u001B[0;34m(self)\u001B[0m\n\u001B[1;32m   1823\u001B[0m \u001B[38;5;28;01mwith\u001B[39;00m SCCallSiteSync(\u001B[38;5;28mself\u001B[39m\u001B[38;5;241m.\u001B[39mcontext):\n\u001B[1;32m   1824\u001B[0m     \u001B[38;5;28;01massert\u001B[39;00m \u001B[38;5;28mself\u001B[39m\u001B[38;5;241m.\u001B[39mctx\u001B[38;5;241m.\u001B[39m_jvm \u001B[38;5;129;01mis\u001B[39;00m \u001B[38;5;129;01mnot\u001B[39;00m \u001B[38;5;28;01mNone\u001B[39;00m\n\u001B[0;32m-> 1825\u001B[0m     sock_info \u001B[38;5;241m=\u001B[39m \u001B[38;5;28;43mself\u001B[39;49m\u001B[38;5;241;43m.\u001B[39;49m\u001B[43mctx\u001B[49m\u001B[38;5;241;43m.\u001B[39;49m\u001B[43m_jvm\u001B[49m\u001B[38;5;241;43m.\u001B[39;49m\u001B[43mPythonRDD\u001B[49m\u001B[38;5;241;43m.\u001B[39;49m\u001B[43mcollectAndServe\u001B[49m\u001B[43m(\u001B[49m\u001B[38;5;28;43mself\u001B[39;49m\u001B[38;5;241;43m.\u001B[39;49m\u001B[43m_jrdd\u001B[49m\u001B[38;5;241;43m.\u001B[39;49m\u001B[43mrdd\u001B[49m\u001B[43m(\u001B[49m\u001B[43m)\u001B[49m\u001B[43m)\u001B[49m\n\u001B[1;32m   1826\u001B[0m \u001B[38;5;28;01mreturn\u001B[39;00m \u001B[38;5;28mlist\u001B[39m(_load_from_socket(sock_info, \u001B[38;5;28mself\u001B[39m\u001B[38;5;241m.\u001B[39m_jrdd_deserializer))\n\nFile \u001B[0;32m/databricks/spark/python/lib/py4j-0.10.9.5-src.zip/py4j/java_gateway.py:1321\u001B[0m, in \u001B[0;36mJavaMember.__call__\u001B[0;34m(self, *args)\u001B[0m\n\u001B[1;32m   1315\u001B[0m command \u001B[38;5;241m=\u001B[39m proto\u001B[38;5;241m.\u001B[39mCALL_COMMAND_NAME \u001B[38;5;241m+\u001B[39m\\\n\u001B[1;32m   1316\u001B[0m     \u001B[38;5;28mself\u001B[39m\u001B[38;5;241m.\u001B[39mcommand_header \u001B[38;5;241m+\u001B[39m\\\n\u001B[1;32m   1317\u001B[0m     args_command \u001B[38;5;241m+\u001B[39m\\\n\u001B[1;32m   1318\u001B[0m     proto\u001B[38;5;241m.\u001B[39mEND_COMMAND_PART\n\u001B[1;32m   1320\u001B[0m answer \u001B[38;5;241m=\u001B[39m \u001B[38;5;28mself\u001B[39m\u001B[38;5;241m.\u001B[39mgateway_client\u001B[38;5;241m.\u001B[39msend_command(command)\n\u001B[0;32m-> 1321\u001B[0m return_value \u001B[38;5;241m=\u001B[39m \u001B[43mget_return_value\u001B[49m\u001B[43m(\u001B[49m\n\u001B[1;32m   1322\u001B[0m \u001B[43m    \u001B[49m\u001B[43manswer\u001B[49m\u001B[43m,\u001B[49m\u001B[43m \u001B[49m\u001B[38;5;28;43mself\u001B[39;49m\u001B[38;5;241;43m.\u001B[39;49m\u001B[43mgateway_client\u001B[49m\u001B[43m,\u001B[49m\u001B[43m \u001B[49m\u001B[38;5;28;43mself\u001B[39;49m\u001B[38;5;241;43m.\u001B[39;49m\u001B[43mtarget_id\u001B[49m\u001B[43m,\u001B[49m\u001B[43m \u001B[49m\u001B[38;5;28;43mself\u001B[39;49m\u001B[38;5;241;43m.\u001B[39;49m\u001B[43mname\u001B[49m\u001B[43m)\u001B[49m\n\u001B[1;32m   1324\u001B[0m \u001B[38;5;28;01mfor\u001B[39;00m temp_arg \u001B[38;5;129;01min\u001B[39;00m temp_args:\n\u001B[1;32m   1325\u001B[0m     temp_arg\u001B[38;5;241m.\u001B[39m_detach()\n\nFile \u001B[0;32m/databricks/spark/python/pyspark/errors/exceptions.py:228\u001B[0m, in \u001B[0;36mcapture_sql_exception.<locals>.deco\u001B[0;34m(*a, **kw)\u001B[0m\n\u001B[1;32m    226\u001B[0m \u001B[38;5;28;01mdef\u001B[39;00m \u001B[38;5;21mdeco\u001B[39m(\u001B[38;5;241m*\u001B[39ma: Any, \u001B[38;5;241m*\u001B[39m\u001B[38;5;241m*\u001B[39mkw: Any) \u001B[38;5;241m-\u001B[39m\u001B[38;5;241m>\u001B[39m Any:\n\u001B[1;32m    227\u001B[0m     \u001B[38;5;28;01mtry\u001B[39;00m:\n\u001B[0;32m--> 228\u001B[0m         \u001B[38;5;28;01mreturn\u001B[39;00m \u001B[43mf\u001B[49m\u001B[43m(\u001B[49m\u001B[38;5;241;43m*\u001B[39;49m\u001B[43ma\u001B[49m\u001B[43m,\u001B[49m\u001B[43m \u001B[49m\u001B[38;5;241;43m*\u001B[39;49m\u001B[38;5;241;43m*\u001B[39;49m\u001B[43mkw\u001B[49m\u001B[43m)\u001B[49m\n\u001B[1;32m    229\u001B[0m     \u001B[38;5;28;01mexcept\u001B[39;00m Py4JJavaError \u001B[38;5;28;01mas\u001B[39;00m e:\n\u001B[1;32m    230\u001B[0m         converted \u001B[38;5;241m=\u001B[39m convert_exception(e\u001B[38;5;241m.\u001B[39mjava_exception)\n\nFile \u001B[0;32m/databricks/spark/python/lib/py4j-0.10.9.5-src.zip/py4j/protocol.py:326\u001B[0m, in \u001B[0;36mget_return_value\u001B[0;34m(answer, gateway_client, target_id, name)\u001B[0m\n\u001B[1;32m    324\u001B[0m value \u001B[38;5;241m=\u001B[39m OUTPUT_CONVERTER[\u001B[38;5;28mtype\u001B[39m](answer[\u001B[38;5;241m2\u001B[39m:], gateway_client)\n\u001B[1;32m    325\u001B[0m \u001B[38;5;28;01mif\u001B[39;00m answer[\u001B[38;5;241m1\u001B[39m] \u001B[38;5;241m==\u001B[39m REFERENCE_TYPE:\n\u001B[0;32m--> 326\u001B[0m     \u001B[38;5;28;01mraise\u001B[39;00m Py4JJavaError(\n\u001B[1;32m    327\u001B[0m         \u001B[38;5;124m\"\u001B[39m\u001B[38;5;124mAn error occurred while calling \u001B[39m\u001B[38;5;132;01m{0}\u001B[39;00m\u001B[38;5;132;01m{1}\u001B[39;00m\u001B[38;5;132;01m{2}\u001B[39;00m\u001B[38;5;124m.\u001B[39m\u001B[38;5;130;01m\\n\u001B[39;00m\u001B[38;5;124m\"\u001B[39m\u001B[38;5;241m.\u001B[39m\n\u001B[1;32m    328\u001B[0m         \u001B[38;5;28mformat\u001B[39m(target_id, \u001B[38;5;124m\"\u001B[39m\u001B[38;5;124m.\u001B[39m\u001B[38;5;124m\"\u001B[39m, name), value)\n\u001B[1;32m    329\u001B[0m \u001B[38;5;28;01melse\u001B[39;00m:\n\u001B[1;32m    330\u001B[0m     \u001B[38;5;28;01mraise\u001B[39;00m Py4JError(\n\u001B[1;32m    331\u001B[0m         \u001B[38;5;124m\"\u001B[39m\u001B[38;5;124mAn error occurred while calling \u001B[39m\u001B[38;5;132;01m{0}\u001B[39;00m\u001B[38;5;132;01m{1}\u001B[39;00m\u001B[38;5;132;01m{2}\u001B[39;00m\u001B[38;5;124m. Trace:\u001B[39m\u001B[38;5;130;01m\\n\u001B[39;00m\u001B[38;5;132;01m{3}\u001B[39;00m\u001B[38;5;130;01m\\n\u001B[39;00m\u001B[38;5;124m\"\u001B[39m\u001B[38;5;241m.\u001B[39m\n\u001B[1;32m    332\u001B[0m         \u001B[38;5;28mformat\u001B[39m(target_id, \u001B[38;5;124m\"\u001B[39m\u001B[38;5;124m.\u001B[39m\u001B[38;5;124m\"\u001B[39m, name, value))\n\n\u001B[0;31mPy4JJavaError\u001B[0m: An error occurred while calling z:org.apache.spark.api.python.PythonRDD.collectAndServe.\n: org.apache.spark.SparkException: Job aborted due to stage failure: Task 0 in stage 28.0 failed 1 times, most recent failure: Lost task 0.0 in stage 28.0 (TID 146) (ip-10-172-216-133.us-west-2.compute.internal executor driver): org.apache.spark.api.python.PythonException: 'TypeError: cannot unpack non-iterable int object'. Full traceback below:\nTraceback (most recent call last):\n  File \"/databricks/spark/python/pyspark/worker.py\", line 1037, in main\n    process()\n  File \"/databricks/spark/python/pyspark/worker.py\", line 1029, in process\n    serializer.dump_stream(out_iter, outfile)\n  File \"/databricks/spark/python/pyspark/serializers.py\", line 154, in dump_stream\n    for obj in iterator:\n  File \"/databricks/spark/python/pyspark/rdd.py\", line 3873, in add_shuffle_key\n    for k, v in iterator:\nTypeError: cannot unpack non-iterable int object\n\n\tat org.apache.spark.api.python.BasePythonRunner$ReaderIterator.handlePythonException(PythonRunner.scala:685)\n\tat org.apache.spark.api.python.PythonRunner$$anon$3.read(PythonRunner.scala:894)\n\tat org.apache.spark.api.python.PythonRunner$$anon$3.read(PythonRunner.scala:876)\n\tat org.apache.spark.api.python.BasePythonRunner$ReaderIterator.hasNext(PythonRunner.scala:638)\n\tat org.apache.spark.InterruptibleIterator.hasNext(InterruptibleIterator.scala:37)\n\tat scala.collection.Iterator$GroupedIterator.fill(Iterator.scala:1211)\n\tat scala.collection.Iterator$GroupedIterator.hasNext(Iterator.scala:1217)\n\tat scala.collection.Iterator$$anon$10.hasNext(Iterator.scala:460)\n\tat org.apache.spark.shuffle.sort.BypassMergeSortShuffleWriter.write(BypassMergeSortShuffleWriter.java:151)\n\tat org.apache.spark.shuffle.ShuffleWriteProcessor.write(ShuffleWriteProcessor.scala:59)\n\tat org.apache.spark.scheduler.ShuffleMapTask.$anonfun$runTask$3(ShuffleMapTask.scala:81)\n\tat com.databricks.spark.util.ExecutorFrameProfiler$.record(ExecutorFrameProfiler.scala:110)\n\tat org.apache.spark.scheduler.ShuffleMapTask.$anonfun$runTask$1(ShuffleMapTask.scala:81)\n\tat com.databricks.spark.util.ExecutorFrameProfiler$.record(ExecutorFrameProfiler.scala:110)\n\tat org.apache.spark.scheduler.ShuffleMapTask.runTask(ShuffleMapTask.scala:53)\n\tat org.apache.spark.scheduler.ShuffleMapTask.runTask(ShuffleMapTask.scala:41)\n\tat org.apache.spark.scheduler.Task.doRunTask(Task.scala:179)\n\tat org.apache.spark.scheduler.Task.$anonfun$run$5(Task.scala:142)\n\tat com.databricks.unity.EmptyHandle$.runWithAndClose(UCSHandle.scala:125)\n\tat org.apache.spark.scheduler.Task.$anonfun$run$1(Task.scala:142)\n\tat com.databricks.spark.util.ExecutorFrameProfiler$.record(ExecutorFrameProfiler.scala:110)\n\tat org.apache.spark.scheduler.Task.run(Task.scala:97)\n\tat org.apache.spark.executor.Executor$TaskRunner.$anonfun$run$13(Executor.scala:904)\n\tat org.apache.spark.util.Utils$.tryWithSafeFinally(Utils.scala:1740)\n\tat org.apache.spark.executor.Executor$TaskRunner.$anonfun$run$4(Executor.scala:907)\n\tat scala.runtime.java8.JFunction0$mcV$sp.apply(JFunction0$mcV$sp.java:23)\n\tat com.databricks.spark.util.ExecutorFrameProfiler$.record(ExecutorFrameProfiler.scala:110)\n\tat org.apache.spark.executor.Executor$TaskRunner.run(Executor.scala:761)\n\tat java.util.concurrent.ThreadPoolExecutor.runWorker(ThreadPoolExecutor.java:1149)\n\tat java.util.concurrent.ThreadPoolExecutor$Worker.run(ThreadPoolExecutor.java:624)\n\tat java.lang.Thread.run(Thread.java:750)\n\nDriver stacktrace:\n\tat org.apache.spark.scheduler.DAGScheduler.failJobAndIndependentStages(DAGScheduler.scala:3401)\n\tat org.apache.spark.scheduler.DAGScheduler.$anonfun$abortStage$2(DAGScheduler.scala:3332)\n\tat org.apache.spark.scheduler.DAGScheduler.$anonfun$abortStage$2$adapted(DAGScheduler.scala:3321)\n\tat scala.collection.mutable.ResizableArray.foreach(ResizableArray.scala:62)\n\tat scala.collection.mutable.ResizableArray.foreach$(ResizableArray.scala:55)\n\tat scala.collection.mutable.ArrayBuffer.foreach(ArrayBuffer.scala:49)\n\tat org.apache.spark.scheduler.DAGScheduler.abortStage(DAGScheduler.scala:3321)\n\tat org.apache.spark.scheduler.DAGScheduler.$anonfun$handleTaskSetFailed$1(DAGScheduler.scala:1438)\n\tat org.apache.spark.scheduler.DAGScheduler.$anonfun$handleTaskSetFailed$1$adapted(DAGScheduler.scala:1438)\n\tat scala.Option.foreach(Option.scala:407)\n\tat org.apache.spark.scheduler.DAGScheduler.handleTaskSetFailed(DAGScheduler.scala:1438)\n\tat org.apache.spark.scheduler.DAGSchedulerEventProcessLoop.doOnReceive(DAGScheduler.scala:3614)\n\tat org.apache.spark.scheduler.DAGSchedulerEventProcessLoop.onReceive(DAGScheduler.scala:3552)\n\tat org.apache.spark.scheduler.DAGSchedulerEventProcessLoop.onReceive(DAGScheduler.scala:3540)\n\tat org.apache.spark.util.EventLoop$$anon$1.run(EventLoop.scala:51)\n\tat org.apache.spark.scheduler.DAGScheduler.$anonfun$runJob$1(DAGScheduler.scala:1187)\n\tat scala.runtime.java8.JFunction0$mcV$sp.apply(JFunction0$mcV$sp.java:23)\n\tat com.databricks.spark.util.FrameProfiler$.record(FrameProfiler.scala:80)\n\tat org.apache.spark.scheduler.DAGScheduler.runJob(DAGScheduler.scala:1175)\n\tat org.apache.spark.SparkContext.runJobInternal(SparkContext.scala:2750)\n\tat org.apache.spark.rdd.RDD.$anonfun$collect$1(RDD.scala:1073)\n\tat org.apache.spark.rdd.RDDOperationScope$.withScope(RDDOperationScope.scala:165)\n\tat org.apache.spark.rdd.RDDOperationScope$.withScope(RDDOperationScope.scala:125)\n\tat org.apache.spark.rdd.RDDOperationScope$.withScope(RDDOperationScope.scala:112)\n\tat org.apache.spark.rdd.RDD.withScope(RDD.scala:448)\n\tat org.apache.spark.rdd.RDD.collect(RDD.scala:1071)\n\tat org.apache.spark.api.python.PythonRDD$.collectAndServe(PythonRDD.scala:282)\n\tat org.apache.spark.api.python.PythonRDD.collectAndServe(PythonRDD.scala)\n\tat sun.reflect.GeneratedMethodAccessor545.invoke(Unknown Source)\n\tat sun.reflect.DelegatingMethodAccessorImpl.invoke(DelegatingMethodAccessorImpl.java:43)\n\tat java.lang.reflect.Method.invoke(Method.java:498)\n\tat py4j.reflection.MethodInvoker.invoke(MethodInvoker.java:244)\n\tat py4j.reflection.ReflectionEngine.invoke(ReflectionEngine.java:380)\n\tat py4j.Gateway.invoke(Gateway.java:306)\n\tat py4j.commands.AbstractCommand.invokeMethod(AbstractCommand.java:132)\n\tat py4j.commands.CallCommand.execute(CallCommand.java:79)\n\tat py4j.ClientServerConnection.waitForCommands(ClientServerConnection.java:195)\n\tat py4j.ClientServerConnection.run(ClientServerConnection.java:115)\n\tat java.lang.Thread.run(Thread.java:750)\nCaused by: org.apache.spark.api.python.PythonException: 'TypeError: cannot unpack non-iterable int object'. Full traceback below:\nTraceback (most recent call last):\n  File \"/databricks/spark/python/pyspark/worker.py\", line 1037, in main\n    process()\n  File \"/databricks/spark/python/pyspark/worker.py\", line 1029, in process\n    serializer.dump_stream(out_iter, outfile)\n  File \"/databricks/spark/python/pyspark/serializers.py\", line 154, in dump_stream\n    for obj in iterator:\n  File \"/databricks/spark/python/pyspark/rdd.py\", line 3873, in add_shuffle_key\n    for k, v in iterator:\nTypeError: cannot unpack non-iterable int object\n\n\tat org.apache.spark.api.python.BasePythonRunner$ReaderIterator.handlePythonException(PythonRunner.scala:685)\n\tat org.apache.spark.api.python.PythonRunner$$anon$3.read(PythonRunner.scala:894)\n\tat org.apache.spark.api.python.PythonRunner$$anon$3.read(PythonRunner.scala:876)\n\tat org.apache.spark.api.python.BasePythonRunner$ReaderIterator.hasNext(PythonRunner.scala:638)\n\tat org.apache.spark.InterruptibleIterator.hasNext(InterruptibleIterator.scala:37)\n\tat scala.collection.Iterator$GroupedIterator.fill(Iterator.scala:1211)\n\tat scala.collection.Iterator$GroupedIterator.hasNext(Iterator.scala:1217)\n\tat scala.collection.Iterator$$anon$10.hasNext(Iterator.scala:460)\n\tat org.apache.spark.shuffle.sort.BypassMergeSortShuffleWriter.write(BypassMergeSortShuffleWriter.java:151)\n\tat org.apache.spark.shuffle.ShuffleWriteProcessor.write(ShuffleWriteProcessor.scala:59)\n\tat org.apache.spark.scheduler.ShuffleMapTask.$anonfun$runTask$3(ShuffleMapTask.scala:81)\n\tat com.databricks.spark.util.ExecutorFrameProfiler$.record(ExecutorFrameProfiler.scala:110)\n\tat org.apache.spark.scheduler.ShuffleMapTask.$anonfun$runTask$1(ShuffleMapTask.scala:81)\n\tat com.databricks.spark.util.ExecutorFrameProfiler$.record(ExecutorFrameProfiler.scala:110)\n\tat org.apache.spark.scheduler.ShuffleMapTask.runTask(ShuffleMapTask.scala:53)\n\tat org.apache.spark.scheduler.ShuffleMapTask.runTask(ShuffleMapTask.scala:41)\n\tat org.apache.spark.scheduler.Task.doRunTask(Task.scala:179)\n\tat org.apache.spark.scheduler.Task.$anonfun$run$5(Task.scala:142)\n\tat com.databricks.unity.EmptyHandle$.runWithAndClose(UCSHandle.scala:125)\n\tat org.apache.spark.scheduler.Task.$anonfun$run$1(Task.scala:142)\n\tat com.databricks.spark.util.ExecutorFrameProfiler$.record(ExecutorFrameProfiler.scala:110)\n\tat org.apache.spark.scheduler.Task.run(Task.scala:97)\n\tat org.apache.spark.executor.Executor$TaskRunner.$anonfun$run$13(Executor.scala:904)\n\tat org.apache.spark.util.Utils$.tryWithSafeFinally(Utils.scala:1740)\n\tat org.apache.spark.executor.Executor$TaskRunner.$anonfun$run$4(Executor.scala:907)\n\tat scala.runtime.java8.JFunction0$mcV$sp.apply(JFunction0$mcV$sp.java:23)\n\tat com.databricks.spark.util.ExecutorFrameProfiler$.record(ExecutorFrameProfiler.scala:110)\n\tat org.apache.spark.executor.Executor$TaskRunner.run(Executor.scala:761)\n\tat java.util.concurrent.ThreadPoolExecutor.runWorker(ThreadPoolExecutor.java:1149)\n\tat java.util.concurrent.ThreadPoolExecutor$Worker.run(ThreadPoolExecutor.java:624)\n\t... 1 more\n",
       "errorSummary": "org.apache.spark.SparkException: Job aborted due to stage failure: Task 0 in stage 28.0 failed 1 times, most recent failure: Lost task 0.0 in stage 28.0 (TID 146) (ip-10-172-216-133.us-west-2.compute.internal executor driver): org.apache.spark.api.python.PythonException: 'TypeError: cannot unpack non-iterable int object'. Full traceback below:",
       "errorTraceType": "ansi",
       "metadata": {},
       "type": "ipynbError"
      }
     },
     "output_type": "display_data"
    }
   ],
   "source": [
    "#rdd_repartitioned.count()"
   ]
  },
  {
   "cell_type": "markdown",
   "metadata": {
    "application/vnd.databricks.v1+cell": {
     "cellMetadata": {},
     "inputWidgets": {},
     "nuid": "f6f601fd-12ef-4d4b-9858-fb01eb8d78d8",
     "showTitle": false,
     "title": ""
    }
   },
   "source": [
    "### Map - Permet de générer un nouvel élément pour chaque élément du rdd\n",
    "* Ajouter 1000 à chaque nombre du rdd\n",
    "  * Si le nombre est pair alors le remplacer par 'toto'\n",
    "\n",
    "`map(), lambda expression`"
   ]
  },
  {
   "cell_type": "code",
   "execution_count": 0,
   "metadata": {
    "application/vnd.databricks.v1+cell": {
     "cellMetadata": {
      "byteLimit": 2048000,
      "rowLimit": 10000
     },
     "inputWidgets": {},
     "nuid": "6f343869-eaf0-42d2-b442-97a7b2151e4b",
     "showTitle": false,
     "title": ""
    }
   },
   "outputs": [
    {
     "output_type": "stream",
     "name": "stdout",
     "output_type": "stream",
     "text": [
      "Out[59]: [1001, 'toto', 1003, 'toto', 1005, 'toto', 1007, 'toto', 1009, 'toto']"
     ]
    }
   ],
   "source": [
    "rdd.map(lambda x: x + 1000).map(lambda x: 'toto' if x%2==0 else x).take(10)"
   ]
  },
  {
   "cell_type": "code",
   "execution_count": 0,
   "metadata": {
    "application/vnd.databricks.v1+cell": {
     "cellMetadata": {
      "byteLimit": 2048000,
      "rowLimit": 10000
     },
     "inputWidgets": {},
     "nuid": "74184018-587b-4fbb-97d4-63f3e08843fd",
     "showTitle": false,
     "title": ""
    }
   },
   "outputs": [
    {
     "output_type": "stream",
     "name": "stdout",
     "output_type": "stream",
     "text": [
      "Out[60]: [1001, 'toto', 1003, 'toto', 1005]"
     ]
    }
   ],
   "source": [
    "rdd.map(lambda x: 'toto' if x%2==0 else x +1000).take(5)"
   ]
  },
  {
   "cell_type": "markdown",
   "metadata": {
    "application/vnd.databricks.v1+cell": {
     "cellMetadata": {},
     "inputWidgets": {},
     "nuid": "201e16dd-9f0d-4ccb-bdf4-6731c7a4ac46",
     "showTitle": false,
     "title": ""
    }
   },
   "source": [
    "### Reduce\n",
    "* Faire la somme de tous les nombres pairs du RDD\n",
    " * en utilisant une lambda expression\n",
    " * en utilisant une fonction\n",
    " \n",
    "`reduce(), lambda expression`"
   ]
  },
  {
   "cell_type": "code",
   "execution_count": 0,
   "metadata": {
    "application/vnd.databricks.v1+cell": {
     "cellMetadata": {
      "byteLimit": 2048000,
      "rowLimit": 10000
     },
     "inputWidgets": {},
     "nuid": "3bcc333f-0119-49d8-9153-ed68a9b7ac57",
     "showTitle": false,
     "title": ""
    }
   },
   "outputs": [
    {
     "output_type": "stream",
     "name": "stdout",
     "output_type": "stream",
     "text": [
      "Out[65]: 25005000"
     ]
    }
   ],
   "source": [
    "rdd.filter(lambda x: x%2==0).reduce(lambda x, y: x+y)"
   ]
  },
  {
   "cell_type": "code",
   "execution_count": 0,
   "metadata": {
    "application/vnd.databricks.v1+cell": {
     "cellMetadata": {
      "byteLimit": 2048000,
      "rowLimit": 10000
     },
     "inputWidgets": {},
     "nuid": "605d9478-ff08-43af-b1a6-748ebf0b5675",
     "showTitle": false,
     "title": ""
    }
   },
   "outputs": [],
   "source": [
    "def myfunc(x,y):\n",
    "  return x+y"
   ]
  },
  {
   "cell_type": "code",
   "execution_count": 0,
   "metadata": {
    "application/vnd.databricks.v1+cell": {
     "cellMetadata": {
      "byteLimit": 2048000,
      "rowLimit": 10000
     },
     "inputWidgets": {},
     "nuid": "9b598895-9732-43c7-87d7-592dfc1124cc",
     "showTitle": false,
     "title": ""
    }
   },
   "outputs": [
    {
     "output_type": "stream",
     "name": "stdout",
     "output_type": "stream",
     "text": [
      "Out[67]: 25005000"
     ]
    }
   ],
   "source": [
    "rdd.filter(lambda x: x%2==0).reduce(myfunc)"
   ]
  },
  {
   "cell_type": "markdown",
   "metadata": {
    "application/vnd.databricks.v1+cell": {
     "cellMetadata": {},
     "inputWidgets": {},
     "nuid": "49a50e00-4e7e-464f-93de-dcf5cacc0e27",
     "showTitle": false,
     "title": ""
    }
   },
   "source": [
    "### Supprimer les doublons et filtres\n",
    "* Transformer `sentence` en une liste de mots distincts\n",
    "* Filtrer sentence pour conserver uniquement les mots de 4 ou + caractères\n",
    "\n",
    "`lambda expression, flatMap(), distinct(), filter()`"
   ]
  },
  {
   "cell_type": "code",
   "execution_count": 0,
   "metadata": {
    "application/vnd.databricks.v1+cell": {
     "cellMetadata": {
      "byteLimit": 2048000,
      "rowLimit": 10000
     },
     "inputWidgets": {},
     "nuid": "bec12912-cff1-4f33-b673-915590e5fcd8",
     "showTitle": false,
     "title": ""
    }
   },
   "outputs": [],
   "source": [
    "sentence = [\"Mise en place des traitements Big Data avec Apache Spark\", \"Apache Spark vs Hadoop\", \"Le Big Data peut être défini par les 4V\"]\n",
    "rdd_sentence = sc.parallelize(sentence)\n"
   ]
  },
  {
   "cell_type": "code",
   "execution_count": 0,
   "metadata": {
    "application/vnd.databricks.v1+cell": {
     "cellMetadata": {
      "byteLimit": 2048000,
      "rowLimit": 10000
     },
     "inputWidgets": {},
     "nuid": "7a80e1b2-841a-4796-8f3c-c138f4dbcc19",
     "showTitle": false,
     "title": ""
    }
   },
   "outputs": [
    {
     "output_type": "stream",
     "name": "stdout",
     "output_type": "stream",
     "text": [
      "\u001B[0;31mSignature:\u001B[0m \u001B[0;32mdef\u001B[0m \u001B[0mflatMap\u001B[0m\u001B[0;34m(\u001B[0m\u001B[0mf\u001B[0m\u001B[0;34m:\u001B[0m \u001B[0mCallable\u001B[0m\u001B[0;34m[\u001B[0m\u001B[0;34m[\u001B[0m\u001B[0mT\u001B[0m\u001B[0;34m]\u001B[0m\u001B[0;34m,\u001B[0m \u001B[0mIterable\u001B[0m\u001B[0;34m[\u001B[0m\u001B[0mU\u001B[0m\u001B[0;34m]\u001B[0m\u001B[0;34m]\u001B[0m\u001B[0;34m,\u001B[0m \u001B[0mpreservesPartitioning\u001B[0m\u001B[0;34m:\u001B[0m \u001B[0mbool\u001B[0m\u001B[0;34m=\u001B[0m\u001B[0;32mFalse\u001B[0m\u001B[0;34m)\u001B[0m \u001B[0;34m->\u001B[0m \u001B[0;34m'RDD[U]'\u001B[0m\u001B[0;34m\u001B[0m\u001B[0;34m\u001B[0m\u001B[0m\n\u001B[0;31mDocstring:\u001B[0m\nReturn a new RDD by first applying a function to all elements of this\nRDD, and then flattening the results.\n\n.. versionadded:: 0.7.0\n\nParameters\n----------\nf : function\n    a function to turn a T into a sequence of U\npreservesPartitioning : bool, optional, default False\n    indicates whether the input function preserves the partitioner,\n    which should be False unless this is a pair RDD and the input\n\nReturns\n-------\n:class:`RDD`\n    a new :class:`RDD` by applying a function to all elements\n\nSee Also\n--------\n:meth:`RDD.map`\n:meth:`RDD.mapPartitions`\n:meth:`RDD.mapPartitionsWithIndex`\n:meth:`RDD.mapPartitionsWithSplit`\n\nExamples\n--------\n>>> rdd = sc.parallelize([2, 3, 4])\n>>> sorted(rdd.flatMap(lambda x: range(1, x)).collect())\n[1, 1, 1, 2, 2, 3]\n>>> sorted(rdd.flatMap(lambda x: [(x, x), (x, x)]).collect())\n[(2, 2), (2, 2), (3, 3), (3, 3), (4, 4), (4, 4)]\n\u001B[0;31mFile:\u001B[0m      /databricks/spark/python/pyspark/rdd.py\n\u001B[0;31mLine:\u001B[0m      748\n\u001B[0;31mType:\u001B[0m      method\n"
     ]
    }
   ],
   "source": [
    "?rdd.flatMap"
   ]
  },
  {
   "cell_type": "code",
   "execution_count": 0,
   "metadata": {
    "application/vnd.databricks.v1+cell": {
     "cellMetadata": {
      "byteLimit": 2048000,
      "rowLimit": 10000
     },
     "inputWidgets": {},
     "nuid": "598e65eb-0c3d-4575-a848-2444948506b5",
     "showTitle": false,
     "title": ""
    }
   },
   "outputs": [],
   "source": [
    "rdd_words = rdd_sentence.flatMap(lambda x: x.split()).distinct().filter(lambda x: len(x)>=4)"
   ]
  },
  {
   "cell_type": "code",
   "execution_count": 0,
   "metadata": {
    "application/vnd.databricks.v1+cell": {
     "cellMetadata": {
      "byteLimit": 2048000,
      "rowLimit": 10000
     },
     "inputWidgets": {},
     "nuid": "e8f0a3fc-7dbc-482a-9672-e9a97e5598e5",
     "showTitle": false,
     "title": ""
    }
   },
   "outputs": [
    {
     "output_type": "stream",
     "name": "stdout",
     "output_type": "stream",
     "text": [
      "Out[87]: ['Mise',\n 'Hadoop',\n 'être',\n 'Spark',\n 'peut',\n 'défini',\n 'Data',\n 'avec',\n 'Apache',\n 'traitements',\n 'place']"
     ]
    }
   ],
   "source": [
    "rdd_words.collect()"
   ]
  },
  {
   "cell_type": "code",
   "execution_count": 0,
   "metadata": {
    "application/vnd.databricks.v1+cell": {
     "cellMetadata": {},
     "inputWidgets": {},
     "nuid": "732077a4-d1e2-4729-a48b-17a640aab65e",
     "showTitle": false,
     "title": ""
    }
   },
   "outputs": [],
   "source": [
    "rdd_sentence_distinct = <TODO>\n",
    "print(rdd_sentence_distinct.collect())\n",
    "#Result : ['Mise', 'vs', 'Hadoop', 'être', 'des', 'Spark', 'Le', 'peut', 'défini', 'les', '4V', 'Data', 'par', 'avec', 'Apache', 'en', 'traitements', 'place', 'Big']"
   ]
  },
  {
   "cell_type": "code",
   "execution_count": 0,
   "metadata": {
    "application/vnd.databricks.v1+cell": {
     "cellMetadata": {},
     "inputWidgets": {},
     "nuid": "48bf050e-b504-446f-9769-e92e629a2edd",
     "showTitle": false,
     "title": ""
    }
   },
   "outputs": [],
   "source": [
    "def filter_word_len(word):\n",
    "  \n",
    "\n",
    "# Filtrer rdd_sentence_distinct\n",
    "<TODO>"
   ]
  },
  {
   "cell_type": "markdown",
   "metadata": {
    "application/vnd.databricks.v1+cell": {
     "cellMetadata": {},
     "inputWidgets": {},
     "nuid": "adeeaccf-9c5e-46e9-9ad2-c94870e609e6",
     "showTitle": false,
     "title": ""
    }
   },
   "source": [
    "### Chainage de transformation\n",
    " * En chainant les transformations :\n",
    "   * Diviser les nombres par 2\n",
    "   * Filtrer pour conserver les nombres impairs \n",
    "   * Calculer la somme"
   ]
  },
  {
   "cell_type": "code",
   "execution_count": 0,
   "metadata": {
    "application/vnd.databricks.v1+cell": {
     "cellMetadata": {},
     "inputWidgets": {},
     "nuid": "850b7c63-15e3-42e6-91ae-4475f66ccc6d",
     "showTitle": false,
     "title": ""
    }
   },
   "outputs": [],
   "source": [
    "<TODO>"
   ]
  },
  {
   "cell_type": "markdown",
   "metadata": {
    "application/vnd.databricks.v1+cell": {
     "cellMetadata": {},
     "inputWidgets": {},
     "nuid": "0cf060a2-5eeb-42c5-a636-351c9e88d7b5",
     "showTitle": false,
     "title": ""
    }
   },
   "source": [
    "** Lisibilité et code style **\n",
    "* Il est possible d'écrire le code sous cette forme là\n",
    "```\n",
    " sc.parallelize(data).map(XXXX).filter(YYYY).reduce(ZZZZ)\n",
    " \n",
    " ```\n",
    " OU\n",
    "\n",
    "```\n",
    "(sc\n",
    " .parallelize(data)\n",
    " .map(lambda y: y - 1)\n",
    " .filter(lambda x: x < 10)\n",
    " .collect())```"
   ]
  },
  {
   "cell_type": "markdown",
   "metadata": {
    "application/vnd.databricks.v1+cell": {
     "cellMetadata": {},
     "inputWidgets": {},
     "nuid": "e53bf95b-ae34-48b0-a766-ec1471c76b39",
     "showTitle": false,
     "title": ""
    }
   },
   "source": [
    "### Opérations sur les ensembles\n",
    "* Calculer les valeurs distinctes de rdd_1\n",
    "* Calculer l'union de rdd_1 et rdd_2\n",
    "* Calculer l'intersection de rdd_1 et rdd_2\n",
    "* Calculer la soustraction de rdd_1 et rdd_2 (càd les éléments qui sont dans rdd_1 mais pas dans rdd_2)\n",
    "* Que fait rdd_1 + rdd_2 ?\n",
    "\n",
    "`distinct, union, intersection, subtract`"
   ]
  },
  {
   "cell_type": "code",
   "execution_count": 0,
   "metadata": {
    "application/vnd.databricks.v1+cell": {
     "cellMetadata": {
      "byteLimit": 2048000,
      "rowLimit": 10000
     },
     "inputWidgets": {},
     "nuid": "baa4165a-ac1b-418b-9660-19587186abb5",
     "showTitle": false,
     "title": ""
    }
   },
   "outputs": [],
   "source": [
    "# Charger le texte dans un RDD\n",
    "rdd_1 = sc.parallelize([\"spark\",\"spark\",\"python\",\"sql\",\"rdd\"])\n",
    "rdd_2 = sc.parallelize([\"spark\",\"sql\",\"pandas\"])"
   ]
  },
  {
   "cell_type": "code",
   "execution_count": 0,
   "metadata": {
    "application/vnd.databricks.v1+cell": {
     "cellMetadata": {
      "byteLimit": 2048000,
      "rowLimit": 10000
     },
     "inputWidgets": {},
     "nuid": "2521b2f5-e279-42f0-874a-9ec7e15d7340",
     "showTitle": false,
     "title": ""
    }
   },
   "outputs": [
    {
     "output_type": "stream",
     "name": "stdout",
     "output_type": "stream",
     "text": [
      "Out[90]: UnionRDD[92] at union at NativeMethodAccessorImpl.java:0"
     ]
    }
   ],
   "source": [
    "rdd_1.union(rdd_2)"
   ]
  },
  {
   "cell_type": "markdown",
   "metadata": {
    "application/vnd.databricks.v1+cell": {
     "cellMetadata": {},
     "inputWidgets": {},
     "nuid": "811a715b-a94e-4e78-86d2-8fdef4f413aa",
     "showTitle": false,
     "title": ""
    }
   },
   "source": [
    "### Calculs de stats\n",
    "`stats(), mean(),sum()`"
   ]
  },
  {
   "cell_type": "code",
   "execution_count": 0,
   "metadata": {
    "application/vnd.databricks.v1+cell": {
     "cellMetadata": {
      "byteLimit": 2048000,
      "rowLimit": 10000
     },
     "inputWidgets": {},
     "nuid": "da52eda5-4d3e-4398-9b9c-a0a1f66f69e6",
     "showTitle": false,
     "title": ""
    }
   },
   "outputs": [
    {
     "output_type": "stream",
     "name": "stdout",
     "output_type": "stream",
     "text": [
      "Out[92]: 5000.5"
     ]
    }
   ],
   "source": [
    "rdd.mean()"
   ]
  },
  {
   "cell_type": "markdown",
   "metadata": {
    "application/vnd.databricks.v1+cell": {
     "cellMetadata": {},
     "inputWidgets": {},
     "nuid": "fa5f5683-b3f3-44b3-ae5b-07b8e8967a8a",
     "showTitle": false,
     "title": ""
    }
   },
   "source": [
    "#### ** Des RDD un peu plus avancés : PairRDD **"
   ]
  },
  {
   "cell_type": "markdown",
   "metadata": {
    "application/vnd.databricks.v1+cell": {
     "cellMetadata": {},
     "inputWidgets": {},
     "nuid": "0d600774-c789-4853-ad04-760c7881dd26",
     "showTitle": false,
     "title": ""
    }
   },
   "source": [
    "** `groupByKey` and `reduceByKey` **\n",
    " \n",
    "Let's investigate the additional transformations: [groupByKey()](http://spark.apache.org/docs/latest/api/python/pyspark.html#pyspark.RDD.groupByKey) and [reduceByKey()](http://spark.apache.org/docs/latest/api/python/pyspark.html#pyspark.RDD.reduceByKey).\n",
    " \n",
    "Both of these transformations operate on pair RDDs.  A pair RDD is an RDD where each element is a pair tuple (key, value).  For example, `sc.parallelize([('a', 1), ('a', 2), ('b', 1)])` would create a pair RDD where the keys are 'a', 'a', 'b' and the values are 1, 2, 1.\n",
    "The `reduceByKey()` transformation gathers together pairs that have the same key and applies a function to two associated values at a time. `reduceByKey()` operates by applying the function first within each partition on a per-key basis and then across the partitions.\n",
    "While both the `groupByKey()` and `reduceByKey()` transformations can often be used to solve the same problem and will produce the same answer, the `reduceByKey()` transformation works much better for large distributed datasets. This is because Spark knows it can combine output with a common key on each partition *before* shuffling (redistributing) the data across nodes.  Only use `groupByKey()` if the operation would not benefit from reducing the data before the shuffle occurs.\n",
    " \n",
    "Look at the diagram below to understand how `reduceByKey` works.  Notice how pairs on the same machine with the same key are combined (by using the lamdba function passed into reduceByKey) before the data is shuffled. Then the lamdba function is called again to reduce all the values from each partition to produce one final result.\n",
    " \n",
    "![reduceByKey() figure](http://spark-mooc.github.io/web-assets/images/reduce_by.png)\n",
    " \n",
    "On the other hand, when using the `groupByKey()` transformation - all the key-value pairs are shuffled around, causing a lot of unnecessary data to being transferred over the network.\n",
    " \n",
    "To determine which machine to shuffle a pair to, Spark calls a partitioning function on the key of the pair. Spark spills data to disk when there is more data shuffled onto a single executor machine than can fit in memory. However, it flushes out the data to disk one key at a time, so if a single key has more key-value pairs than can fit in memory an out of memory exception occurs. This will be more gracefully handled in a later release of Spark so that the job can still proceed, but should still be avoided.  When Spark needs to spill to disk, performance is severely impacted.\n",
    " \n",
    "![groupByKey() figure](http://spark-mooc.github.io/web-assets/images/group_by.png)\n",
    " \n",
    "As your dataset grows, the difference in the amount of data that needs to be shuffled, between the `reduceByKey()` and `groupByKey()` transformations, becomes increasingly exaggerated.\n",
    " \n",
    "Here are more transformations to prefer over `groupByKey()`:\n",
    "  * [combineByKey()](http://spark.apache.org/docs/latest/api/python/pyspark.html#pyspark.RDD.combineByKey) can be used when you are combining elements but your return type differs from your input value type.\n",
    "  * [foldByKey()](http://spark.apache.org/docs/latest/api/python/pyspark.html#pyspark.RDD.foldByKey) merges the values for each key using an associative function and a neutral \"zero value\".\n",
    " \n",
    "Now let's go through a simple `groupByKey()` and `reduceByKey()` example."
   ]
  },
  {
   "cell_type": "code",
   "execution_count": 0,
   "metadata": {
    "application/vnd.databricks.v1+cell": {
     "cellMetadata": {},
     "inputWidgets": {},
     "nuid": "757cac9b-7d04-48b8-9ae3-99cca8a7a451",
     "showTitle": false,
     "title": ""
    }
   },
   "outputs": [],
   "source": [
    "pairRDD = sc.parallelize([('a', 1), ('a', 2), ('a', 3), ('b', 1)])"
   ]
  },
  {
   "cell_type": "markdown",
   "metadata": {
    "application/vnd.databricks.v1+cell": {
     "cellMetadata": {},
     "inputWidgets": {},
     "nuid": "cf609cea-ebaa-4fc5-916c-95d1df33ac8e",
     "showTitle": false,
     "title": ""
    }
   },
   "source": [
    "### Aggrégation (key, list)"
   ]
  },
  {
   "cell_type": "code",
   "execution_count": 0,
   "metadata": {
    "application/vnd.databricks.v1+cell": {
     "cellMetadata": {},
     "inputWidgets": {},
     "nuid": "3e38974b-0495-4b2e-99c7-f08f905dd695",
     "showTitle": false,
     "title": ""
    }
   },
   "outputs": [],
   "source": [
    "pairRDD.groupByKey().map(lambda x : (x[0], list(x[1]))).collect()"
   ]
  },
  {
   "cell_type": "code",
   "execution_count": 0,
   "metadata": {
    "application/vnd.databricks.v1+cell": {
     "cellMetadata": {},
     "inputWidgets": {},
     "nuid": "2130d6fd-6abc-40a6-8813-2f68e5e76d97",
     "showTitle": false,
     "title": ""
    }
   },
   "outputs": [],
   "source": [
    "pairRDD.groupByKey().mapValues(lambda x: list(x)).collect()"
   ]
  },
  {
   "cell_type": "markdown",
   "metadata": {
    "application/vnd.databricks.v1+cell": {
     "cellMetadata": {},
     "inputWidgets": {},
     "nuid": "b461c51f-c6fb-4f33-9370-a8bdb44a10ae",
     "showTitle": false,
     "title": ""
    }
   },
   "source": [
    "### Réduire le résultat par une somme (key, value)"
   ]
  },
  {
   "cell_type": "code",
   "execution_count": 0,
   "metadata": {
    "application/vnd.databricks.v1+cell": {
     "cellMetadata": {},
     "inputWidgets": {},
     "nuid": "b277cd81-bedc-4941-8ff9-56ce3f622a2f",
     "showTitle": false,
     "title": ""
    }
   },
   "outputs": [],
   "source": [
    "pairRDD.reduceByKey(lambda x,y : x+y).collect()"
   ]
  },
  {
   "cell_type": "code",
   "execution_count": 0,
   "metadata": {
    "application/vnd.databricks.v1+cell": {
     "cellMetadata": {},
     "inputWidgets": {},
     "nuid": "2aabebe6-6ffa-4863-9481-71e3b9c18f80",
     "showTitle": false,
     "title": ""
    }
   },
   "outputs": [],
   "source": [
    "pairRDD.groupByKey().map(lambda x: (x[0], sum(x[1]))).collect()"
   ]
  },
  {
   "cell_type": "markdown",
   "metadata": {
    "application/vnd.databricks.v1+cell": {
     "cellMetadata": {},
     "inputWidgets": {},
     "nuid": "4a97941d-cc62-4079-b639-0e769382e635",
     "showTitle": false,
     "title": ""
    }
   },
   "source": [
    "#### ** Caching RDDs **"
   ]
  },
  {
   "cell_type": "markdown",
   "metadata": {
    "application/vnd.databricks.v1+cell": {
     "cellMetadata": {},
     "inputWidgets": {},
     "nuid": "115296d9-e0d5-489e-9557-4bd8e27ade25",
     "showTitle": false,
     "title": ""
    }
   },
   "source": [
    "For efficiency Spark keeps your RDDs in memory. By keeping the contents in memory, Spark can quickly access the data. However, memory is limited, so if you try to keep too many RDDs in memory, Spark will automatically delete RDDs from memory to make space for new RDDs. If you later refer to one of the RDDs, Spark will automatically recreate the RDD for you, but that takes time.\n",
    " \n",
    "So, if you plan to use an RDD more than once, then you should tell Spark to cache that RDD. You can use the `cache()` operation to keep the RDD in memory. However, you must still trigger an action on the RDD, such as `collect()` for the RDD to be created, and only then will the RDD be cached. Keep in mind that if you cache too many RDDs and Spark runs out of memory, it will delete the least recently used (LRU) RDD first. Again, the RDD will be automatically recreated when accessed.\n",
    " \n",
    "You can check if an RDD is cached by using the `is_cached` attribute, and you can see your cached RDD in the \"Storage\" section of the Spark web UI. If you click on the RDD's name, you can see more information about where the RDD is stored."
   ]
  },
  {
   "cell_type": "code",
   "execution_count": 0,
   "metadata": {
    "application/vnd.databricks.v1+cell": {
     "cellMetadata": {},
     "inputWidgets": {},
     "nuid": "8bd3311f-383a-4c7a-9193-b988e5ccbd6f",
     "showTitle": false,
     "title": ""
    }
   },
   "outputs": [],
   "source": [
    "# Name the RDD\n",
    "sample_rdd.setName('My Filtered RDD')\n",
    "# Cache the RDD\n",
    "sample_rdd.cache()\n",
    "# Trigger an action\n",
    "sample_rdd.collect()\n",
    "# Is it cached\n",
    "print(sample_rdd.is_cached)"
   ]
  },
  {
   "cell_type": "markdown",
   "metadata": {
    "application/vnd.databricks.v1+cell": {
     "cellMetadata": {},
     "inputWidgets": {},
     "nuid": "977b8593-1230-4191-8e0a-80dc0c38750b",
     "showTitle": false,
     "title": ""
    }
   },
   "source": [
    "** Unpersist and storage options **\n",
    " \n",
    "Spark automatically manages the RDDs cached in memory and will save them to disk if it runs out of memory. For efficiency, once you are finished using an RDD, you can optionally tell Spark to stop caching it in memory by using the RDD's `unpersist()` method to inform Spark that you no longer need the RDD in memory.\n",
    " \n",
    "You can see the set of transformations that were applied to create an RDD by using the `toDebugString()` method, which will provide storage information, and you can directly query the current storage information for an RDD using the `getStorageLevel()` operation.\n",
    " \n",
    "** Advanced: ** Spark provides many more options for managing how RDDs are stored in memory or even saved to disk. You can explore the API for RDD's [persist()](http://spark.apache.org/docs/latest/api/python/pyspark.html#pyspark.RDD.persist) operation using Python's [help()](https://docs.python.org/2/library/functions.html?highlight=help#help) command.  The `persist()` operation, optionally, takes a pySpark [StorageLevel](http://spark.apache.org/docs/latest/api/python/pyspark.html#pyspark.StorageLevel) object."
   ]
  },
  {
   "cell_type": "code",
   "execution_count": 0,
   "metadata": {
    "application/vnd.databricks.v1+cell": {
     "cellMetadata": {},
     "inputWidgets": {},
     "nuid": "daf56698-e89a-4823-941b-89e0c5450024",
     "showTitle": false,
     "title": ""
    }
   },
   "outputs": [],
   "source": [
    "# If we are done with the RDD we can unpersist it so that its memory can be reclaimed\n",
    "sample_rdd.unpersist()\n",
    "# Storage level for a non cached RDD\n",
    "print(sample_rdd.getStorageLevel())\n",
    "sample_rdd.cache()\n",
    "# Storage level for a cached RDD\n",
    "print(sample_rdd.getStorageLevel())"
   ]
  },
  {
   "cell_type": "code",
   "execution_count": 0,
   "metadata": {
    "application/vnd.databricks.v1+cell": {
     "cellMetadata": {},
     "inputWidgets": {},
     "nuid": "81fe66e1-375f-499a-9a97-237bdcc8d6db",
     "showTitle": false,
     "title": ""
    }
   },
   "outputs": [],
   "source": [
    "# Super, tu peux maintenant passer au TP 2 !"
   ]
  }
 ],
 "metadata": {
  "application/vnd.databricks.v1+notebook": {
   "dashboards": [],
   "language": "python",
   "notebookMetadata": {
    "pythonIndentUnit": 2
   },
   "notebookName": "SPARK_TP1_RDD_Prise_en_main",
   "widgets": {}
  },
  "kernelspec": {
   "display_name": "Python 3 (ipykernel)",
   "language": "python",
   "name": "python3"
  },
  "language_info": {
   "codemirror_mode": {
    "name": "ipython",
    "version": 3
   },
   "file_extension": ".py",
   "mimetype": "text/x-python",
   "name": "python",
   "nbconvert_exporter": "python",
   "pygments_lexer": "ipython3",
   "version": "3.10.10"
  },
  "toc": {
   "base_numbering": 1,
   "nav_menu": {},
   "number_sections": true,
   "sideBar": true,
   "skip_h1_title": false,
   "title_cell": "Table of Contents",
   "title_sidebar": "Contents",
   "toc_cell": false,
   "toc_position": {},
   "toc_section_display": true,
   "toc_window_display": false
  }
 },
 "nbformat": 4,
 "nbformat_minor": 0
}
