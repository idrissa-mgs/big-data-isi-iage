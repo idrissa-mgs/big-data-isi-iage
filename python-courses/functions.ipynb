{
 "cells": [
  {
   "cell_type": "markdown",
   "id": "41a7f56b",
   "metadata": {},
   "source": [
    "### Définition\n",
    "Une fonction représente un bloc de code réutilisable qui effectue une tâche spécifique lorsqu'il est appelé avec des arguments appropriés. \n",
    "Une fonction peut être considérée comme une boîte noire qui prend des entrées, effectue des opérations sur ces entrées et renvoie des résultats en sortie.\n",
    "\n",
    "\n",
    "\n"
   ]
  },
  {
   "cell_type": "markdown",
   "id": "fe007146",
   "metadata": {},
   "source": [
    "### Syntaxe\n"
   ]
  },
  {
   "cell_type": "code",
   "execution_count": 3,
   "id": "66b4692a",
   "metadata": {},
   "outputs": [],
   "source": [
    "def nom_de_fonction(parametre_1, parametre_2):\n",
    "    # Bloc de code exécuté lorsque la fonction est appelée\n",
    "    # Effectuer des opérations sur les paramètres\n",
    "    # Effectuer d'autres calculs ou traitements\n",
    "    # Renvoyer les résultats\n",
    "    # return valeur si on doit en retourner\n",
    "    \n",
    "    \n",
    "    \n"
   ]
  },
  {
   "cell_type": "code",
   "execution_count": null,
   "id": "89afb9d1",
   "metadata": {},
   "outputs": [],
   "source": [
    "# Appel de la fonction\n",
    "nom_de_fonction(parametre_2=par2,  parametre_1=par1)"
   ]
  },
  {
   "cell_type": "markdown",
   "id": "968a8d2d",
   "metadata": {},
   "source": [
    "### Type de fonctions\n",
    "En Python, il existe de nombreuses fonctions intégrées ainsi que des fonctions disponibles dans des modules externes (fonctions utilisateurs). Voici quelques exemples de fonctions couramment utilisées en Python :"
   ]
  },
  {
   "cell_type": "code",
   "execution_count": null,
   "id": "b1f02cde",
   "metadata": {},
   "outputs": [],
   "source": []
  },
  {
   "cell_type": "markdown",
   "id": "d14afb0c",
   "metadata": {},
   "source": [
    "### Exemple de Fonctions intégrées :\n",
    "\n",
    "    print(): Affiche des messages ou des valeurs à la console.\n",
    "    len(): Renvoie la longueur d'un objet (par exemple, la longueur d'une liste).\n",
    "    type(): Renvoie le type d'un objet.\n",
    "    range(): Génère une séquence de nombres.\n",
    "    sum(): Calcule la somme des éléments d'une séquence numérique.\n",
    "    str(): Convertit un objet en une chaîne de caractères.\n",
    "    int(), float(), bool(): Convertit un objet en un entier, un nombre à virgule \n",
    "    \n",
    "On peut donc distinguer les fonctions par types d'objets: des fonctions appliquées aux chaines de caratères, celles appliquées aux arrays et listes etc"
   ]
  },
  {
   "cell_type": "code",
   "execution_count": 13,
   "id": "d9abd790",
   "metadata": {},
   "outputs": [
    {
     "data": {
      "text/plain": [
       "5.0"
      ]
     },
     "execution_count": 13,
     "metadata": {},
     "output_type": "execute_result"
    }
   ],
   "source": [
    "\n",
    "float(\"5\")"
   ]
  },
  {
   "cell_type": "markdown",
   "id": "994201dd",
   "metadata": {},
   "source": [
    "### Exemple de fonctions utilisateurs"
   ]
  },
  {
   "cell_type": "code",
   "execution_count": 14,
   "id": "1411bf5e",
   "metadata": {},
   "outputs": [],
   "source": [
    "def calculer_somme(liste: list)->int:\n",
    "    somme = 0\n",
    "    for element in liste:\n",
    "        somme += element\n",
    "    return somme"
   ]
  },
  {
   "cell_type": "code",
   "execution_count": 16,
   "id": "38facacc",
   "metadata": {},
   "outputs": [
    {
     "data": {
      "text/plain": [
       "22"
      ]
     },
     "execution_count": 16,
     "metadata": {},
     "output_type": "execute_result"
    }
   ],
   "source": [
    "# appel de la fonction\n",
    "calculer_somme(liste=[4,5,6,7] )"
   ]
  },
  {
   "cell_type": "code",
   "execution_count": 1,
   "id": "354e2666",
   "metadata": {},
   "outputs": [],
   "source": [
    "def est_pair(nombre: int)->bool:\n",
    "    if nombre % 2 == 0:\n",
    "        return True\n",
    "    else:\n",
    "        return False"
   ]
  },
  {
   "cell_type": "code",
   "execution_count": 20,
   "id": "65fa8a08",
   "metadata": {},
   "outputs": [
    {
     "data": {
      "text/plain": [
       "False"
      ]
     },
     "execution_count": 20,
     "metadata": {},
     "output_type": "execute_result"
    }
   ],
   "source": [
    "est_pair(nombre=5)"
   ]
  },
  {
   "cell_type": "code",
   "execution_count": 7,
   "id": "192c3cf6",
   "metadata": {},
   "outputs": [],
   "source": [
    "# le nombre de caractère contenue dans une chaine de caratères\n",
    "def compter_caracteres(chaine):\n",
    "    return len(chaine)"
   ]
  },
  {
   "cell_type": "code",
   "execution_count": 21,
   "id": "6726cc86",
   "metadata": {},
   "outputs": [
    {
     "data": {
      "text/plain": [
       "6"
      ]
     },
     "execution_count": 21,
     "metadata": {},
     "output_type": "execute_result"
    }
   ],
   "source": [
    "compter_caracteres(\"frfdse\")"
   ]
  },
  {
   "cell_type": "markdown",
   "id": "773ee22b",
   "metadata": {},
   "source": [
    "### Exercice\n",
    "Calcul de l'aire d'un rectangle:\n",
    "Écrivez une fonction qui prend la longueur et la largeur d'un rectangle en entrée et renvoie l'aire du rectangle."
   ]
  },
  {
   "cell_type": "code",
   "execution_count": null,
   "id": "066c5bbb",
   "metadata": {},
   "outputs": [],
   "source": [
    "# TO DO: \n"
   ]
  },
  {
   "cell_type": "markdown",
   "id": "cf49cd20",
   "metadata": {},
   "source": [
    "### Exercice\n",
    "Vérification si un nombre divise 3:\n",
    "Créez une fonction qui prend un nombre en entrée et renvoie True si ce nombre divise 3"
   ]
  },
  {
   "cell_type": "code",
   "execution_count": null,
   "id": "1393195e",
   "metadata": {},
   "outputs": [],
   "source": [
    "# TO DO"
   ]
  },
  {
   "cell_type": "markdown",
   "id": "b54e4143",
   "metadata": {},
   "source": [
    "### Exercice\n",
    "Calcul de la somme des chiffres:\n",
    "Écrivez une fonction qui prend un nombre entier en entrée et renvoie la somme de tous ses chiffres."
   ]
  },
  {
   "cell_type": "code",
   "execution_count": null,
   "id": "efe7ac3d",
   "metadata": {},
   "outputs": [],
   "source": [
    "# TO DO\n",
    "\n"
   ]
  }
 ],
 "metadata": {
  "kernelspec": {
   "display_name": "Python 3 (ipykernel)",
   "language": "python",
   "name": "python3"
  },
  "language_info": {
   "codemirror_mode": {
    "name": "ipython",
    "version": 3
   },
   "file_extension": ".py",
   "mimetype": "text/x-python",
   "name": "python",
   "nbconvert_exporter": "python",
   "pygments_lexer": "ipython3",
   "version": "3.10.10"
  }
 },
 "nbformat": 4,
 "nbformat_minor": 5
}
