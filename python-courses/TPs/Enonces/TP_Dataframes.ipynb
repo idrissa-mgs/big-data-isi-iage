{
 "cells": [
  {
   "cell_type": "markdown",
   "id": "de82a930",
   "metadata": {},
   "source": [
    "TP sur les dataframes\n",
    "On va utiliser un dataset sur les salaires dans le domaine de l'IT"
   ]
  },
  {
   "cell_type": "code",
   "execution_count": 1,
   "id": "e08be28d",
   "metadata": {},
   "outputs": [],
   "source": [
    "import pandas as pd"
   ]
  },
  {
   "cell_type": "code",
   "execution_count": 37,
   "id": "20170c64",
   "metadata": {},
   "outputs": [],
   "source": [
    "# importer le dataset: chemin data/salaries.csv, sep=\";\"\n",
    "salaries_df = .."
   ]
  },
  {
   "cell_type": "code",
   "execution_count": 44,
   "id": "2b4d3a6c",
   "metadata": {},
   "outputs": [],
   "source": [
    "# afficher les premiers lignes du dataframe\n"
   ]
  },
  {
   "cell_type": "code",
   "execution_count": null,
   "id": "ec39f63e",
   "metadata": {},
   "outputs": [],
   "source": [
    "# Afficher les informations sur le dataframe"
   ]
  },
  {
   "cell_type": "code",
   "execution_count": 50,
   "id": "81eca993",
   "metadata": {},
   "outputs": [],
   "source": [
    "# Combien de valeurs nulles compte le df"
   ]
  },
  {
   "cell_type": "code",
   "execution_count": null,
   "id": "1436c98e",
   "metadata": {},
   "outputs": [],
   "source": [
    "# Est-ce que le dataframe comporte des dupplicates\n"
   ]
  },
  {
   "cell_type": "code",
   "execution_count": null,
   "id": "057edb44",
   "metadata": {},
   "outputs": [],
   "source": [
    "# Dans quels colonnes trouvent t-ont des valeurs nulles"
   ]
  },
  {
   "cell_type": "code",
   "execution_count": null,
   "id": "0d3f7a12",
   "metadata": {},
   "outputs": [],
   "source": [
    "# Trouver un moyen intelligent pour remplacer les valeurs null dans ces colonnes "
   ]
  },
  {
   "cell_type": "code",
   "execution_count": 48,
   "id": "187cf31c",
   "metadata": {},
   "outputs": [],
   "source": [
    "# Dans la colonne company_size, utiliser plûtot les termes small company, middle  company, large company \n",
    "# à la place de S,M L (remplacer)\n"
   ]
  },
  {
   "cell_type": "code",
   "execution_count": null,
   "id": "3813442c",
   "metadata": {},
   "outputs": [],
   "source": [
    "# creer un nouveau dataframe en filtrant que sur les employés ayant commencé en 2023"
   ]
  },
  {
   "cell_type": "code",
   "execution_count": 49,
   "id": "669562b7",
   "metadata": {},
   "outputs": [],
   "source": [
    "# creer un nouveau dataset en filtrant que sur les employés d'expérience Expert"
   ]
  },
  {
   "cell_type": "code",
   "execution_count": null,
   "id": "d897d17b",
   "metadata": {},
   "outputs": [],
   "source": []
  }
 ],
 "metadata": {
  "kernelspec": {
   "display_name": "Python 3 (ipykernel)",
   "language": "python",
   "name": "python3"
  },
  "language_info": {
   "codemirror_mode": {
    "name": "ipython",
    "version": 3
   },
   "file_extension": ".py",
   "mimetype": "text/x-python",
   "name": "python",
   "nbconvert_exporter": "python",
   "pygments_lexer": "ipython3",
   "version": "3.10.10"
  }
 },
 "nbformat": 4,
 "nbformat_minor": 5
}
