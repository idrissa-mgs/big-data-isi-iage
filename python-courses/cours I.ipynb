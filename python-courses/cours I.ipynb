{
 "cells": [
  {
   "cell_type": "markdown",
   "id": "4f1c5562",
   "metadata": {},
   "source": [
    "### Installation"
   ]
  },
  {
   "cell_type": "markdown",
   "id": "9c4db056",
   "metadata": {},
   "source": [
    "###### Terminal linux \n",
    "- Si sous windows git bash aller sur https://git-scm.com/download/win\n",
    "- Choisir celui adapté au système\n",
    "- Installer git bash"
   ]
  },
  {
   "cell_type": "markdown",
   "id": "91628638",
   "metadata": {},
   "source": [
    "###### Installation Python\n",
    "- Aller sur https://www.python.org/downloads/windows/\n",
    "- Choisir la version Python 3.10\n",
    "- Le modèle Windows installer (64-bit)"
   ]
  },
  {
   "cell_type": "markdown",
   "id": "2d010a25",
   "metadata": {},
   "source": [
    "Pour installer des libs sur python, il y a deux facons de faire\n",
    "- pip install lib-name\n",
    "- pip install -r requirements.txt (meilleure pratique)\n"
   ]
  },
  {
   "cell_type": "markdown",
   "id": "2978f925",
   "metadata": {},
   "source": [
    "### Introduction\n",
    "\n",
    "Python est un langage de programmation interprété de haut niveau, souvent utilisé pour des applications telles que l'analyse de données, la création de sites Web, l'automatisation de tâches ou encore la création de jeux vidéo. Il est apprécié pour sa syntaxe claire et concise, ainsi que pour sa grande bibliothèque standard.\n",
    "\n",
    "\n",
    "On peut programmer en python avec différents outils: en utilisant la ligne de commande, en utilisant de notebooks comme on le fait là ou avec des éditeurs de code type VS code"
   ]
  },
  {
   "cell_type": "markdown",
   "id": "8c95f83d",
   "metadata": {},
   "source": [
    "### Les objets pythons \n",
    "Les objets en pythons peuvent être vus comme des classes avec leurs différentes méthodes. On a entre autre structures de données comme les List, les dictionnaires, les tuples, les dataframes"
   ]
  },
  {
   "cell_type": "markdown",
   "id": "4a0efead",
   "metadata": {},
   "source": [
    "##### Les Lists - [ ] https://docs.python.org/3/tutorial/datastructures.html\n",
    "Une liste est une structure de données qui peut contenir un nombre quelconque d'éléments et est caractérisée par des [ ]. \n",
    "\n",
    "Exemple: ma_liste = [1, 2, 3, 4, 5]"
   ]
  },
  {
   "cell_type": "code",
   "execution_count": 1,
   "id": "14b67941",
   "metadata": {},
   "outputs": [],
   "source": [
    "ma_list: list = [\"science\", \"ml\", \"biology\", \"math\", 'literature', 'science', 344]"
   ]
  },
  {
   "cell_type": "code",
   "execution_count": 2,
   "id": "8e886ffe",
   "metadata": {},
   "outputs": [
    {
     "name": "stdout",
     "output_type": "stream",
     "text": [
      "['science', 'ml', 'biology', 'math', 'literature', 'science', 344]\n"
     ]
    }
   ],
   "source": [
    "print(ma_list)"
   ]
  },
  {
   "cell_type": "code",
   "execution_count": 3,
   "id": "7d15b7d9",
   "metadata": {},
   "outputs": [
    {
     "data": {
      "text/plain": [
       "0"
      ]
     },
     "execution_count": 3,
     "metadata": {},
     "output_type": "execute_result"
    }
   ],
   "source": [
    "ma_list."
   ]
  },
  {
   "cell_type": "code",
   "execution_count": 4,
   "id": "29423497",
   "metadata": {},
   "outputs": [],
   "source": [
    "ma_list.append(\"sociology\")"
   ]
  },
  {
   "cell_type": "code",
   "execution_count": 5,
   "id": "517fa159",
   "metadata": {},
   "outputs": [
    {
     "data": {
      "text/plain": [
       "['science', 'ml', 'biology', 'math', 'literature', 'science', 344, 'sociology']"
      ]
     },
     "execution_count": 5,
     "metadata": {},
     "output_type": "execute_result"
    }
   ],
   "source": [
    "ma_list"
   ]
  },
  {
   "cell_type": "code",
   "execution_count": 11,
   "id": "462f1dd4",
   "metadata": {},
   "outputs": [],
   "source": [
    "del ma_list[0]"
   ]
  },
  {
   "cell_type": "code",
   "execution_count": 12,
   "id": "9be92786",
   "metadata": {},
   "outputs": [],
   "source": [
    "ma_list.remove(344)"
   ]
  },
  {
   "cell_type": "code",
   "execution_count": 8,
   "id": "3f49f438",
   "metadata": {},
   "outputs": [
    {
     "data": {
      "text/plain": [
       "False"
      ]
     },
     "execution_count": 8,
     "metadata": {},
     "output_type": "execute_result"
    }
   ],
   "source": [
    "\"ml\" in ma_list"
   ]
  },
  {
   "cell_type": "code",
   "execution_count": 9,
   "id": "70a1eacf",
   "metadata": {},
   "outputs": [
    {
     "name": "stdout",
     "output_type": "stream",
     "text": [
      "science\n",
      "biology\n",
      "math\n",
      "literature\n",
      "science\n",
      "344\n",
      "sociology\n"
     ]
    }
   ],
   "source": [
    "#parcourir ma list\n",
    "for e in ma_list:\n",
    "    print(e)"
   ]
  },
  {
   "cell_type": "code",
   "execution_count": 10,
   "id": "5eb61ed6",
   "metadata": {},
   "outputs": [
    {
     "data": {
      "text/plain": [
       "2"
      ]
     },
     "execution_count": 10,
     "metadata": {},
     "output_type": "execute_result"
    }
   ],
   "source": [
    "#longueur de la list\n",
    "len(ma_list)\n",
    "#occurence element\n",
    "ma_list.count('science')"
   ]
  },
  {
   "cell_type": "code",
   "execution_count": 13,
   "id": "aee02da7",
   "metadata": {},
   "outputs": [
    {
     "data": {
      "text/plain": [
       "['math']"
      ]
     },
     "execution_count": 13,
     "metadata": {},
     "output_type": "execute_result"
    }
   ],
   "source": [
    "#list compression\n",
    "[x for x in ma_list if x.startswith('m')]"
   ]
  },
  {
   "cell_type": "code",
   "execution_count": 17,
   "id": "7b6213ae",
   "metadata": {},
   "outputs": [
    {
     "data": {
      "text/plain": [
       "'grez'"
      ]
     },
     "execution_count": 17,
     "metadata": {},
     "output_type": "execute_result"
    }
   ],
   "source": [
    "\"   grez  \".strip()"
   ]
  },
  {
   "cell_type": "code",
   "execution_count": 18,
   "id": "d6b8af0b",
   "metadata": {},
   "outputs": [],
   "source": [
    "ma_list.extend(['name', \"grade\"])"
   ]
  },
  {
   "cell_type": "code",
   "execution_count": 19,
   "id": "cfd3e08d",
   "metadata": {},
   "outputs": [
    {
     "data": {
      "text/plain": [
       "['science',\n",
       " 'biology',\n",
       " 'math',\n",
       " 'literature',\n",
       " 'science',\n",
       " 'sociology',\n",
       " 'name',\n",
       " 'grade']"
      ]
     },
     "execution_count": 19,
     "metadata": {},
     "output_type": "execute_result"
    }
   ],
   "source": [
    "ma_list"
   ]
  },
  {
   "cell_type": "code",
   "execution_count": 21,
   "id": "125ce8a5",
   "metadata": {},
   "outputs": [
    {
     "data": {
      "text/plain": [
       "['science',\n",
       " 'biology',\n",
       " 'math',\n",
       " 'literature',\n",
       " 'science',\n",
       " 'sociology',\n",
       " 'name',\n",
       " 'grade',\n",
       " 'hello']"
      ]
     },
     "execution_count": 21,
     "metadata": {},
     "output_type": "execute_result"
    }
   ],
   "source": [
    "ma_list + [\"hello\"]"
   ]
  },
  {
   "cell_type": "code",
   "execution_count": null,
   "id": "591869ae",
   "metadata": {},
   "outputs": [],
   "source": [
    "#len pour la taille de la liste"
   ]
  },
  {
   "cell_type": "code",
   "execution_count": 22,
   "id": "0f35b6ee",
   "metadata": {},
   "outputs": [
    {
     "data": {
      "text/plain": [
       "'literature'"
      ]
     },
     "execution_count": 22,
     "metadata": {},
     "output_type": "execute_result"
    }
   ],
   "source": [
    "# accès par index\n",
    "ma_list[3]\n"
   ]
  },
  {
   "cell_type": "code",
   "execution_count": 23,
   "id": "a59a877b",
   "metadata": {},
   "outputs": [],
   "source": [
    "# les lists sont pas immuables\n",
    "ma_list[0] = \"Data-Science\""
   ]
  },
  {
   "cell_type": "code",
   "execution_count": 24,
   "id": "38302575",
   "metadata": {},
   "outputs": [
    {
     "data": {
      "text/plain": [
       "['Data-Science',\n",
       " 'biology',\n",
       " 'math',\n",
       " 'literature',\n",
       " 'science',\n",
       " 'sociology',\n",
       " 'name',\n",
       " 'grade']"
      ]
     },
     "execution_count": 24,
     "metadata": {},
     "output_type": "execute_result"
    }
   ],
   "source": [
    "ma_list"
   ]
  },
  {
   "cell_type": "markdown",
   "id": "5e93b150",
   "metadata": {},
   "source": [
    "#### Chaines de caractères"
   ]
  },
  {
   "cell_type": "code",
   "execution_count": 38,
   "id": "d8e5d114",
   "metadata": {},
   "outputs": [],
   "source": [
    "#chaine = \"science   \"\n",
    "chaine = 'science   '"
   ]
  },
  {
   "cell_type": "code",
   "execution_count": null,
   "id": "a2a8cb19",
   "metadata": {},
   "outputs": [],
   "source": []
  },
  {
   "cell_type": "code",
   "execution_count": 32,
   "id": "60931ac3",
   "metadata": {},
   "outputs": [
    {
     "data": {
      "text/plain": [
       "'science   '"
      ]
     },
     "execution_count": 32,
     "metadata": {},
     "output_type": "execute_result"
    }
   ],
   "source": [
    "chaine_"
   ]
  },
  {
   "cell_type": "code",
   "execution_count": 40,
   "id": "b72b67ae",
   "metadata": {},
   "outputs": [
    {
     "data": {
      "text/plain": [
       "'science'"
      ]
     },
     "execution_count": 40,
     "metadata": {},
     "output_type": "execute_result"
    }
   ],
   "source": [
    "#pour enlever les espaces unutiles\n",
    "chaine.strip()"
   ]
  },
  {
   "cell_type": "code",
   "execution_count": 35,
   "id": "e94d423d",
   "metadata": {},
   "outputs": [
    {
     "data": {
      "text/plain": [
       "False"
      ]
     },
     "execution_count": 35,
     "metadata": {},
     "output_type": "execute_result"
    }
   ],
   "source": [
    "#voir si la chaine commence par un caractères ou un sous chaines\n",
    "chaine.startswith('ch')"
   ]
  },
  {
   "cell_type": "code",
   "execution_count": 36,
   "id": "09063c35",
   "metadata": {},
   "outputs": [
    {
     "data": {
      "text/plain": [
       "False"
      ]
     },
     "execution_count": 36,
     "metadata": {},
     "output_type": "execute_result"
    }
   ],
   "source": [
    "chaine.endswith('e')\n"
   ]
  },
  {
   "cell_type": "code",
   "execution_count": 43,
   "id": "0cc38dc0",
   "metadata": {},
   "outputs": [
    {
     "data": {
      "text/plain": [
       "True"
      ]
     },
     "execution_count": 43,
     "metadata": {},
     "output_type": "execute_result"
    }
   ],
   "source": [
    "#string/char contains in \n",
    "\"en\" in chaine"
   ]
  },
  {
   "cell_type": "code",
   "execution_count": 41,
   "id": "0eee06ad",
   "metadata": {},
   "outputs": [
    {
     "data": {
      "text/plain": [
       "10"
      ]
     },
     "execution_count": 41,
     "metadata": {},
     "output_type": "execute_result"
    }
   ],
   "source": [
    "len(chaine)"
   ]
  },
  {
   "cell_type": "code",
   "execution_count": 45,
   "id": "0de28151",
   "metadata": {},
   "outputs": [
    {
     "data": {
      "text/plain": [
       "['name', 'lastname', 'age']"
      ]
     },
     "execution_count": 45,
     "metadata": {},
     "output_type": "execute_result"
    }
   ],
   "source": [
    "\"name,lastname,age\".split(\",\")"
   ]
  },
  {
   "cell_type": "markdown",
   "id": "b22d03c1",
   "metadata": {},
   "source": [
    "#### Les dictionnaires - { }\n",
    "Un dictionnaire est une structure de données qui permet de stocker des paires clé-valeur. \n",
    "\n",
    "Les clés sont des objets immuables (par exemple des chaînes de caractères, des nombres ou des tuples), tandis que les valeurs peuvent être de n'importe quel type d'objet, y compris des listes, des dictionnaires, des fonctions ou des classes.\n",
    "\n",
    "Exemple:\n",
    "notes = {\"Alice\": 15, \"Bob\": 12, \"Charlie\": 18, \"David\": 14}\n"
   ]
  },
  {
   "cell_type": "code",
   "execution_count": 46,
   "id": "1ccadccc",
   "metadata": {},
   "outputs": [],
   "source": [
    "notes = {\"Alice\": 15, \"Bob\": 12, \"Charlie\": 18, \"David\": 14}"
   ]
  },
  {
   "cell_type": "code",
   "execution_count": 47,
   "id": "4faecdeb",
   "metadata": {},
   "outputs": [
    {
     "name": "stdout",
     "output_type": "stream",
     "text": [
      "{'Alice': 15, 'Bob': 12, 'Charlie': 18, 'David': 14}\n"
     ]
    }
   ],
   "source": [
    "print(notes)"
   ]
  },
  {
   "cell_type": "code",
   "execution_count": 50,
   "id": "1376072a",
   "metadata": {},
   "outputs": [
    {
     "data": {
      "text/plain": [
       "15"
      ]
     },
     "execution_count": 50,
     "metadata": {},
     "output_type": "execute_result"
    }
   ],
   "source": [
    "#acceder aux éléments, les clées sont uniques\n",
    "notes[\"Alice\"]"
   ]
  },
  {
   "cell_type": "code",
   "execution_count": 54,
   "id": "a9d40c90",
   "metadata": {},
   "outputs": [],
   "source": []
  },
  {
   "cell_type": "code",
   "execution_count": 55,
   "id": "46613b1c",
   "metadata": {},
   "outputs": [],
   "source": [
    "#acceder aux éléments, return None=Null si cette clée n'est pas dans le dictionnaire\n",
    "notes.get(\"Alice\")"
   ]
  },
  {
   "cell_type": "code",
   "execution_count": 56,
   "id": "7284d23a",
   "metadata": {},
   "outputs": [
    {
     "data": {
      "text/plain": [
       "0"
      ]
     },
     "execution_count": 56,
     "metadata": {},
     "output_type": "execute_result"
    }
   ],
   "source": [
    "notes.get('Muha', 0)"
   ]
  },
  {
   "cell_type": "code",
   "execution_count": 89,
   "id": "bc35681f",
   "metadata": {},
   "outputs": [],
   "source": [
    "#modification\n",
    "notes[\"Alice\"] = 35"
   ]
  },
  {
   "cell_type": "code",
   "execution_count": 74,
   "id": "0be1fee5",
   "metadata": {},
   "outputs": [
    {
     "data": {
      "text/plain": [
       "dict_keys(['Alice', 'Bob', 'Charlie', 'David'])"
      ]
     },
     "execution_count": 74,
     "metadata": {},
     "output_type": "execute_result"
    }
   ],
   "source": [
    "#les cles du dict\n",
    "notes.keys()"
   ]
  },
  {
   "cell_type": "code",
   "execution_count": 75,
   "id": "73bb8c88",
   "metadata": {},
   "outputs": [
    {
     "data": {
      "text/plain": [
       "dict_values([166, 12, 18, 14])"
      ]
     },
     "execution_count": 75,
     "metadata": {},
     "output_type": "execute_result"
    }
   ],
   "source": [
    "#les valeurs du dict\n",
    "notes.values()"
   ]
  },
  {
   "cell_type": "code",
   "execution_count": 59,
   "id": "f06f7c67",
   "metadata": {},
   "outputs": [
    {
     "data": {
      "text/plain": [
       "dict_items([('Alice', 20), ('Bob', 17), ('Charlie', 23), ('David', 19)])"
      ]
     },
     "execution_count": 59,
     "metadata": {},
     "output_type": "execute_result"
    }
   ],
   "source": [
    "#cles et valeurs\n",
    "notes.items()"
   ]
  },
  {
   "cell_type": "code",
   "execution_count": 60,
   "id": "05fccdc0",
   "metadata": {},
   "outputs": [],
   "source": [
    "#parcourir un dictionnaire\n",
    "for key, val in notes.items():\n",
    "    notes[key]=val + 5"
   ]
  },
  {
   "cell_type": "code",
   "execution_count": 61,
   "id": "1d0b3846",
   "metadata": {},
   "outputs": [
    {
     "data": {
      "text/plain": [
       "{'Alice': 25, 'Bob': 22, 'Charlie': 28, 'David': 24}"
      ]
     },
     "execution_count": 61,
     "metadata": {},
     "output_type": "execute_result"
    }
   ],
   "source": [
    "notes"
   ]
  },
  {
   "cell_type": "code",
   "execution_count": 62,
   "id": "ec86697e",
   "metadata": {},
   "outputs": [],
   "source": [
    "notes.update({\"new_student\": 30})"
   ]
  },
  {
   "cell_type": "code",
   "execution_count": 63,
   "id": "10300f78",
   "metadata": {},
   "outputs": [
    {
     "data": {
      "text/plain": [
       "{'Alice': 25, 'Bob': 22, 'Charlie': 28, 'David': 24, 'MNS': 30}"
      ]
     },
     "execution_count": 63,
     "metadata": {},
     "output_type": "execute_result"
    }
   ],
   "source": [
    "notes"
   ]
  },
  {
   "cell_type": "code",
   "execution_count": 65,
   "id": "ce79f83a",
   "metadata": {},
   "outputs": [],
   "source": [
    "#remove element \n",
    "val = notes.pop('Alice')"
   ]
  },
  {
   "cell_type": "code",
   "execution_count": 66,
   "id": "8f400190",
   "metadata": {},
   "outputs": [
    {
     "data": {
      "text/plain": [
       "{'Bob': 22, 'Charlie': 28, 'David': 24, 'MNS': 30}"
      ]
     },
     "execution_count": 66,
     "metadata": {},
     "output_type": "execute_result"
    }
   ],
   "source": [
    "notes"
   ]
  },
  {
   "cell_type": "code",
   "execution_count": 37,
   "id": "62afc5df",
   "metadata": {},
   "outputs": [
    {
     "data": {
      "text/plain": [
       "True"
      ]
     },
     "execution_count": 37,
     "metadata": {},
     "output_type": "execute_result"
    }
   ],
   "source": [
    "'Charlie' in notes"
   ]
  },
  {
   "cell_type": "markdown",
   "id": "14a2426e",
   "metadata": {},
   "source": [
    "#### Les tuples - ( )\n",
    "Un tuple est une structure de données similaire à une liste, mais qui est immuable, c'est-à-dire que ses éléments ne peuvent pas être modifiés une fois qu'ils ont été créés.\n",
    "\n",
    "Exemple: coordonnees = (2.5, 3.7)"
   ]
  },
  {
   "cell_type": "code",
   "execution_count": 67,
   "id": "c3a2ad4f",
   "metadata": {},
   "outputs": [],
   "source": [
    "coordonnees = (2.5, 3.7, 5)"
   ]
  },
  {
   "cell_type": "code",
   "execution_count": 95,
   "id": "3c569fc7",
   "metadata": {},
   "outputs": [
    {
     "data": {
      "text/plain": [
       "0"
      ]
     },
     "execution_count": 95,
     "metadata": {},
     "output_type": "execute_result"
    }
   ],
   "source": [
    "#acces par indexs\n",
    "coordonnees.index(2.5)"
   ]
  },
  {
   "cell_type": "code",
   "execution_count": 68,
   "id": "bc94fe12",
   "metadata": {},
   "outputs": [
    {
     "ename": "TypeError",
     "evalue": "'tuple' object does not support item assignment",
     "output_type": "error",
     "traceback": [
      "\u001b[0;31m---------------------------------------------------------------------------\u001b[0m",
      "\u001b[0;31mTypeError\u001b[0m                                 Traceback (most recent call last)",
      "Cell \u001b[0;32mIn[68], line 1\u001b[0m\n\u001b[0;32m----> 1\u001b[0m \u001b[43mcoordonnees\u001b[49m\u001b[43m[\u001b[49m\u001b[38;5;241;43m0\u001b[39;49m\u001b[43m]\u001b[49m\u001b[38;5;241m=\u001b[39m\u001b[38;5;241m4\u001b[39m\n",
      "\u001b[0;31mTypeError\u001b[0m: 'tuple' object does not support item assignment"
     ]
    }
   ],
   "source": []
  },
  {
   "cell_type": "markdown",
   "id": "aed1148a",
   "metadata": {},
   "source": [
    "#### Les ensembles\n",
    "Ils sont représentés par des {}\n",
    "\n",
    "N'accepte pas les doublons et l'accès ne se fait pas par index\n",
    "\n",
    "\n",
    "Exemple {3,4,5}"
   ]
  },
  {
   "cell_type": "code",
   "execution_count": 72,
   "id": "d855e822",
   "metadata": {},
   "outputs": [
    {
     "data": {
      "text/plain": [
       "{3, 4, 5}"
      ]
     },
     "execution_count": 72,
     "metadata": {},
     "output_type": "execute_result"
    }
   ],
   "source": [
    "my_first_set = {3,4,5, 5}\n",
    "my_first_set"
   ]
  },
  {
   "cell_type": "code",
   "execution_count": 76,
   "id": "01f8b3a2",
   "metadata": {},
   "outputs": [
    {
     "data": {
      "text/plain": [
       "[4, 5, 6]"
      ]
     },
     "execution_count": 76,
     "metadata": {},
     "output_type": "execute_result"
    }
   ],
   "source": []
  },
  {
   "cell_type": "code",
   "execution_count": 75,
   "id": "89195592",
   "metadata": {},
   "outputs": [
    {
     "data": {
      "text/plain": [
       "{4, 5, 6}"
      ]
     },
     "execution_count": 75,
     "metadata": {},
     "output_type": "execute_result"
    }
   ],
   "source": [
    "my_set = set((4,5,6,5))\n",
    "my_set"
   ]
  },
  {
   "cell_type": "code",
   "execution_count": 74,
   "id": "5c75b248",
   "metadata": {},
   "outputs": [
    {
     "name": "stdout",
     "output_type": "stream",
     "text": [
      "4\n",
      "5\n",
      "6\n"
     ]
    }
   ],
   "source": [
    "for x in my_set:\n",
    "    print(x)"
   ]
  },
  {
   "cell_type": "markdown",
   "id": "c1bd27b5",
   "metadata": {},
   "source": [
    "### Les dataframes \n",
    "\n",
    "Un dataframe est une structure de données bidimensionnelle qui permet de stocker et de manipuler des données tabulaires. Les dataframes sont particulièrement utiles pour travailler avec des données structurées telles que des feuilles de calcul, des tables de base de données et des fichiers CSV, parquet."
   ]
  },
  {
   "cell_type": "code",
   "execution_count": null,
   "id": "7b5bfdc4",
   "metadata": {},
   "outputs": [],
   "source": [
    "pd.DataFrame"
   ]
  },
  {
   "cell_type": "code",
   "execution_count": 81,
   "id": "b29ed6a4",
   "metadata": {},
   "outputs": [],
   "source": [
    "#from pandas import DataFrame"
   ]
  },
  {
   "cell_type": "code",
   "execution_count": 78,
   "id": "866c39cb",
   "metadata": {},
   "outputs": [],
   "source": [
    "import pandas as pd\n"
   ]
  },
  {
   "cell_type": "code",
   "execution_count": 79,
   "id": "e2987827",
   "metadata": {},
   "outputs": [
    {
     "data": {
      "text/html": [
       "<div>\n",
       "<style scoped>\n",
       "    .dataframe tbody tr th:only-of-type {\n",
       "        vertical-align: middle;\n",
       "    }\n",
       "\n",
       "    .dataframe tbody tr th {\n",
       "        vertical-align: top;\n",
       "    }\n",
       "\n",
       "    .dataframe thead th {\n",
       "        text-align: right;\n",
       "    }\n",
       "</style>\n",
       "<table border=\"1\" class=\"dataframe\">\n",
       "  <thead>\n",
       "    <tr style=\"text-align: right;\">\n",
       "      <th></th>\n",
       "      <th>col1</th>\n",
       "      <th>col2</th>\n",
       "    </tr>\n",
       "  </thead>\n",
       "  <tbody>\n",
       "    <tr>\n",
       "      <th>0</th>\n",
       "      <td>4</td>\n",
       "      <td>7</td>\n",
       "    </tr>\n",
       "    <tr>\n",
       "      <th>1</th>\n",
       "      <td>5</td>\n",
       "      <td>8</td>\n",
       "    </tr>\n",
       "  </tbody>\n",
       "</table>\n",
       "</div>"
      ],
      "text/plain": [
       "   col1  col2\n",
       "0     4     7\n",
       "1     5     8"
      ]
     },
     "execution_count": 79,
     "metadata": {},
     "output_type": "execute_result"
    }
   ],
   "source": [
    "pd.DataFrame({\"col1\":[4,5],\n",
    "\"col2\": [7,8]})"
   ]
  },
  {
   "cell_type": "code",
   "execution_count": 83,
   "id": "a73bb39f",
   "metadata": {},
   "outputs": [],
   "source": [
    "fruits = [\n",
    "    {\"nom\": \"pomme\", \"couleur\": \"rouge\", \"prix\": 0.5},\n",
    "    {\"nom\": \"banane\", \"couleur\": \"jaune\", \"prix\": 0.2},\n",
    "    {\"nom\": \"orange\", \"couleur\": \"orange\", \"prix\": 0.3},\n",
    "    {\"nom\": \"pomme\", \"couleur\": \"rouge\", \"prix\": 0.5},\n",
    "    {\"nom\": \"banane\", \"couleur\": \"jaune\", \"prix\": 0.2},\n",
    "    {\"nom\": \"orange\", \"couleur\": \"orange\", \"prix\": 0.3},\n",
    "]\n"
   ]
  },
  {
   "cell_type": "code",
   "execution_count": 84,
   "id": "0d5bd687",
   "metadata": {},
   "outputs": [],
   "source": [
    "\n",
    "df_fruits = pd.DataFrame(fruits)"
   ]
  },
  {
   "cell_type": "code",
   "execution_count": 85,
   "id": "f2cbf431",
   "metadata": {},
   "outputs": [
    {
     "data": {
      "text/html": [
       "<div>\n",
       "<style scoped>\n",
       "    .dataframe tbody tr th:only-of-type {\n",
       "        vertical-align: middle;\n",
       "    }\n",
       "\n",
       "    .dataframe tbody tr th {\n",
       "        vertical-align: top;\n",
       "    }\n",
       "\n",
       "    .dataframe thead th {\n",
       "        text-align: right;\n",
       "    }\n",
       "</style>\n",
       "<table border=\"1\" class=\"dataframe\">\n",
       "  <thead>\n",
       "    <tr style=\"text-align: right;\">\n",
       "      <th></th>\n",
       "      <th>nom</th>\n",
       "      <th>couleur</th>\n",
       "      <th>prix</th>\n",
       "    </tr>\n",
       "  </thead>\n",
       "  <tbody>\n",
       "    <tr>\n",
       "      <th>0</th>\n",
       "      <td>pomme</td>\n",
       "      <td>rouge</td>\n",
       "      <td>0.5</td>\n",
       "    </tr>\n",
       "    <tr>\n",
       "      <th>1</th>\n",
       "      <td>banane</td>\n",
       "      <td>jaune</td>\n",
       "      <td>0.2</td>\n",
       "    </tr>\n",
       "    <tr>\n",
       "      <th>2</th>\n",
       "      <td>orange</td>\n",
       "      <td>orange</td>\n",
       "      <td>0.3</td>\n",
       "    </tr>\n",
       "    <tr>\n",
       "      <th>3</th>\n",
       "      <td>pomme</td>\n",
       "      <td>rouge</td>\n",
       "      <td>0.5</td>\n",
       "    </tr>\n",
       "    <tr>\n",
       "      <th>4</th>\n",
       "      <td>banane</td>\n",
       "      <td>jaune</td>\n",
       "      <td>0.2</td>\n",
       "    </tr>\n",
       "    <tr>\n",
       "      <th>5</th>\n",
       "      <td>orange</td>\n",
       "      <td>orange</td>\n",
       "      <td>0.3</td>\n",
       "    </tr>\n",
       "  </tbody>\n",
       "</table>\n",
       "</div>"
      ],
      "text/plain": [
       "      nom couleur  prix\n",
       "0   pomme   rouge   0.5\n",
       "1  banane   jaune   0.2\n",
       "2  orange  orange   0.3\n",
       "3   pomme   rouge   0.5\n",
       "4  banane   jaune   0.2\n",
       "5  orange  orange   0.3"
      ]
     },
     "execution_count": 85,
     "metadata": {},
     "output_type": "execute_result"
    }
   ],
   "source": [
    "df_fruits"
   ]
  },
  {
   "cell_type": "code",
   "execution_count": 86,
   "id": "2d2ed9ec",
   "metadata": {},
   "outputs": [
    {
     "data": {
      "text/html": [
       "<div>\n",
       "<style scoped>\n",
       "    .dataframe tbody tr th:only-of-type {\n",
       "        vertical-align: middle;\n",
       "    }\n",
       "\n",
       "    .dataframe tbody tr th {\n",
       "        vertical-align: top;\n",
       "    }\n",
       "\n",
       "    .dataframe thead th {\n",
       "        text-align: right;\n",
       "    }\n",
       "</style>\n",
       "<table border=\"1\" class=\"dataframe\">\n",
       "  <thead>\n",
       "    <tr style=\"text-align: right;\">\n",
       "      <th></th>\n",
       "      <th>nom</th>\n",
       "      <th>couleur</th>\n",
       "      <th>prix</th>\n",
       "    </tr>\n",
       "  </thead>\n",
       "  <tbody>\n",
       "    <tr>\n",
       "      <th>0</th>\n",
       "      <td>pomme</td>\n",
       "      <td>rouge</td>\n",
       "      <td>0.5</td>\n",
       "    </tr>\n",
       "    <tr>\n",
       "      <th>1</th>\n",
       "      <td>banane</td>\n",
       "      <td>jaune</td>\n",
       "      <td>0.2</td>\n",
       "    </tr>\n",
       "    <tr>\n",
       "      <th>2</th>\n",
       "      <td>orange</td>\n",
       "      <td>orange</td>\n",
       "      <td>0.3</td>\n",
       "    </tr>\n",
       "    <tr>\n",
       "      <th>3</th>\n",
       "      <td>pomme</td>\n",
       "      <td>rouge</td>\n",
       "      <td>0.5</td>\n",
       "    </tr>\n",
       "    <tr>\n",
       "      <th>4</th>\n",
       "      <td>banane</td>\n",
       "      <td>jaune</td>\n",
       "      <td>0.2</td>\n",
       "    </tr>\n",
       "  </tbody>\n",
       "</table>\n",
       "</div>"
      ],
      "text/plain": [
       "      nom couleur  prix\n",
       "0   pomme   rouge   0.5\n",
       "1  banane   jaune   0.2\n",
       "2  orange  orange   0.3\n",
       "3   pomme   rouge   0.5\n",
       "4  banane   jaune   0.2"
      ]
     },
     "execution_count": 86,
     "metadata": {},
     "output_type": "execute_result"
    }
   ],
   "source": [
    "# afficher les cinq premiers éléments\n",
    "df_fruits.head()\n"
   ]
  },
  {
   "cell_type": "code",
   "execution_count": 87,
   "id": "f2856477",
   "metadata": {},
   "outputs": [
    {
     "name": "stdout",
     "output_type": "stream",
     "text": [
      "<class 'pandas.core.frame.DataFrame'>\n",
      "RangeIndex: 6 entries, 0 to 5\n",
      "Data columns (total 3 columns):\n",
      " #   Column   Non-Null Count  Dtype  \n",
      "---  ------   --------------  -----  \n",
      " 0   nom      6 non-null      object \n",
      " 1   couleur  6 non-null      object \n",
      " 2   prix     6 non-null      float64\n",
      "dtypes: float64(1), object(2)\n",
      "memory usage: 272.0+ bytes\n"
     ]
    }
   ],
   "source": [
    "\n",
    "df_fruits.info()\n"
   ]
  },
  {
   "cell_type": "code",
   "execution_count": 110,
   "id": "8499d9a9",
   "metadata": {},
   "outputs": [
    {
     "data": {
      "text/plain": [
       "nom        6\n",
       "couleur    6\n",
       "prix       6\n",
       "dtype: int64"
      ]
     },
     "execution_count": 110,
     "metadata": {},
     "output_type": "execute_result"
    }
   ],
   "source": [
    "df_fruits.count()"
   ]
  },
  {
   "cell_type": "code",
   "execution_count": 52,
   "id": "0ab6908b",
   "metadata": {},
   "outputs": [
    {
     "data": {
      "text/plain": [
       "Index(['nom', 'couleur', 'prix'], dtype='object')"
      ]
     },
     "execution_count": 52,
     "metadata": {},
     "output_type": "execute_result"
    }
   ],
   "source": [
    "df_fruits.columns"
   ]
  },
  {
   "cell_type": "code",
   "execution_count": 53,
   "id": "e5626900",
   "metadata": {},
   "outputs": [
    {
     "data": {
      "text/plain": [
       "['nom', 'couleur', 'prix']"
      ]
     },
     "execution_count": 53,
     "metadata": {},
     "output_type": "execute_result"
    }
   ],
   "source": [
    "list(df_fruits.columns)"
   ]
  },
  {
   "cell_type": "code",
   "execution_count": null,
   "id": "33141f4b",
   "metadata": {},
   "outputs": [],
   "source": []
  },
  {
   "cell_type": "code",
   "execution_count": 2,
   "id": "46337002",
   "metadata": {
    "scrolled": true
   },
   "outputs": [],
   "source": [
    "# df_fruits[\"nom\"][0] = \"cer\" "
   ]
  },
  {
   "cell_type": "code",
   "execution_count": 57,
   "id": "5fdbd97a",
   "metadata": {},
   "outputs": [
    {
     "data": {
      "text/plain": [
       "nom        pomme\n",
       "couleur    rouge\n",
       "prix         0.5\n",
       "Name: 0, dtype: object"
      ]
     },
     "execution_count": 57,
     "metadata": {},
     "output_type": "execute_result"
    }
   ],
   "source": [
    "df_fruits.loc[0]"
   ]
  },
  {
   "cell_type": "code",
   "execution_count": 88,
   "id": "c900519a",
   "metadata": {},
   "outputs": [
    {
     "data": {
      "text/html": [
       "<div>\n",
       "<style scoped>\n",
       "    .dataframe tbody tr th:only-of-type {\n",
       "        vertical-align: middle;\n",
       "    }\n",
       "\n",
       "    .dataframe tbody tr th {\n",
       "        vertical-align: top;\n",
       "    }\n",
       "\n",
       "    .dataframe thead th {\n",
       "        text-align: right;\n",
       "    }\n",
       "</style>\n",
       "<table border=\"1\" class=\"dataframe\">\n",
       "  <thead>\n",
       "    <tr style=\"text-align: right;\">\n",
       "      <th></th>\n",
       "      <th>nom</th>\n",
       "      <th>prix</th>\n",
       "    </tr>\n",
       "  </thead>\n",
       "  <tbody>\n",
       "    <tr>\n",
       "      <th>0</th>\n",
       "      <td>pomme</td>\n",
       "      <td>0.5</td>\n",
       "    </tr>\n",
       "    <tr>\n",
       "      <th>1</th>\n",
       "      <td>banane</td>\n",
       "      <td>0.2</td>\n",
       "    </tr>\n",
       "    <tr>\n",
       "      <th>2</th>\n",
       "      <td>orange</td>\n",
       "      <td>0.3</td>\n",
       "    </tr>\n",
       "    <tr>\n",
       "      <th>3</th>\n",
       "      <td>pomme</td>\n",
       "      <td>0.5</td>\n",
       "    </tr>\n",
       "    <tr>\n",
       "      <th>4</th>\n",
       "      <td>banane</td>\n",
       "      <td>0.2</td>\n",
       "    </tr>\n",
       "    <tr>\n",
       "      <th>5</th>\n",
       "      <td>orange</td>\n",
       "      <td>0.3</td>\n",
       "    </tr>\n",
       "  </tbody>\n",
       "</table>\n",
       "</div>"
      ],
      "text/plain": [
       "      nom  prix\n",
       "0   pomme   0.5\n",
       "1  banane   0.2\n",
       "2  orange   0.3\n",
       "3   pomme   0.5\n",
       "4  banane   0.2\n",
       "5  orange   0.3"
      ]
     },
     "execution_count": 88,
     "metadata": {},
     "output_type": "execute_result"
    }
   ],
   "source": [
    "df_fruits[['nom','prix']]"
   ]
  },
  {
   "cell_type": "markdown",
   "id": "df6ddb26",
   "metadata": {},
   "source": [
    "#### Les librairies\n",
    "Python dispose d'une large gamme de bibliothèques (ou packages) qui ajoutent des fonctionnalités supplémentaires au langage de programmation de base. Les bibliothèques Python peuvent être installées à partir du gestionnaire de paquets Python (pip) ou du gestionnaire de paquets système."
   ]
  },
  {
   "cell_type": "code",
   "execution_count": 128,
   "id": "3f11427e",
   "metadata": {},
   "outputs": [],
   "source": [
    "#!pip install pandas"
   ]
  }
 ],
 "metadata": {
  "kernelspec": {
   "display_name": "Python 3 (ipykernel)",
   "language": "python",
   "name": "python3"
  },
  "language_info": {
   "codemirror_mode": {
    "name": "ipython",
    "version": 3
   },
   "file_extension": ".py",
   "mimetype": "text/x-python",
   "name": "python",
   "nbconvert_exporter": "python",
   "pygments_lexer": "ipython3",
   "version": "3.10.10"
  }
 },
 "nbformat": 4,
 "nbformat_minor": 5
}
